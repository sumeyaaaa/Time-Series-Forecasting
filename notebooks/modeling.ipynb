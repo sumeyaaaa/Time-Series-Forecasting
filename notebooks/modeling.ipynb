{
 "cells": [
  {
   "cell_type": "markdown",
   "id": "57a76eec",
   "metadata": {},
   "source": [
    "\n",
    "\n",
    "# Project Notebook: Forecasting, Optimization, and Backtesting\n",
    "\n",
    "This notebook marks the final phase of our project, transitioning from model development to practical application. Here, we will use the best-performing LSTM model from Task 2 as the foundation for developing and validating a complete, data-driven investment strategy for a portfolio consisting of TSLA, SPY, and BND.\n",
    "\n",
    "The workflow is divided into three distinct stages:\n",
    "\n",
    "### ## Task 3: Forecasting Future Trends\n",
    "\n",
    "The first step is to use our trained LSTM model to look beyond historical data and generate a forward-looking forecast for Tesla's stock price over the next 6-12 months.A simple point forecast is insufficient for making sound financial decisions, so we will also generate **95% confidence intervals** to quantify the model's uncertainty[cite: 190]. This will provide a realistic range of potential future outcomes and a clear view of the forecast's reliability over time.\n",
    "\n",
    "### ## Task 4: Optimizing the Portfolio\n",
    "\n",
    "With a forward-looking view on TSLA, we will then apply the principles of **Modern Portfolio Theory (MPT)** to construct an optimal portfolio. This involves:\n",
    "*  our LSTM forecast to set the expected return for TSLA, combined with historical returns for SPY and BND.\n",
    "* Calculating the historical covariance matrix to model the risk and co-movement of the assets.\n",
    "* Generating the **Efficient Frontier** to identify the set of portfolios that offer the highest expected return for a given level of risk.\n",
    "* From this, we will identify and recommend an optimal portfolio, such as the one with the **Maximum Sharpe Ratio**.\n",
    "\n",
    "### ## Task 5: Backtesting the Strategy\n",
    "\n",
    "Finally, a forecast and an optimized portfolio are merely hypotheses. We will conduct an experiment to validate our strategy by performing a **backtest**[cite: 220].This involves simulating how our model-driven portfolio would have performed over the last year of historical data[cite: 223].We will compare its performance against a simple **60% SPY / 40% BND benchmark portfolio** to objectively measure its effectiveness and draw conclusions about the viability of our approach[cite: 224, 233]."
   ]
  },
  {
   "cell_type": "code",
   "execution_count": 1,
   "id": "08517832",
   "metadata": {},
   "outputs": [],
   "source": [
    "import sys\n",
    "import os\n",
    "\n",
    "# Add the project root to sys.path\n",
    "project_root = os.path.abspath(os.path.join(os.getcwd(), \"..\"))\n",
    "sys.path.append(project_root)\n",
    "\n",
    "sys.path.append(os.path.abspath(\"../src\"))\n",
    "\n",
    "\n",
    "\n"
   ]
  },
  {
   "cell_type": "code",
   "execution_count": 2,
   "id": "9dcb4a88",
   "metadata": {},
   "outputs": [],
   "source": [
    "import sys\n",
    "import os\n",
    "\n",
    "# Add the project root to sys.path\n",
    "project_root = os.path.abspath(os.path.join(os.getcwd(), \"..\"))\n",
    "sys.path.append(project_root)\n",
    "\n",
    "sys.path.append(os.path.abspath(\"../src\"))\n",
    "\n",
    "\n",
    "\n"
   ]
  },
  {
   "cell_type": "code",
   "execution_count": 3,
   "id": "25c8aaea",
   "metadata": {},
   "outputs": [],
   "source": [
    "import pandas as pd\n",
    "import numpy as np\n",
    "import pandas as pd\n",
    "import numpy as np\n",
    "import matplotlib.pyplot as plt\n",
    "from sklearn.preprocessing import MinMaxScaler\n",
    "from src.yf_tesla_modeling import find_best_arima_params,forecast_with_arima,train_arima_model,evaluate_forecast,create_dataset,build_and_train_lstm,predict_and_evaluate_lstm# Plot the training data, actual test data, and the forecast to see how well the model did"
   ]
  },
  {
   "cell_type": "code",
   "execution_count": 4,
   "id": "a8b8e58e",
   "metadata": {},
   "outputs": [],
   "source": [
    "data = pd.read_csv(r\"C:\\Users\\ABC\\Desktop\\10Acadamy\\week_11\\Time-Series-Forecasting\\data\\combined_2015-07-01_to_2025-08-01.csv\")\n"
   ]
  },
  {
   "cell_type": "code",
   "execution_count": 5,
   "id": "4eb9b7c9",
   "metadata": {},
   "outputs": [
    {
     "name": "stdout",
     "output_type": "stream",
     "text": [
      "Data loaded and prepared successfully!\n",
      "Here are the first 5 rows of your clean TSLA data:\n",
      "            Adj Close\n",
      "Date                 \n",
      "2015-07-01  17.943333\n",
      "2015-07-02  18.667999\n",
      "2015-07-03  18.667999\n",
      "2015-07-06  18.648001\n",
      "2015-07-07  17.858667\n"
     ]
    }
   ],
   "source": [
    "# --- 2. Prepare the DataFrame ---\n",
    "# Convert the 'Date' column into a proper datetime format\n",
    "data['Date'] = pd.to_datetime(data['Date'])\n",
    "\n",
    "# Set the 'Date' column as the index, which is standard for time series analysis\n",
    "data.set_index('Date', inplace=True)\n",
    "\n",
    "# --- 3. Select and Clean the TSLA Data (as we discussed) ---\n",
    "# Now you can select the 'TSLA.Adj Close' column, which we know exists\n",
    "tsla_df = data[['TSLA.Adj Close']]\n",
    "\n",
    "# Rename the column to make the rest of the code simpler\n",
    "tsla_df = tsla_df.rename(columns={'TSLA.Adj Close': 'Adj Close'})\n",
    "\n",
    "# Clean the data to ensure business day frequency and fill gaps\n",
    "tsla_df = tsla_df.asfreq('B').ffill().bfill()\n",
    "\n",
    "\n",
    "# --- 4. Verify the result ---\n",
    "print(\"Data loaded and prepared successfully!\")\n",
    "print(\"Here are the first 5 rows of your clean TSLA data:\")\n",
    "print(tsla_df.head())"
   ]
  },
  {
   "cell_type": "code",
   "execution_count": 6,
   "id": "3c013d8b",
   "metadata": {},
   "outputs": [],
   "source": [
    "# Cell 1: Imports and Setup\n",
    "import yfinance as yf\n",
    " # Assuming your file is named arima_modeler.py\n",
    "\n",
    "split_date = '2024-01-01'\n",
    "train = tsla_df[tsla_df.index < split_date]"
   ]
  },
  {
   "cell_type": "code",
   "execution_count": 7,
   "id": "bc310243",
   "metadata": {},
   "outputs": [
    {
     "name": "stdout",
     "output_type": "stream",
     "text": [
      "Total number of missing values: 0\n"
     ]
    }
   ],
   "source": [
    "# This will count the total number of missing values in the 'Adj Close' column\n",
    "missing_value_count = data['TSLA.Adj Close'].isnull().sum()\n",
    "\n",
    "print(f\"Total number of missing values: {missing_value_count}\")"
   ]
  },
  {
   "cell_type": "code",
   "execution_count": 8,
   "id": "8ecd8728",
   "metadata": {},
   "outputs": [
    {
     "name": "stdout",
     "output_type": "stream",
     "text": [
      "The actual column names are:\n",
      "Index(['TSLA.Open', 'TSLA.High', 'TSLA.Low', 'TSLA.Close', 'TSLA.Adj Close',\n",
      "       'TSLA.Volume', 'SPY.Open', 'SPY.High', 'SPY.Low', 'SPY.Close',\n",
      "       'SPY.Adj Close', 'SPY.Volume', 'BND.Open', 'BND.High', 'BND.Low',\n",
      "       'BND.Close', 'BND.Adj Close', 'BND.Volume'],\n",
      "      dtype='object')\n"
     ]
    }
   ],
   "source": [
    "# This line will print the actual column names in your DataFrame\n",
    "print(\"The actual column names are:\")\n",
    "print(data.columns)"
   ]
  },
  {
   "cell_type": "code",
   "execution_count": 9,
   "id": "ecc9e821",
   "metadata": {},
   "outputs": [
    {
     "name": "stdout",
     "output_type": "stream",
     "text": [
      "TSLA.Open         float64\n",
      "TSLA.High         float64\n",
      "TSLA.Low          float64\n",
      "TSLA.Close        float64\n",
      "TSLA.Adj Close    float64\n",
      "TSLA.Volume         int64\n",
      "SPY.Open          float64\n",
      "SPY.High          float64\n",
      "SPY.Low           float64\n",
      "SPY.Close         float64\n",
      "SPY.Adj Close     float64\n",
      "SPY.Volume          int64\n",
      "BND.Open          float64\n",
      "BND.High          float64\n",
      "BND.Low           float64\n",
      "BND.Close         float64\n",
      "BND.Adj Close     float64\n",
      "BND.Volume          int64\n",
      "dtype: object\n"
     ]
    }
   ],
   "source": [
    "# Assuming 'combined_df' is your DataFrame\n",
    "print(data.dtypes)"
   ]
  },
  {
   "cell_type": "code",
   "execution_count": 10,
   "id": "21403ff1",
   "metadata": {},
   "outputs": [
    {
     "name": "stdout",
     "output_type": "stream",
     "text": [
      "Running auto_arima to find the best model parameters...\n",
      "Performing stepwise search to minimize aic\n"
     ]
    },
    {
     "name": "stderr",
     "output_type": "stream",
     "text": [
      "c:\\Users\\ABC\\Desktop\\10Acadamy\\week_11\\Time-Series-Forecasting\\.venv\\Lib\\site-packages\\sklearn\\utils\\deprecation.py:132: FutureWarning: 'force_all_finite' was renamed to 'ensure_all_finite' in 1.6 and will be removed in 1.8.\n",
      "  warnings.warn(\n",
      "c:\\Users\\ABC\\Desktop\\10Acadamy\\week_11\\Time-Series-Forecasting\\.venv\\Lib\\site-packages\\sklearn\\utils\\deprecation.py:132: FutureWarning: 'force_all_finite' was renamed to 'ensure_all_finite' in 1.6 and will be removed in 1.8.\n",
      "  warnings.warn(\n",
      "c:\\Users\\ABC\\Desktop\\10Acadamy\\week_11\\Time-Series-Forecasting\\.venv\\Lib\\site-packages\\sklearn\\utils\\deprecation.py:132: FutureWarning: 'force_all_finite' was renamed to 'ensure_all_finite' in 1.6 and will be removed in 1.8.\n",
      "  warnings.warn(\n",
      "c:\\Users\\ABC\\Desktop\\10Acadamy\\week_11\\Time-Series-Forecasting\\.venv\\Lib\\site-packages\\sklearn\\utils\\deprecation.py:132: FutureWarning: 'force_all_finite' was renamed to 'ensure_all_finite' in 1.6 and will be removed in 1.8.\n",
      "  warnings.warn(\n",
      "c:\\Users\\ABC\\Desktop\\10Acadamy\\week_11\\Time-Series-Forecasting\\.venv\\Lib\\site-packages\\sklearn\\utils\\deprecation.py:132: FutureWarning: 'force_all_finite' was renamed to 'ensure_all_finite' in 1.6 and will be removed in 1.8.\n",
      "  warnings.warn(\n",
      "c:\\Users\\ABC\\Desktop\\10Acadamy\\week_11\\Time-Series-Forecasting\\.venv\\Lib\\site-packages\\sklearn\\utils\\deprecation.py:132: FutureWarning: 'force_all_finite' was renamed to 'ensure_all_finite' in 1.6 and will be removed in 1.8.\n",
      "  warnings.warn(\n",
      "c:\\Users\\ABC\\Desktop\\10Acadamy\\week_11\\Time-Series-Forecasting\\.venv\\Lib\\site-packages\\sklearn\\utils\\deprecation.py:132: FutureWarning: 'force_all_finite' was renamed to 'ensure_all_finite' in 1.6 and will be removed in 1.8.\n",
      "  warnings.warn(\n",
      "c:\\Users\\ABC\\Desktop\\10Acadamy\\week_11\\Time-Series-Forecasting\\.venv\\Lib\\site-packages\\sklearn\\utils\\deprecation.py:132: FutureWarning: 'force_all_finite' was renamed to 'ensure_all_finite' in 1.6 and will be removed in 1.8.\n",
      "  warnings.warn(\n",
      "c:\\Users\\ABC\\Desktop\\10Acadamy\\week_11\\Time-Series-Forecasting\\.venv\\Lib\\site-packages\\sklearn\\utils\\deprecation.py:132: FutureWarning: 'force_all_finite' was renamed to 'ensure_all_finite' in 1.6 and will be removed in 1.8.\n",
      "  warnings.warn(\n"
     ]
    },
    {
     "name": "stdout",
     "output_type": "stream",
     "text": [
      " ARIMA(1,1,1)(0,0,0)[0] intercept   : AIC=14066.624, Time=3.92 sec\n"
     ]
    },
    {
     "name": "stderr",
     "output_type": "stream",
     "text": [
      "c:\\Users\\ABC\\Desktop\\10Acadamy\\week_11\\Time-Series-Forecasting\\.venv\\Lib\\site-packages\\sklearn\\utils\\deprecation.py:132: FutureWarning: 'force_all_finite' was renamed to 'ensure_all_finite' in 1.6 and will be removed in 1.8.\n",
      "  warnings.warn(\n"
     ]
    },
    {
     "name": "stdout",
     "output_type": "stream",
     "text": [
      " ARIMA(0,1,0)(0,0,0)[0] intercept   : AIC=14065.901, Time=0.58 sec\n"
     ]
    },
    {
     "name": "stderr",
     "output_type": "stream",
     "text": [
      "c:\\Users\\ABC\\Desktop\\10Acadamy\\week_11\\Time-Series-Forecasting\\.venv\\Lib\\site-packages\\sklearn\\utils\\deprecation.py:132: FutureWarning: 'force_all_finite' was renamed to 'ensure_all_finite' in 1.6 and will be removed in 1.8.\n",
      "  warnings.warn(\n"
     ]
    },
    {
     "name": "stdout",
     "output_type": "stream",
     "text": [
      " ARIMA(1,1,0)(0,0,0)[0] intercept   : AIC=14065.756, Time=0.82 sec\n"
     ]
    },
    {
     "name": "stderr",
     "output_type": "stream",
     "text": [
      "c:\\Users\\ABC\\Desktop\\10Acadamy\\week_11\\Time-Series-Forecasting\\.venv\\Lib\\site-packages\\sklearn\\utils\\deprecation.py:132: FutureWarning: 'force_all_finite' was renamed to 'ensure_all_finite' in 1.6 and will be removed in 1.8.\n",
      "  warnings.warn(\n"
     ]
    },
    {
     "name": "stdout",
     "output_type": "stream",
     "text": [
      " ARIMA(0,1,1)(0,0,0)[0] intercept   : AIC=14065.762, Time=1.04 sec\n"
     ]
    },
    {
     "name": "stderr",
     "output_type": "stream",
     "text": [
      "c:\\Users\\ABC\\Desktop\\10Acadamy\\week_11\\Time-Series-Forecasting\\.venv\\Lib\\site-packages\\sklearn\\utils\\deprecation.py:132: FutureWarning: 'force_all_finite' was renamed to 'ensure_all_finite' in 1.6 and will be removed in 1.8.\n",
      "  warnings.warn(\n"
     ]
    },
    {
     "name": "stdout",
     "output_type": "stream",
     "text": [
      " ARIMA(0,1,0)(0,0,0)[0]             : AIC=14064.621, Time=0.51 sec\n",
      "\n",
      "Best model:  ARIMA(0,1,0)(0,0,0)[0]          \n",
      "Total fit time: 6.965 seconds\n",
      "\n",
      "Best ARIMA order found: (0, 1, 0)\n"
     ]
    }
   ],
   "source": [
    "split_date = '2024-01-01'\n",
    "train = tsla_df[tsla_df.index < split_date]\n",
    "\n",
    "# Cell 3: Call the function and get the best order\n",
    "# Pass the correct Series to your function\n",
    "# Corrected code with .dropna()\n",
    "auto_model = find_best_arima_params(train['Adj Close'])\n",
    "\n",
    "# .order is an attribute (a variable), not a function. You access it directly.\n",
    "best_order = auto_model.order \n",
    "\n",
    "print(f\"\\nBest ARIMA order found: {best_order}\")"
   ]
  },
  {
   "cell_type": "markdown",
   "id": "e62f2352",
   "metadata": {},
   "source": [
    "This result is a classic and very important finding in financial time series analysis.\n",
    "\n",
    "The `auto_arima` function has determined that the best statistical model for the TSLA stock price data is **ARIMA(0, 1, 0)**.\n",
    "\n",
    "## What This Means: A Random Walk 🎲\n",
    "\n",
    "An ARIMA(0, 1, 0) model is known as a **Random Walk**. Let's break down what each number means:\n",
    "\n",
    "* **`p=0` (Autoregressive):** The model does not use any past price values to predict the next price.\n",
    "* **`d=1` (Integrated):** The data needed one round of differencing to become stationary. This means the model is focused on predicting the daily *change* in price, not the price level itself.\n",
    "* **`q=0` (Moving Average):** The model does not use any past forecast errors to improve its predictions.\n",
    "\n",
    "When you combine these, the model essentially says that the change in price from one day to the next is random noise. The mathematical formula for a random walk is:\n",
    "\n",
    "$$Y_t = Y_{t-1} + \\epsilon_t$$\n",
    "\n",
    "In plain English, this means:\n",
    "\n",
    "> **Tomorrow's Price = Today's Price + Unpredictable Random Change**\n",
    "\n",
    "This result strongly supports the **Efficient Market Hypothesis (EMH)**, which states that stock prices already reflect all available information. Therefore, past price movements cannot be used to predict future movements, making the daily changes effectively random.\n"
   ]
  },
  {
   "cell_type": "code",
   "execution_count": 11,
   "id": "e6e33b64",
   "metadata": {},
   "outputs": [
    {
     "name": "stdout",
     "output_type": "stream",
     "text": [
      "\n",
      "Training final ARIMA(0, 1, 0) model...\n",
      "                               SARIMAX Results                                \n",
      "==============================================================================\n",
      "Dep. Variable:              Adj Close   No. Observations:                 2218\n",
      "Model:                 ARIMA(0, 1, 0)   Log Likelihood               -7031.311\n",
      "Date:                Mon, 11 Aug 2025   AIC                          14064.621\n",
      "Time:                        22:24:53   BIC                          14070.325\n",
      "Sample:                    07-01-2015   HQIC                         14066.705\n",
      "                         - 12-29-2023                                         \n",
      "Covariance Type:                  opg                                         \n",
      "==============================================================================\n",
      "                 coef    std err          z      P>|z|      [0.025      0.975]\n",
      "------------------------------------------------------------------------------\n",
      "sigma2        33.2890      0.384     86.711      0.000      32.537      34.041\n",
      "===================================================================================\n",
      "Ljung-Box (L1) (Q):                   2.15   Jarque-Bera (JB):             12407.83\n",
      "Prob(Q):                              0.14   Prob(JB):                         0.00\n",
      "Heteroskedasticity (H):             443.26   Skew:                            -0.16\n",
      "Prob(H) (two-sided):                  0.00   Kurtosis:                        14.59\n",
      "===================================================================================\n",
      "\n",
      "Warnings:\n",
      "[1] Covariance matrix calculated using the outer product of gradients (complex-step).\n",
      "Generating forecast for the next 414 steps...\n"
     ]
    }
   ],
   "source": [
    "test = tsla_df[tsla_df.index >= split_date]\n",
    "fitted_model = train_arima_model(train['Adj Close'], best_order)\n",
    "forecast =forecast_with_arima(fitted_model, steps=len(test))\n",
    "forecast.index = test.index # Align forecast index with test set for plotting"
   ]
  },
  {
   "cell_type": "code",
   "execution_count": 12,
   "id": "73200e83",
   "metadata": {},
   "outputs": [
    {
     "name": "stdout",
     "output_type": "stream",
     "text": [
      "\n",
      "--- Forecast Evaluation Metrics ---\n",
      "Mean Absolute Error (MAE): 63.7119\n",
      "Root Mean Squared Error (RMSE): 78.9858\n",
      "Mean Absolute Percentage Error (MAPE): 0.2415\n"
     ]
    }
   ],
   "source": [
    "# Calculate and display the performance metrics.\n",
    "metrics = evaluate_forecast(test['Adj Close'], forecast)"
   ]
  },
  {
   "cell_type": "markdown",
   "id": "cb09fd85",
   "metadata": {},
   "source": [
    "Here is an interpretation of your forecast evaluation metrics.\n",
    "\n",
    "These numbers give us a clear picture of the ARIMA model's performance on the test data. In short, they indicate a significant, though not unexpected, level of error.\n",
    "\n",
    "---\n",
    "## ## Mean Absolute Error (MAE): 63.71\n",
    "\n",
    "**What it means:** This is the most straightforward metric. It tells you that, on average, the model's price forecast was off by about **$63.71** on any given day in the test period.\n",
    "\n",
    "---\n",
    "## ## Root Mean Squared Error (RMSE): 78.99\n",
    "\n",
    "**What it means:** Like MAE, this measures the average error in dollars. However, the RMSE **penalizes larger errors more heavily** than smaller ones.\n",
    "\n",
    "**The Insight:** Your RMSE (**$78.99**) is noticeably higher than your MAE (**$63.71**). This indicates that while the *average* error was around $64, there were some days where the model's forecast was *very* wrong, and these large errors are inflating the RMSE value.\n",
    "\n",
    "---\n",
    "## ## Mean Absolute Percentage Error (MAPE): 24.15%\n",
    "\n",
    "**What it means:** This is often the most intuitive metric. It shows that, on average, the model's forecast was **24.15%** different from the actual stock price.\n",
    "\n",
    "**The Insight:** An average error of over 24% is quite high and confirms that while the ARIMA model provides a statistical baseline, it is not reliable for making precise price predictions. This level of error is common when forecasting highly volatile assets, as the model struggles to predict the market's random, day-to-day movements.\n",
    "\n",
    "### Overall Assessment\n",
    "\n",
    "These results establish a clear benchmark for your classical model. The model provides a basic forecast, but the high error metrics highlight the inherent difficulty of predicting stock prices. The next step will be to see if the more complex LSTM model can improve upon these numbers."
   ]
  },
  {
   "cell_type": "code",
   "execution_count": 13,
   "id": "b03024bb",
   "metadata": {},
   "outputs": [],
   "source": [
    "# --- 1. Scale the Data ---\n",
    "# We use MinMaxScaler to scale the data between 0 and 1.\n",
    "# IMPORTANT: Fit the scaler ONLY on the training data to avoid data leakage.\n",
    "#scaler = MinMaxScaler(feature_range=(0, 1))\n",
    "#scaled_train_data = scaler.fit_transform(train)\n",
    "#scaled_test_data = scaler.transform(test)\n"
   ]
  },
  {
   "cell_type": "code",
   "execution_count": null,
   "id": "7349ea2d",
   "metadata": {},
   "outputs": [],
   "source": []
  },
  {
   "cell_type": "code",
   "execution_count": 14,
   "id": "c49e1d3b",
   "metadata": {},
   "outputs": [
    {
     "name": "stdout",
     "output_type": "stream",
     "text": [
      "Data successfully converted to sequences.\n"
     ]
    }
   ],
   "source": [
    "# --- 1. Import necessary libraries ---\n",
    "from sklearn.preprocessing import MinMaxScaler\n",
    "from tensorflow.keras.models import Sequential\n",
    "from tensorflow.keras.layers import Dense, LSTM, Dropout\n",
    "from sklearn.metrics import mean_absolute_error, mean_squared_error, mean_absolute_percentage_error\n",
    "import numpy as np\n",
    "import pandas as pd\n",
    "\n",
    "# --- 2. LSTM Data Preparation ---\n",
    "# Scale the data\n",
    "scaler = MinMaxScaler(feature_range=(0, 1))\n",
    "scaled_train_data = scaler.fit_transform(train)\n",
    "scaled_test_data = scaler.transform(test)\n",
    "\n",
    "# Create sequences function\n",
    "def create_dataset(dataset, time_step=60):\n",
    "    dataX, dataY = [], []\n",
    "    for i in range(len(dataset) - time_step):\n",
    "        a = dataset[i:(i + time_step), 0]\n",
    "        dataX.append(a)\n",
    "        dataY.append(dataset[i + time_step, 0])\n",
    "    return np.array(dataX), np.array(dataY)\n",
    "\n",
    "# Define the timestep and create the datasets\n",
    "time_step = 60\n",
    "X_train, y_train = create_dataset(scaled_train_data, time_step)\n",
    "X_test, y_test = create_dataset(scaled_test_data, time_step)\n",
    "\n",
    "# Reshape the data to 3D for the LSTM model\n",
    "X_train = X_train.reshape(X_train.shape[0], X_train.shape[1], 1)\n",
    "X_test = X_test.reshape(X_test.shape[0], X_test.shape[1], 1)\n",
    "\n",
    "\n",
    "print(\"Data successfully converted to sequences.\")\n"
   ]
  },
  {
   "cell_type": "code",
   "execution_count": 15,
   "id": "04366faf",
   "metadata": {},
   "outputs": [
    {
     "name": "stderr",
     "output_type": "stream",
     "text": [
      "c:\\Users\\ABC\\Desktop\\10Acadamy\\week_11\\Time-Series-Forecasting\\.venv\\Lib\\site-packages\\keras\\src\\layers\\rnn\\rnn.py:199: UserWarning: Do not pass an `input_shape`/`input_dim` argument to a layer. When using Sequential models, prefer using an `Input(shape)` object as the first layer in the model instead.\n",
      "  super().__init__(**kwargs)\n"
     ]
    },
    {
     "name": "stdout",
     "output_type": "stream",
     "text": [
      "--- LSTM Model Architecture ---\n"
     ]
    },
    {
     "data": {
      "text/html": [
       "<pre style=\"white-space:pre;overflow-x:auto;line-height:normal;font-family:Menlo,'DejaVu Sans Mono',consolas,'Courier New',monospace\"><span style=\"font-weight: bold\">Model: \"sequential\"</span>\n",
       "</pre>\n"
      ],
      "text/plain": [
       "\u001b[1mModel: \"sequential\"\u001b[0m\n"
      ]
     },
     "metadata": {},
     "output_type": "display_data"
    },
    {
     "data": {
      "text/html": [
       "<pre style=\"white-space:pre;overflow-x:auto;line-height:normal;font-family:Menlo,'DejaVu Sans Mono',consolas,'Courier New',monospace\">┏━━━━━━━━━━━━━━━━━━━━━━━━━━━━━━━━━┳━━━━━━━━━━━━━━━━━━━━━━━━┳━━━━━━━━━━━━━━━┓\n",
       "┃<span style=\"font-weight: bold\"> Layer (type)                    </span>┃<span style=\"font-weight: bold\"> Output Shape           </span>┃<span style=\"font-weight: bold\">       Param # </span>┃\n",
       "┡━━━━━━━━━━━━━━━━━━━━━━━━━━━━━━━━━╇━━━━━━━━━━━━━━━━━━━━━━━━╇━━━━━━━━━━━━━━━┩\n",
       "│ lstm (<span style=\"color: #0087ff; text-decoration-color: #0087ff\">LSTM</span>)                     │ (<span style=\"color: #00d7ff; text-decoration-color: #00d7ff\">None</span>, <span style=\"color: #00af00; text-decoration-color: #00af00\">60</span>, <span style=\"color: #00af00; text-decoration-color: #00af00\">50</span>)         │        <span style=\"color: #00af00; text-decoration-color: #00af00\">10,400</span> │\n",
       "├─────────────────────────────────┼────────────────────────┼───────────────┤\n",
       "│ dropout (<span style=\"color: #0087ff; text-decoration-color: #0087ff\">Dropout</span>)               │ (<span style=\"color: #00d7ff; text-decoration-color: #00d7ff\">None</span>, <span style=\"color: #00af00; text-decoration-color: #00af00\">60</span>, <span style=\"color: #00af00; text-decoration-color: #00af00\">50</span>)         │             <span style=\"color: #00af00; text-decoration-color: #00af00\">0</span> │\n",
       "├─────────────────────────────────┼────────────────────────┼───────────────┤\n",
       "│ lstm_1 (<span style=\"color: #0087ff; text-decoration-color: #0087ff\">LSTM</span>)                   │ (<span style=\"color: #00d7ff; text-decoration-color: #00d7ff\">None</span>, <span style=\"color: #00af00; text-decoration-color: #00af00\">50</span>)             │        <span style=\"color: #00af00; text-decoration-color: #00af00\">20,200</span> │\n",
       "├─────────────────────────────────┼────────────────────────┼───────────────┤\n",
       "│ dropout_1 (<span style=\"color: #0087ff; text-decoration-color: #0087ff\">Dropout</span>)             │ (<span style=\"color: #00d7ff; text-decoration-color: #00d7ff\">None</span>, <span style=\"color: #00af00; text-decoration-color: #00af00\">50</span>)             │             <span style=\"color: #00af00; text-decoration-color: #00af00\">0</span> │\n",
       "├─────────────────────────────────┼────────────────────────┼───────────────┤\n",
       "│ dense (<span style=\"color: #0087ff; text-decoration-color: #0087ff\">Dense</span>)                   │ (<span style=\"color: #00d7ff; text-decoration-color: #00d7ff\">None</span>, <span style=\"color: #00af00; text-decoration-color: #00af00\">25</span>)             │         <span style=\"color: #00af00; text-decoration-color: #00af00\">1,275</span> │\n",
       "├─────────────────────────────────┼────────────────────────┼───────────────┤\n",
       "│ dense_1 (<span style=\"color: #0087ff; text-decoration-color: #0087ff\">Dense</span>)                 │ (<span style=\"color: #00d7ff; text-decoration-color: #00d7ff\">None</span>, <span style=\"color: #00af00; text-decoration-color: #00af00\">1</span>)              │            <span style=\"color: #00af00; text-decoration-color: #00af00\">26</span> │\n",
       "└─────────────────────────────────┴────────────────────────┴───────────────┘\n",
       "</pre>\n"
      ],
      "text/plain": [
       "┏━━━━━━━━━━━━━━━━━━━━━━━━━━━━━━━━━┳━━━━━━━━━━━━━━━━━━━━━━━━┳━━━━━━━━━━━━━━━┓\n",
       "┃\u001b[1m \u001b[0m\u001b[1mLayer (type)                   \u001b[0m\u001b[1m \u001b[0m┃\u001b[1m \u001b[0m\u001b[1mOutput Shape          \u001b[0m\u001b[1m \u001b[0m┃\u001b[1m \u001b[0m\u001b[1m      Param #\u001b[0m\u001b[1m \u001b[0m┃\n",
       "┡━━━━━━━━━━━━━━━━━━━━━━━━━━━━━━━━━╇━━━━━━━━━━━━━━━━━━━━━━━━╇━━━━━━━━━━━━━━━┩\n",
       "│ lstm (\u001b[38;5;33mLSTM\u001b[0m)                     │ (\u001b[38;5;45mNone\u001b[0m, \u001b[38;5;34m60\u001b[0m, \u001b[38;5;34m50\u001b[0m)         │        \u001b[38;5;34m10,400\u001b[0m │\n",
       "├─────────────────────────────────┼────────────────────────┼───────────────┤\n",
       "│ dropout (\u001b[38;5;33mDropout\u001b[0m)               │ (\u001b[38;5;45mNone\u001b[0m, \u001b[38;5;34m60\u001b[0m, \u001b[38;5;34m50\u001b[0m)         │             \u001b[38;5;34m0\u001b[0m │\n",
       "├─────────────────────────────────┼────────────────────────┼───────────────┤\n",
       "│ lstm_1 (\u001b[38;5;33mLSTM\u001b[0m)                   │ (\u001b[38;5;45mNone\u001b[0m, \u001b[38;5;34m50\u001b[0m)             │        \u001b[38;5;34m20,200\u001b[0m │\n",
       "├─────────────────────────────────┼────────────────────────┼───────────────┤\n",
       "│ dropout_1 (\u001b[38;5;33mDropout\u001b[0m)             │ (\u001b[38;5;45mNone\u001b[0m, \u001b[38;5;34m50\u001b[0m)             │             \u001b[38;5;34m0\u001b[0m │\n",
       "├─────────────────────────────────┼────────────────────────┼───────────────┤\n",
       "│ dense (\u001b[38;5;33mDense\u001b[0m)                   │ (\u001b[38;5;45mNone\u001b[0m, \u001b[38;5;34m25\u001b[0m)             │         \u001b[38;5;34m1,275\u001b[0m │\n",
       "├─────────────────────────────────┼────────────────────────┼───────────────┤\n",
       "│ dense_1 (\u001b[38;5;33mDense\u001b[0m)                 │ (\u001b[38;5;45mNone\u001b[0m, \u001b[38;5;34m1\u001b[0m)              │            \u001b[38;5;34m26\u001b[0m │\n",
       "└─────────────────────────────────┴────────────────────────┴───────────────┘\n"
      ]
     },
     "metadata": {},
     "output_type": "display_data"
    },
    {
     "data": {
      "text/html": [
       "<pre style=\"white-space:pre;overflow-x:auto;line-height:normal;font-family:Menlo,'DejaVu Sans Mono',consolas,'Courier New',monospace\"><span style=\"font-weight: bold\"> Total params: </span><span style=\"color: #00af00; text-decoration-color: #00af00\">31,901</span> (124.61 KB)\n",
       "</pre>\n"
      ],
      "text/plain": [
       "\u001b[1m Total params: \u001b[0m\u001b[38;5;34m31,901\u001b[0m (124.61 KB)\n"
      ]
     },
     "metadata": {},
     "output_type": "display_data"
    },
    {
     "data": {
      "text/html": [
       "<pre style=\"white-space:pre;overflow-x:auto;line-height:normal;font-family:Menlo,'DejaVu Sans Mono',consolas,'Courier New',monospace\"><span style=\"font-weight: bold\"> Trainable params: </span><span style=\"color: #00af00; text-decoration-color: #00af00\">31,901</span> (124.61 KB)\n",
       "</pre>\n"
      ],
      "text/plain": [
       "\u001b[1m Trainable params: \u001b[0m\u001b[38;5;34m31,901\u001b[0m (124.61 KB)\n"
      ]
     },
     "metadata": {},
     "output_type": "display_data"
    },
    {
     "data": {
      "text/html": [
       "<pre style=\"white-space:pre;overflow-x:auto;line-height:normal;font-family:Menlo,'DejaVu Sans Mono',consolas,'Courier New',monospace\"><span style=\"font-weight: bold\"> Non-trainable params: </span><span style=\"color: #00af00; text-decoration-color: #00af00\">0</span> (0.00 B)\n",
       "</pre>\n"
      ],
      "text/plain": [
       "\u001b[1m Non-trainable params: \u001b[0m\u001b[38;5;34m0\u001b[0m (0.00 B)\n"
      ]
     },
     "metadata": {},
     "output_type": "display_data"
    },
    {
     "name": "stdout",
     "output_type": "stream",
     "text": [
      "\n",
      "--- Training the LSTM Model ---\n",
      "Epoch 1/25\n",
      "\u001b[1m68/68\u001b[0m \u001b[32m━━━━━━━━━━━━━━━━━━━━\u001b[0m\u001b[37m\u001b[0m \u001b[1m25s\u001b[0m 106ms/step - loss: 0.0104\n",
      "Epoch 2/25\n",
      "\u001b[1m68/68\u001b[0m \u001b[32m━━━━━━━━━━━━━━━━━━━━\u001b[0m\u001b[37m\u001b[0m \u001b[1m8s\u001b[0m 112ms/step - loss: 0.0027\n",
      "Epoch 3/25\n",
      "\u001b[1m68/68\u001b[0m \u001b[32m━━━━━━━━━━━━━━━━━━━━\u001b[0m\u001b[37m\u001b[0m \u001b[1m9s\u001b[0m 125ms/step - loss: 0.0022\n",
      "Epoch 4/25\n",
      "\u001b[1m68/68\u001b[0m \u001b[32m━━━━━━━━━━━━━━━━━━━━\u001b[0m\u001b[37m\u001b[0m \u001b[1m8s\u001b[0m 119ms/step - loss: 0.0019\n",
      "Epoch 5/25\n",
      "\u001b[1m68/68\u001b[0m \u001b[32m━━━━━━━━━━━━━━━━━━━━\u001b[0m\u001b[37m\u001b[0m \u001b[1m10s\u001b[0m 154ms/step - loss: 0.0017\n",
      "Epoch 6/25\n",
      "\u001b[1m68/68\u001b[0m \u001b[32m━━━━━━━━━━━━━━━━━━━━\u001b[0m\u001b[37m\u001b[0m \u001b[1m11s\u001b[0m 159ms/step - loss: 0.0015\n",
      "Epoch 7/25\n",
      "\u001b[1m68/68\u001b[0m \u001b[32m━━━━━━━━━━━━━━━━━━━━\u001b[0m\u001b[37m\u001b[0m \u001b[1m9s\u001b[0m 128ms/step - loss: 0.0017\n",
      "Epoch 8/25\n",
      "\u001b[1m68/68\u001b[0m \u001b[32m━━━━━━━━━━━━━━━━━━━━\u001b[0m\u001b[37m\u001b[0m \u001b[1m10s\u001b[0m 147ms/step - loss: 0.0017\n",
      "Epoch 9/25\n",
      "\u001b[1m68/68\u001b[0m \u001b[32m━━━━━━━━━━━━━━━━━━━━\u001b[0m\u001b[37m\u001b[0m \u001b[1m10s\u001b[0m 145ms/step - loss: 0.0013\n",
      "Epoch 10/25\n",
      "\u001b[1m68/68\u001b[0m \u001b[32m━━━━━━━━━━━━━━━━━━━━\u001b[0m\u001b[37m\u001b[0m \u001b[1m9s\u001b[0m 129ms/step - loss: 0.0013\n",
      "Epoch 11/25\n",
      "\u001b[1m68/68\u001b[0m \u001b[32m━━━━━━━━━━━━━━━━━━━━\u001b[0m\u001b[37m\u001b[0m \u001b[1m9s\u001b[0m 130ms/step - loss: 0.0013\n",
      "Epoch 12/25\n",
      "\u001b[1m68/68\u001b[0m \u001b[32m━━━━━━━━━━━━━━━━━━━━\u001b[0m\u001b[37m\u001b[0m \u001b[1m10s\u001b[0m 142ms/step - loss: 0.0012\n",
      "Epoch 13/25\n",
      "\u001b[1m68/68\u001b[0m \u001b[32m━━━━━━━━━━━━━━━━━━━━\u001b[0m\u001b[37m\u001b[0m \u001b[1m8s\u001b[0m 111ms/step - loss: 0.0012\n",
      "Epoch 14/25\n",
      "\u001b[1m68/68\u001b[0m \u001b[32m━━━━━━━━━━━━━━━━━━━━\u001b[0m\u001b[37m\u001b[0m \u001b[1m8s\u001b[0m 109ms/step - loss: 0.0012\n",
      "Epoch 15/25\n",
      "\u001b[1m68/68\u001b[0m \u001b[32m━━━━━━━━━━━━━━━━━━━━\u001b[0m\u001b[37m\u001b[0m \u001b[1m10s\u001b[0m 137ms/step - loss: 0.0012\n",
      "Epoch 16/25\n",
      "\u001b[1m68/68\u001b[0m \u001b[32m━━━━━━━━━━━━━━━━━━━━\u001b[0m\u001b[37m\u001b[0m \u001b[1m9s\u001b[0m 131ms/step - loss: 0.0012\n",
      "Epoch 17/25\n",
      "\u001b[1m68/68\u001b[0m \u001b[32m━━━━━━━━━━━━━━━━━━━━\u001b[0m\u001b[37m\u001b[0m \u001b[1m10s\u001b[0m 138ms/step - loss: 0.0012\n",
      "Epoch 18/25\n",
      "\u001b[1m68/68\u001b[0m \u001b[32m━━━━━━━━━━━━━━━━━━━━\u001b[0m\u001b[37m\u001b[0m \u001b[1m10s\u001b[0m 140ms/step - loss: 0.0011\n",
      "Epoch 19/25\n",
      "\u001b[1m68/68\u001b[0m \u001b[32m━━━━━━━━━━━━━━━━━━━━\u001b[0m\u001b[37m\u001b[0m \u001b[1m8s\u001b[0m 114ms/step - loss: 0.0012\n",
      "Epoch 20/25\n",
      "\u001b[1m68/68\u001b[0m \u001b[32m━━━━━━━━━━━━━━━━━━━━\u001b[0m\u001b[37m\u001b[0m \u001b[1m7s\u001b[0m 106ms/step - loss: 9.5554e-04\n",
      "Epoch 21/25\n",
      "\u001b[1m68/68\u001b[0m \u001b[32m━━━━━━━━━━━━━━━━━━━━\u001b[0m\u001b[37m\u001b[0m \u001b[1m9s\u001b[0m 128ms/step - loss: 0.0010\n",
      "Epoch 22/25\n",
      "\u001b[1m68/68\u001b[0m \u001b[32m━━━━━━━━━━━━━━━━━━━━\u001b[0m\u001b[37m\u001b[0m \u001b[1m9s\u001b[0m 128ms/step - loss: 0.0011\n",
      "Epoch 23/25\n",
      "\u001b[1m68/68\u001b[0m \u001b[32m━━━━━━━━━━━━━━━━━━━━\u001b[0m\u001b[37m\u001b[0m \u001b[1m10s\u001b[0m 144ms/step - loss: 9.9090e-04\n",
      "Epoch 24/25\n",
      "\u001b[1m68/68\u001b[0m \u001b[32m━━━━━━━━━━━━━━━━━━━━\u001b[0m\u001b[37m\u001b[0m \u001b[1m9s\u001b[0m 128ms/step - loss: 9.9303e-04\n",
      "Epoch 25/25\n",
      "\u001b[1m68/68\u001b[0m \u001b[32m━━━━━━━━━━━━━━━━━━━━\u001b[0m\u001b[37m\u001b[0m \u001b[1m9s\u001b[0m 133ms/step - loss: 0.0011\n",
      "\n",
      "Model training complete.\n"
     ]
    }
   ],
   "source": [
    "# Now, call the function to get your trained model\n",
    "trained_model = build_and_train_lstm(X_train, y_train, epochs=25)"
   ]
  },
  {
   "cell_type": "code",
   "execution_count": 16,
   "id": "30f4065e",
   "metadata": {},
   "outputs": [
    {
     "name": "stdout",
     "output_type": "stream",
     "text": [
      "Saving the trained model...\n",
      "Model saved to tsla_lstm_model.keras\n",
      "\n",
      "Loading the model from the file...\n",
      "Model loaded successfully.\n"
     ]
    },
    {
     "data": {
      "text/html": [
       "<pre style=\"white-space:pre;overflow-x:auto;line-height:normal;font-family:Menlo,'DejaVu Sans Mono',consolas,'Courier New',monospace\"><span style=\"font-weight: bold\">Model: \"sequential\"</span>\n",
       "</pre>\n"
      ],
      "text/plain": [
       "\u001b[1mModel: \"sequential\"\u001b[0m\n"
      ]
     },
     "metadata": {},
     "output_type": "display_data"
    },
    {
     "data": {
      "text/html": [
       "<pre style=\"white-space:pre;overflow-x:auto;line-height:normal;font-family:Menlo,'DejaVu Sans Mono',consolas,'Courier New',monospace\">┏━━━━━━━━━━━━━━━━━━━━━━━━━━━━━━━━━┳━━━━━━━━━━━━━━━━━━━━━━━━┳━━━━━━━━━━━━━━━┓\n",
       "┃<span style=\"font-weight: bold\"> Layer (type)                    </span>┃<span style=\"font-weight: bold\"> Output Shape           </span>┃<span style=\"font-weight: bold\">       Param # </span>┃\n",
       "┡━━━━━━━━━━━━━━━━━━━━━━━━━━━━━━━━━╇━━━━━━━━━━━━━━━━━━━━━━━━╇━━━━━━━━━━━━━━━┩\n",
       "│ lstm (<span style=\"color: #0087ff; text-decoration-color: #0087ff\">LSTM</span>)                     │ (<span style=\"color: #00d7ff; text-decoration-color: #00d7ff\">None</span>, <span style=\"color: #00af00; text-decoration-color: #00af00\">60</span>, <span style=\"color: #00af00; text-decoration-color: #00af00\">50</span>)         │        <span style=\"color: #00af00; text-decoration-color: #00af00\">10,400</span> │\n",
       "├─────────────────────────────────┼────────────────────────┼───────────────┤\n",
       "│ dropout (<span style=\"color: #0087ff; text-decoration-color: #0087ff\">Dropout</span>)               │ (<span style=\"color: #00d7ff; text-decoration-color: #00d7ff\">None</span>, <span style=\"color: #00af00; text-decoration-color: #00af00\">60</span>, <span style=\"color: #00af00; text-decoration-color: #00af00\">50</span>)         │             <span style=\"color: #00af00; text-decoration-color: #00af00\">0</span> │\n",
       "├─────────────────────────────────┼────────────────────────┼───────────────┤\n",
       "│ lstm_1 (<span style=\"color: #0087ff; text-decoration-color: #0087ff\">LSTM</span>)                   │ (<span style=\"color: #00d7ff; text-decoration-color: #00d7ff\">None</span>, <span style=\"color: #00af00; text-decoration-color: #00af00\">50</span>)             │        <span style=\"color: #00af00; text-decoration-color: #00af00\">20,200</span> │\n",
       "├─────────────────────────────────┼────────────────────────┼───────────────┤\n",
       "│ dropout_1 (<span style=\"color: #0087ff; text-decoration-color: #0087ff\">Dropout</span>)             │ (<span style=\"color: #00d7ff; text-decoration-color: #00d7ff\">None</span>, <span style=\"color: #00af00; text-decoration-color: #00af00\">50</span>)             │             <span style=\"color: #00af00; text-decoration-color: #00af00\">0</span> │\n",
       "├─────────────────────────────────┼────────────────────────┼───────────────┤\n",
       "│ dense (<span style=\"color: #0087ff; text-decoration-color: #0087ff\">Dense</span>)                   │ (<span style=\"color: #00d7ff; text-decoration-color: #00d7ff\">None</span>, <span style=\"color: #00af00; text-decoration-color: #00af00\">25</span>)             │         <span style=\"color: #00af00; text-decoration-color: #00af00\">1,275</span> │\n",
       "├─────────────────────────────────┼────────────────────────┼───────────────┤\n",
       "│ dense_1 (<span style=\"color: #0087ff; text-decoration-color: #0087ff\">Dense</span>)                 │ (<span style=\"color: #00d7ff; text-decoration-color: #00d7ff\">None</span>, <span style=\"color: #00af00; text-decoration-color: #00af00\">1</span>)              │            <span style=\"color: #00af00; text-decoration-color: #00af00\">26</span> │\n",
       "└─────────────────────────────────┴────────────────────────┴───────────────┘\n",
       "</pre>\n"
      ],
      "text/plain": [
       "┏━━━━━━━━━━━━━━━━━━━━━━━━━━━━━━━━━┳━━━━━━━━━━━━━━━━━━━━━━━━┳━━━━━━━━━━━━━━━┓\n",
       "┃\u001b[1m \u001b[0m\u001b[1mLayer (type)                   \u001b[0m\u001b[1m \u001b[0m┃\u001b[1m \u001b[0m\u001b[1mOutput Shape          \u001b[0m\u001b[1m \u001b[0m┃\u001b[1m \u001b[0m\u001b[1m      Param #\u001b[0m\u001b[1m \u001b[0m┃\n",
       "┡━━━━━━━━━━━━━━━━━━━━━━━━━━━━━━━━━╇━━━━━━━━━━━━━━━━━━━━━━━━╇━━━━━━━━━━━━━━━┩\n",
       "│ lstm (\u001b[38;5;33mLSTM\u001b[0m)                     │ (\u001b[38;5;45mNone\u001b[0m, \u001b[38;5;34m60\u001b[0m, \u001b[38;5;34m50\u001b[0m)         │        \u001b[38;5;34m10,400\u001b[0m │\n",
       "├─────────────────────────────────┼────────────────────────┼───────────────┤\n",
       "│ dropout (\u001b[38;5;33mDropout\u001b[0m)               │ (\u001b[38;5;45mNone\u001b[0m, \u001b[38;5;34m60\u001b[0m, \u001b[38;5;34m50\u001b[0m)         │             \u001b[38;5;34m0\u001b[0m │\n",
       "├─────────────────────────────────┼────────────────────────┼───────────────┤\n",
       "│ lstm_1 (\u001b[38;5;33mLSTM\u001b[0m)                   │ (\u001b[38;5;45mNone\u001b[0m, \u001b[38;5;34m50\u001b[0m)             │        \u001b[38;5;34m20,200\u001b[0m │\n",
       "├─────────────────────────────────┼────────────────────────┼───────────────┤\n",
       "│ dropout_1 (\u001b[38;5;33mDropout\u001b[0m)             │ (\u001b[38;5;45mNone\u001b[0m, \u001b[38;5;34m50\u001b[0m)             │             \u001b[38;5;34m0\u001b[0m │\n",
       "├─────────────────────────────────┼────────────────────────┼───────────────┤\n",
       "│ dense (\u001b[38;5;33mDense\u001b[0m)                   │ (\u001b[38;5;45mNone\u001b[0m, \u001b[38;5;34m25\u001b[0m)             │         \u001b[38;5;34m1,275\u001b[0m │\n",
       "├─────────────────────────────────┼────────────────────────┼───────────────┤\n",
       "│ dense_1 (\u001b[38;5;33mDense\u001b[0m)                 │ (\u001b[38;5;45mNone\u001b[0m, \u001b[38;5;34m1\u001b[0m)              │            \u001b[38;5;34m26\u001b[0m │\n",
       "└─────────────────────────────────┴────────────────────────┴───────────────┘\n"
      ]
     },
     "metadata": {},
     "output_type": "display_data"
    },
    {
     "data": {
      "text/html": [
       "<pre style=\"white-space:pre;overflow-x:auto;line-height:normal;font-family:Menlo,'DejaVu Sans Mono',consolas,'Courier New',monospace\"><span style=\"font-weight: bold\"> Total params: </span><span style=\"color: #00af00; text-decoration-color: #00af00\">95,705</span> (373.85 KB)\n",
       "</pre>\n"
      ],
      "text/plain": [
       "\u001b[1m Total params: \u001b[0m\u001b[38;5;34m95,705\u001b[0m (373.85 KB)\n"
      ]
     },
     "metadata": {},
     "output_type": "display_data"
    },
    {
     "data": {
      "text/html": [
       "<pre style=\"white-space:pre;overflow-x:auto;line-height:normal;font-family:Menlo,'DejaVu Sans Mono',consolas,'Courier New',monospace\"><span style=\"font-weight: bold\"> Trainable params: </span><span style=\"color: #00af00; text-decoration-color: #00af00\">31,901</span> (124.61 KB)\n",
       "</pre>\n"
      ],
      "text/plain": [
       "\u001b[1m Trainable params: \u001b[0m\u001b[38;5;34m31,901\u001b[0m (124.61 KB)\n"
      ]
     },
     "metadata": {},
     "output_type": "display_data"
    },
    {
     "data": {
      "text/html": [
       "<pre style=\"white-space:pre;overflow-x:auto;line-height:normal;font-family:Menlo,'DejaVu Sans Mono',consolas,'Courier New',monospace\"><span style=\"font-weight: bold\"> Non-trainable params: </span><span style=\"color: #00af00; text-decoration-color: #00af00\">0</span> (0.00 B)\n",
       "</pre>\n"
      ],
      "text/plain": [
       "\u001b[1m Non-trainable params: \u001b[0m\u001b[38;5;34m0\u001b[0m (0.00 B)\n"
      ]
     },
     "metadata": {},
     "output_type": "display_data"
    },
    {
     "data": {
      "text/html": [
       "<pre style=\"white-space:pre;overflow-x:auto;line-height:normal;font-family:Menlo,'DejaVu Sans Mono',consolas,'Courier New',monospace\"><span style=\"font-weight: bold\"> Optimizer params: </span><span style=\"color: #00af00; text-decoration-color: #00af00\">63,804</span> (249.24 KB)\n",
       "</pre>\n"
      ],
      "text/plain": [
       "\u001b[1m Optimizer params: \u001b[0m\u001b[38;5;34m63,804\u001b[0m (249.24 KB)\n"
      ]
     },
     "metadata": {},
     "output_type": "display_data"
    }
   ],
   "source": [
    "from tensorflow.keras.models import load_model\n",
    "import numpy as np\n",
    "\n",
    "# --- 1. SAVING THE MODEL ---\n",
    "# This would come right after your model.fit() call\n",
    "\n",
    "print(\"Saving the trained model...\")\n",
    "model_filename = 'tsla_lstm_model.keras'\n",
    "trained_model.save(model_filename)\n",
    "print(f\"Model saved to {model_filename}\")\n",
    "\n",
    "\n",
    "# --- 2. LOADING THE MODEL (Example for future use) ---\n",
    "# You can run this part in a new script without retraining.\n",
    "\n",
    "print(\"\\nLoading the model from the file...\")\n",
    "loaded_model = load_model(model_filename)\n",
    "print(\"Model loaded successfully.\")\n",
    "\n",
    "# You can verify it works by looking at its summary\n",
    "loaded_model.summary()\n",
    "\n",
    "# Or by making a prediction on some dummy data\n",
    "# dummy_input = np.random.rand(1, 60, 1) # 1 sample, 60 time steps, 1 feature\n",
    "# prediction = loaded_model.predict(dummy_input)\n",
    "# print(f\"\\nPrediction using loaded model: {prediction[0][0]}\")"
   ]
  },
  {
   "cell_type": "code",
   "execution_count": 17,
   "id": "679a103e",
   "metadata": {},
   "outputs": [
    {
     "name": "stdout",
     "output_type": "stream",
     "text": [
      "Making predictions on the test data...\n",
      "\u001b[1m12/12\u001b[0m \u001b[32m━━━━━━━━━━━━━━━━━━━━\u001b[0m\u001b[37m\u001b[0m \u001b[1m4s\u001b[0m 230ms/step\n",
      "\n",
      "--- LSTM Forecast Evaluation Metrics ---\n",
      "Mean Absolute Error (MAE): 12.67\n",
      "Root Mean Squared Error (RMSE): 16.36\n",
      "Mean Absolute Percentage Error (MAPE): 4.79%\n"
     ]
    }
   ],
   "source": [
    "\n",
    "\n",
    "# --- 4. Prediction and Evaluation (Corrected) ---\n",
    "print(\"Making predictions on the test data...\")\n",
    "lstm_predictions_scaled = trained_model.predict(X_test)\n",
    "\n",
    "# Inverse transform predictions and actual values\n",
    "lstm_forecast = scaler.inverse_transform(lstm_predictions_scaled)\n",
    "y_test_actual = scaler.inverse_transform(y_test.reshape(-1, 1))\n",
    "\n",
    "# Create a date index that EXACTLY matches the number of predictions\n",
    "# The forecast starts 'time_step' days into the test set.\n",
    "forecast_index = test.index[time_step : len(lstm_forecast) + time_step]\n",
    "forecast_df = pd.DataFrame(lstm_forecast, index=forecast_index, columns=['Forecast'])\n",
    "\n",
    "# Calculate performance metrics\n",
    "mae = mean_absolute_error(y_test_actual, lstm_forecast)\n",
    "rmse = np.sqrt(mean_squared_error(y_test_actual, lstm_forecast))\n",
    "mape = mean_absolute_percentage_error(y_test_actual, lstm_forecast)\n",
    "\n",
    "# Print the results\n",
    "print(\"\\n--- LSTM Forecast Evaluation Metrics ---\")\n",
    "print(f\"Mean Absolute Error (MAE): {mae:.2f}\")\n",
    "print(f\"Root Mean Squared Error (RMSE): {rmse:.2f}\")\n",
    "print(f\"Mean Absolute Percentage Error (MAPE): {mape:.2%}\")"
   ]
  },
  {
   "cell_type": "markdown",
   "id": "91a4ff4f",
   "metadata": {},
   "source": [
    "# LSTM Model Performance Evaluation \n",
    "\n",
    "These metrics show your LSTM model performed very well on the unseen test data, with a low average error.\n",
    "\n",
    "---\n",
    "## ## Mean Absolute Error (MAE): 12.58\n",
    "\n",
    "This is the most direct measure of error. It means that, on an average day in the test period, the model's price forecast was off by about **$12.58**.\n",
    "\n",
    "---\n",
    "## ## Root Mean Squared Error (RMSE): 17.57\n",
    "\n",
    "This also measures the average error, but it **penalizes larger errors more heavily** than smaller ones.\n",
    "\n",
    "The fact that your RMSE (**$17.57**) is higher than your MAE (**$12.58**) tells you that the model had some days where its prediction was significantly wrong. These few large errors pull the RMSE value up more than the MAE.\n",
    "\n",
    "\n",
    "---\n",
    "## ## Mean Absolute Percentage Error (MAPE): 4.46%\n",
    "\n",
    "This is often the easiest metric to understand. It means that, on average, the model's forecast was **4.46%** different from the actual stock price. For a volatile stock, a MAPE under 5% is generally considered a very strong result.\n",
    "\n",
    "---\n",
    "## ## Final Takeaway\n",
    "\n",
    "The LSTM model has demonstrated strong predictive performance. The low MAPE of **4.46%** is a significant improvement over the ARIMA model's baseline (which had a MAPE over 20%), successfully demonstrating that the more complex deep learning model was better at forecasting on this particular dataset."
   ]
  },
  {
   "cell_type": "code",
   "execution_count": 22,
   "id": "b7a28699",
   "metadata": {},
   "outputs": [
    {
     "data": {
      "image/png": "[encoded data removed]",
      "text/plain": [
       "<Figure size 1600x800 with 1 Axes>"
      ]
     },
     "metadata": {},
     "output_type": "display_data"
    }
   ],
   "source": [
    "import matplotlib.pyplot as plt\n",
    "\n",
    "# This assumes you have the following variables ready:\n",
    "# train, test, forecast (for ARIMA), and forecast_df (the LSTM DataFrame)\n",
    "\n",
    "plt.figure(figsize=(16, 8))\n",
    "\n",
    "# Plot historical data\n",
    "plt.plot(train['Adj Close'], label='Training Data')\n",
    "plt.plot(test['Adj Close'], label='Actual Prices (Test Set)', color='orange', linewidth=2)\n",
    "\n",
    "# Plot the forecasts\n",
    "plt.plot(forecast, label='ARIMA Forecast', color='green', linestyle='--')\n",
    "plt.plot(forecast_df, label='LSTM Forecast', color='red', linestyle=':') # Use forecast_df here\n",
    "\n",
    "# Add titles and labels\n",
    "plt.title('TSLA Stock Price: ARIMA vs. LSTM Forecast')\n",
    "plt.xlabel('Date')\n",
    "plt.ylabel('Adjusted Close Price')\n",
    "plt.legend()\n",
    "plt.grid(True)\n",
    "plt.show()"
   ]
  },
  {
   "cell_type": "code",
   "execution_count": null,
   "id": "b3948391",
   "metadata": {},
   "outputs": [],
   "source": []
  },
  {
   "cell_type": "markdown",
   "id": "9804b328",
   "metadata": {},
   "source": [
    "\n",
    "## Interpretation of the Forecast Plot\n",
    "\n",
    "This chart visually confirms the conclusions from  performance metrics.\n",
    "\n",
    "* **ARIMA Forecast (Green Dashed Line):** The ARIMA model's forecast is a flat line. This is the expected behavior of the **ARIMA(0,1,0) or \"Random Walk\"** model that was selected. It provides a simple baseline, predicting that the future price will be the same as the last known price. As you can see, it fails to capture any of the volatility of the actual price.\n",
    "\n",
    "* **LSTM Forecast (Red Dotted Line):** The LSTM model's forecast tracks the actual price (the orange line) much more closely. It successfully captures the general trend and some of the significant price movements within the test period. This demonstrates its ability to learn more complex, non-linear patterns from the historical data.\n",
    "\n",
    "## Conclusion: The LSTM Model is Superior\n",
    "\n",
    "The plot provides a clear visual confirmation that the **LSTM model is significantly more accurate** than the ARIMA model for this forecasting task.\n",
    "\n",
    "This improved accuracy, however, comes with trade-offs. The LSTM is a more complex, \"black box\" model that requires more data, computational resources, and longer training times. The ARIMA model, while less accurate, is simpler and more interpretable.\n",
    "\n"
   ]
  },
  {
   "cell_type": "code",
   "execution_count": 19,
   "id": "c64da37b",
   "metadata": {},
   "outputs": [
    {
     "name": "stdout",
     "output_type": "stream",
     "text": [
      "--- Building and Training a Deeper LSTM Model ---\n"
     ]
    },
    {
     "name": "stderr",
     "output_type": "stream",
     "text": [
      "c:\\Users\\ABC\\Desktop\\10Acadamy\\week_11\\Time-Series-Forecasting\\.venv\\Lib\\site-packages\\keras\\src\\layers\\rnn\\rnn.py:199: UserWarning: Do not pass an `input_shape`/`input_dim` argument to a layer. When using Sequential models, prefer using an `Input(shape)` object as the first layer in the model instead.\n",
      "  super().__init__(**kwargs)\n"
     ]
    },
    {
     "name": "stdout",
     "output_type": "stream",
     "text": [
      "Epoch 1/25\n",
      "\u001b[1m68/68\u001b[0m \u001b[32m━━━━━━━━━━━━━━━━━━━━\u001b[0m\u001b[37m\u001b[0m \u001b[1m39s\u001b[0m 213ms/step - loss: 0.0099\n",
      "Epoch 2/25\n",
      "\u001b[1m68/68\u001b[0m \u001b[32m━━━━━━━━━━━━━━━━━━━━\u001b[0m\u001b[37m\u001b[0m \u001b[1m12s\u001b[0m 175ms/step - loss: 0.0034\n",
      "Epoch 3/25\n",
      "\u001b[1m68/68\u001b[0m \u001b[32m━━━━━━━━━━━━━━━━━━━━\u001b[0m\u001b[37m\u001b[0m \u001b[1m12s\u001b[0m 180ms/step - loss: 0.0030\n",
      "Epoch 4/25\n",
      "\u001b[1m68/68\u001b[0m \u001b[32m━━━━━━━━━━━━━━━━━━━━\u001b[0m\u001b[37m\u001b[0m \u001b[1m12s\u001b[0m 172ms/step - loss: 0.0029\n",
      "Epoch 5/25\n",
      "\u001b[1m68/68\u001b[0m \u001b[32m━━━━━━━━━━━━━━━━━━━━\u001b[0m\u001b[37m\u001b[0m \u001b[1m12s\u001b[0m 172ms/step - loss: 0.0025\n",
      "Epoch 6/25\n",
      "\u001b[1m68/68\u001b[0m \u001b[32m━━━━━━━━━━━━━━━━━━━━\u001b[0m\u001b[37m\u001b[0m \u001b[1m13s\u001b[0m 192ms/step - loss: 0.0022\n",
      "Epoch 7/25\n",
      "\u001b[1m68/68\u001b[0m \u001b[32m━━━━━━━━━━━━━━━━━━━━\u001b[0m\u001b[37m\u001b[0m \u001b[1m15s\u001b[0m 214ms/step - loss: 0.0018\n",
      "Epoch 8/25\n",
      "\u001b[1m68/68\u001b[0m \u001b[32m━━━━━━━━━━━━━━━━━━━━\u001b[0m\u001b[37m\u001b[0m \u001b[1m13s\u001b[0m 189ms/step - loss: 0.0021\n",
      "Epoch 9/25\n",
      "\u001b[1m68/68\u001b[0m \u001b[32m━━━━━━━━━━━━━━━━━━━━\u001b[0m\u001b[37m\u001b[0m \u001b[1m15s\u001b[0m 221ms/step - loss: 0.0020\n",
      "Epoch 10/25\n",
      "\u001b[1m68/68\u001b[0m \u001b[32m━━━━━━━━━━━━━━━━━━━━\u001b[0m\u001b[37m\u001b[0m \u001b[1m15s\u001b[0m 213ms/step - loss: 0.0020\n",
      "Epoch 11/25\n",
      "\u001b[1m68/68\u001b[0m \u001b[32m━━━━━━━━━━━━━━━━━━━━\u001b[0m\u001b[37m\u001b[0m \u001b[1m15s\u001b[0m 220ms/step - loss: 0.0019\n",
      "Epoch 12/25\n",
      "\u001b[1m68/68\u001b[0m \u001b[32m━━━━━━━━━━━━━━━━━━━━\u001b[0m\u001b[37m\u001b[0m \u001b[1m15s\u001b[0m 215ms/step - loss: 0.0017\n",
      "Epoch 13/25\n",
      "\u001b[1m68/68\u001b[0m \u001b[32m━━━━━━━━━━━━━━━━━━━━\u001b[0m\u001b[37m\u001b[0m \u001b[1m15s\u001b[0m 214ms/step - loss: 0.0018\n",
      "Epoch 14/25\n",
      "\u001b[1m68/68\u001b[0m \u001b[32m━━━━━━━━━━━━━━━━━━━━\u001b[0m\u001b[37m\u001b[0m \u001b[1m15s\u001b[0m 212ms/step - loss: 0.0018\n",
      "Epoch 15/25\n",
      "\u001b[1m68/68\u001b[0m \u001b[32m━━━━━━━━━━━━━━━━━━━━\u001b[0m\u001b[37m\u001b[0m \u001b[1m15s\u001b[0m 211ms/step - loss: 0.0015\n",
      "Epoch 16/25\n",
      "\u001b[1m68/68\u001b[0m \u001b[32m━━━━━━━━━━━━━━━━━━━━\u001b[0m\u001b[37m\u001b[0m \u001b[1m11s\u001b[0m 163ms/step - loss: 0.0016\n",
      "Epoch 17/25\n",
      "\u001b[1m68/68\u001b[0m \u001b[32m━━━━━━━━━━━━━━━━━━━━\u001b[0m\u001b[37m\u001b[0m \u001b[1m13s\u001b[0m 185ms/step - loss: 0.0016\n",
      "Epoch 18/25\n",
      "\u001b[1m68/68\u001b[0m \u001b[32m━━━━━━━━━━━━━━━━━━━━\u001b[0m\u001b[37m\u001b[0m \u001b[1m14s\u001b[0m 210ms/step - loss: 0.0013\n",
      "Epoch 19/25\n",
      "\u001b[1m68/68\u001b[0m \u001b[32m━━━━━━━━━━━━━━━━━━━━\u001b[0m\u001b[37m\u001b[0m \u001b[1m14s\u001b[0m 207ms/step - loss: 0.0016\n",
      "Epoch 20/25\n",
      "\u001b[1m68/68\u001b[0m \u001b[32m━━━━━━━━━━━━━━━━━━━━\u001b[0m\u001b[37m\u001b[0m \u001b[1m13s\u001b[0m 182ms/step - loss: 0.0016\n",
      "Epoch 21/25\n",
      "\u001b[1m68/68\u001b[0m \u001b[32m━━━━━━━━━━━━━━━━━━━━\u001b[0m\u001b[37m\u001b[0m \u001b[1m13s\u001b[0m 182ms/step - loss: 0.0013\n",
      "Epoch 22/25\n",
      "\u001b[1m68/68\u001b[0m \u001b[32m━━━━━━━━━━━━━━━━━━━━\u001b[0m\u001b[37m\u001b[0m \u001b[1m14s\u001b[0m 199ms/step - loss: 0.0014\n",
      "Epoch 23/25\n",
      "\u001b[1m68/68\u001b[0m \u001b[32m━━━━━━━━━━━━━━━━━━━━\u001b[0m\u001b[37m\u001b[0m \u001b[1m15s\u001b[0m 217ms/step - loss: 0.0016\n",
      "Epoch 24/25\n",
      "\u001b[1m68/68\u001b[0m \u001b[32m━━━━━━━━━━━━━━━━━━━━\u001b[0m\u001b[37m\u001b[0m \u001b[1m15s\u001b[0m 213ms/step - loss: 0.0013\n",
      "Epoch 25/25\n",
      "\u001b[1m68/68\u001b[0m \u001b[32m━━━━━━━━━━━━━━━━━━━━\u001b[0m\u001b[37m\u001b[0m \u001b[1m14s\u001b[0m 207ms/step - loss: 0.0015\n",
      "\n",
      "--- Evaluating the Deeper LSTM Model ---\n",
      "\u001b[1m12/12\u001b[0m \u001b[32m━━━━━━━━━━━━━━━━━━━━\u001b[0m\u001b[37m\u001b[0m \u001b[1m5s\u001b[0m 280ms/step\n",
      "\n",
      "--- Deeper LSTM Forecast Evaluation Metrics ---\n",
      "Mean Absolute Error (MAE): 15.01\n",
      "Root Mean Squared Error (RMSE): 20.83\n",
      "Mean Absolute Percentage Error (MAPE): 5.24%\n"
     ]
    }
   ],
   "source": [
    "import pandas as pd\n",
    "import numpy as np\n",
    "import tensorflow as tf\n",
    "from tensorflow.keras.models import Sequential\n",
    "from tensorflow.keras.layers import Dense, LSTM, Dropout\n",
    "from sklearn.metrics import mean_absolute_error, mean_squared_error, mean_absolute_percentage_error\n",
    "\n",
    "# This code assumes you have the following variables from the previous steps:\n",
    "# X_train, y_train, X_test, y_test, scaler, test, time_step\n",
    "\n",
    "# --- 1. Build and Train a New, Deeper LSTM Model ---\n",
    "print(\"--- Building and Training a Deeper LSTM Model ---\")\n",
    "model_2 = Sequential()\n",
    "\n",
    "# Define the input shape from the training data\n",
    "input_shape = (X_train.shape[1], X_train.shape[2])\n",
    "\n",
    "# Add more layers\n",
    "model_2.add(LSTM(units=100, return_sequences=True, input_shape=input_shape))\n",
    "model_2.add(Dropout(0.2))\n",
    "model_2.add(LSTM(units=50, return_sequences=True))\n",
    "model_2.add(Dropout(0.2))\n",
    "model_2.add(LSTM(units=50))\n",
    "model_2.add(Dropout(0.2))\n",
    "model_2.add(Dense(units=1))\n",
    "\n",
    "# Compile the model\n",
    "model_2.compile(optimizer='adam', loss='mean_squared_error')\n",
    "\n",
    "# Train the new model\n",
    "model_2.fit(X_train, y_train, epochs=25, batch_size=32, verbose=1)\n",
    "\n",
    "# --- 2. Evaluate the New Model ---\n",
    "print(\"\\n--- Evaluating the Deeper LSTM Model ---\")\n",
    "predictions_scaled = model_2.predict(X_test)\n",
    "\n",
    "# Inverse transform to get actual price values\n",
    "forecast_values = scaler.inverse_transform(predictions_scaled)\n",
    "y_test_actual = scaler.inverse_transform(y_test.reshape(-1, 1))\n",
    "\n",
    "# Align forecast with the correct dates for fair comparison\n",
    "forecast_index = test.index[time_step : len(forecast_values) + time_step]\n",
    "forecast_df = pd.DataFrame(forecast_values, index=forecast_index, columns=['Forecast'])\n",
    "test_actual_for_comparison = test['Adj Close'].loc[forecast_df.index]\n",
    "\n",
    "# Calculate and print the new metrics\n",
    "mae = mean_absolute_error(test_actual_for_comparison, forecast_df)\n",
    "rmse = np.sqrt(mean_squared_error(test_actual_for_comparison, forecast_df))\n",
    "mape = mean_absolute_percentage_error(test_actual_for_comparison, forecast_df)\n",
    "\n",
    "print(\"\\n--- Deeper LSTM Forecast Evaluation Metrics ---\")\n",
    "print(f\"Mean Absolute Error (MAE): {mae:.2f}\")\n",
    "print(f\"Root Mean Squared Error (RMSE): {rmse:.2f}\")\n",
    "print(f\"Mean Absolute Percentage Error (MAPE): {mape:.2%}\")"
   ]
  },
  {
   "cell_type": "markdown",
   "id": "6e28695c",
   "metadata": {},
   "source": [
    "These results from this experiment are very insightful. They show that the deeper, more complex LSTM model actually performed **worse** than your original, simpler LSTM model.\n",
    "\n",
    "## ## Performance Comparison\n",
    "\n",
    "Here is a side-by-side comparison of two LSTM models. The better-performing metric for each row is in bold.\n",
    "\n",
    "| Metric | Original LSTM | Deeper LSTM |\n",
    "| :--- | :--- | :--- |\n",
    "| MAE | **12.58** | 15.01 |\n",
    "| RMSE | **17.57** | 20.83 |\n",
    "| MAPE | **4.46%** | 5.24% |\n",
    "\n",
    "\n",
    "## ## The Conclusion: Simpler is Better (In This Case)\n",
    "\n",
    "This is a classic example of how increasing a model's complexity does not always lead to better results. All three error metrics are higher for the deeper model.\n",
    "\n",
    "The likely reason for this is **overfitting**. The more complex model probably started to memorize the noise and random fluctuations in the training data, rather than learning the general underlying pattern. When it was shown the new, unseen test data, it was less able to generalize, resulting in larger prediction errors.\n",
    "\n"
   ]
  },
  {
   "cell_type": "code",
   "execution_count": 29,
   "id": "d5010abc",
   "metadata": {},
   "outputs": [
    {
     "name": "stderr",
     "output_type": "stream",
     "text": [
      "c:\\Users\\ABC\\Desktop\\10Acadamy\\week_11\\Time-Series-Forecasting\\.venv\\Lib\\site-packages\\sklearn\\utils\\validation.py:2749: UserWarning:\n",
      "\n",
      "X does not have valid feature names, but MinMaxScaler was fitted with feature names\n",
      "\n"
     ]
    },
    {
     "name": "stdout",
     "output_type": "stream",
     "text": [
      "Model configured for Monte Carlo forecasting.\n",
      "\n",
      "Running 50 Monte Carlo simulations for a 180-day forecast...\n"
     ]
    },
    {
     "name": "stderr",
     "output_type": "stream",
     "text": [
      "Forecasting Progress:   0%|          | 0/50 [00:00<?, ?it/s]"
     ]
    },
    {
     "name": "stderr",
     "output_type": "stream",
     "text": [
      "Forecasting Progress: 100%|██████████| 50/50 [49:00<00:00, 58.81s/it] "
     ]
    },
    {
     "name": "stdout",
     "output_type": "stream",
     "text": [
      "Forecast and confidence intervals generated successfully.\n"
     ]
    },
    {
     "name": "stderr",
     "output_type": "stream",
     "text": [
      "\n"
     ]
    },
    {
     "data": {
      "application/vnd.plotly.v1+json": {
       "config": {
        "plotlyServerURL": "https://plot.ly"
       },
       "data": [
        {
         "mode": "lines",
         "name": "Historical Price",
         "type": "scatter",
         "x": [
          "2024-08-01T00:00:00.000000000",
          "2024-08-02T00:00:00.000000000",
          "2024-08-05T00:00:00.000000000",
          "2024-08-06T00:00:00.000000000",
          "2024-08-07T00:00:00.000000000",
          "2024-08-08T00:00:00.000000000",
          "2024-08-09T00:00:00.000000000",
          "2024-08-12T00:00:00.000000000",
          "2024-08-13T00:00:00.000000000",
          "2024-08-14T00:00:00.000000000",
          "2024-08-15T00:00:00.000000000",
          "2024-08-16T00:00:00.000000000",
          "2024-08-19T00:00:00.000000000",
          "2024-08-20T00:00:00.000000000",
          "2024-08-21T00:00:00.000000000",
          "2024-08-22T00:00:00.000000000",
          "2024-08-23T00:00:00.000000000",
          "2024-08-26T00:00:00.000000000",
          "2024-08-27T00:00:00.000000000",
          "2024-08-28T00:00:00.000000000",
          "2024-08-29T00:00:00.000000000",
          "2024-08-30T00:00:00.000000000",
          "2024-09-02T00:00:00.000000000",
          "2024-09-03T00:00:00.000000000",
          "2024-09-04T00:00:00.000000000",
          "2024-09-05T00:00:00.000000000",
          "2024-09-06T00:00:00.000000000",
          "2024-09-09T00:00:00.000000000",
          "2024-09-10T00:00:00.000000000",
          "2024-09-11T00:00:00.000000000",
          "2024-09-12T00:00:00.000000000",
          "2024-09-13T00:00:00.000000000",
          "2024-09-16T00:00:00.000000000",
          "2024-09-17T00:00:00.000000000",
          "2024-09-18T00:00:00.000000000",
          "2024-09-19T00:00:00.000000000",
          "2024-09-20T00:00:00.000000000",
          "2024-09-23T00:00:00.000000000",
          "2024-09-24T00:00:00.000000000",
          "2024-09-25T00:00:00.000000000",
          "2024-09-26T00:00:00.000000000",
          "2024-09-27T00:00:00.000000000",
          "2024-09-30T00:00:00.000000000",
          "2024-10-01T00:00:00.000000000",
          "2024-10-02T00:00:00.000000000",
          "2024-10-03T00:00:00.000000000",
          "2024-10-04T00:00:00.000000000",
          "2024-10-07T00:00:00.000000000",
          "2024-10-08T00:00:00.000000000",
          "2024-10-09T00:00:00.000000000",
          "2024-10-10T00:00:00.000000000",
          "2024-10-11T00:00:00.000000000",
          "2024-10-14T00:00:00.000000000",
          "2024-10-15T00:00:00.000000000",
          "2024-10-16T00:00:00.000000000",
          "2024-10-17T00:00:00.000000000",
          "2024-10-18T00:00:00.000000000",
          "2024-10-21T00:00:00.000000000",
          "2024-10-22T00:00:00.000000000",
          "2024-10-23T00:00:00.000000000",
          "2024-10-24T00:00:00.000000000",
          "2024-10-25T00:00:00.000000000",
          "2024-10-28T00:00:00.000000000",
          "2024-10-29T00:00:00.000000000",
          "2024-10-30T00:00:00.000000000",
          "2024-10-31T00:00:00.000000000",
          "2024-11-01T00:00:00.000000000",
          "2024-11-04T00:00:00.000000000",
          "2024-11-05T00:00:00.000000000",
          "2024-11-06T00:00:00.000000000",
          "2024-11-07T00:00:00.000000000",
          "2024-11-08T00:00:00.000000000",
          "2024-11-11T00:00:00.000000000",
          "2024-11-12T00:00:00.000000000",
          "2024-11-13T00:00:00.000000000",
          "2024-11-14T00:00:00.000000000",
          "2024-11-15T00:00:00.000000000",
          "2024-11-18T00:00:00.000000000",
          "2024-11-19T00:00:00.000000000",
          "2024-11-20T00:00:00.000000000",
          "2024-11-21T00:00:00.000000000",
          "2024-11-22T00:00:00.000000000",
          "2024-11-25T00:00:00.000000000",
          "2024-11-26T00:00:00.000000000",
          "2024-11-27T00:00:00.000000000",
          "2024-11-28T00:00:00.000000000",
          "2024-11-29T00:00:00.000000000",
          "2024-12-02T00:00:00.000000000",
          "2024-12-03T00:00:00.000000000",
          "2024-12-04T00:00:00.000000000",
          "2024-12-05T00:00:00.000000000",
          "2024-12-06T00:00:00.000000000",
          "2024-12-09T00:00:00.000000000",
          "2024-12-10T00:00:00.000000000",
          "2024-12-11T00:00:00.000000000",
          "2024-12-12T00:00:00.000000000",
          "2024-12-13T00:00:00.000000000",
          "2024-12-16T00:00:00.000000000",
          "2024-12-17T00:00:00.000000000",
          "2024-12-18T00:00:00.000000000",
          "2024-12-19T00:00:00.000000000",
          "2024-12-20T00:00:00.000000000",
          "2024-12-23T00:00:00.000000000",
          "2024-12-24T00:00:00.000000000",
          "2024-12-25T00:00:00.000000000",
          "2024-12-26T00:00:00.000000000",
          "2024-12-27T00:00:00.000000000",
          "2024-12-30T00:00:00.000000000",
          "2024-12-31T00:00:00.000000000",
          "2025-01-01T00:00:00.000000000",
          "2025-01-02T00:00:00.000000000",
          "2025-01-03T00:00:00.000000000",
          "2025-01-06T00:00:00.000000000",
          "2025-01-07T00:00:00.000000000",
          "2025-01-08T00:00:00.000000000",
          "2025-01-09T00:00:00.000000000",
          "2025-01-10T00:00:00.000000000",
          "2025-01-13T00:00:00.000000000",
          "2025-01-14T00:00:00.000000000",
          "2025-01-15T00:00:00.000000000",
          "2025-01-16T00:00:00.000000000",
          "2025-01-17T00:00:00.000000000",
          "2025-01-20T00:00:00.000000000",
          "2025-01-21T00:00:00.000000000",
          "2025-01-22T00:00:00.000000000",
          "2025-01-23T00:00:00.000000000",
          "2025-01-24T00:00:00.000000000",
          "2025-01-27T00:00:00.000000000",
          "2025-01-28T00:00:00.000000000",
          "2025-01-29T00:00:00.000000000",
          "2025-01-30T00:00:00.000000000",
          "2025-01-31T00:00:00.000000000",
          "2025-02-03T00:00:00.000000000",
          "2025-02-04T00:00:00.000000000",
          "2025-02-05T00:00:00.000000000",
          "2025-02-06T00:00:00.000000000",
          "2025-02-07T00:00:00.000000000",
          "2025-02-10T00:00:00.000000000",
          "2025-02-11T00:00:00.000000000",
          "2025-02-12T00:00:00.000000000",
          "2025-02-13T00:00:00.000000000",
          "2025-02-14T00:00:00.000000000",
          "2025-02-17T00:00:00.000000000",
          "2025-02-18T00:00:00.000000000",
          "2025-02-19T00:00:00.000000000",
          "2025-02-20T00:00:00.000000000",
          "2025-02-21T00:00:00.000000000",
          "2025-02-24T00:00:00.000000000",
          "2025-02-25T00:00:00.000000000",
          "2025-02-26T00:00:00.000000000",
          "2025-02-27T00:00:00.000000000",
          "2025-02-28T00:00:00.000000000",
          "2025-03-03T00:00:00.000000000",
          "2025-03-04T00:00:00.000000000",
          "2025-03-05T00:00:00.000000000",
          "2025-03-06T00:00:00.000000000",
          "2025-03-07T00:00:00.000000000",
          "2025-03-10T00:00:00.000000000",
          "2025-03-11T00:00:00.000000000",
          "2025-03-12T00:00:00.000000000",
          "2025-03-13T00:00:00.000000000",
          "2025-03-14T00:00:00.000000000",
          "2025-03-17T00:00:00.000000000",
          "2025-03-18T00:00:00.000000000",
          "2025-03-19T00:00:00.000000000",
          "2025-03-20T00:00:00.000000000",
          "2025-03-21T00:00:00.000000000",
          "2025-03-24T00:00:00.000000000",
          "2025-03-25T00:00:00.000000000",
          "2025-03-26T00:00:00.000000000",
          "2025-03-27T00:00:00.000000000",
          "2025-03-28T00:00:00.000000000",
          "2025-03-31T00:00:00.000000000",
          "2025-04-01T00:00:00.000000000",
          "2025-04-02T00:00:00.000000000",
          "2025-04-03T00:00:00.000000000",
          "2025-04-04T00:00:00.000000000",
          "2025-04-07T00:00:00.000000000",
          "2025-04-08T00:00:00.000000000",
          "2025-04-09T00:00:00.000000000",
          "2025-04-10T00:00:00.000000000",
          "2025-04-11T00:00:00.000000000",
          "2025-04-14T00:00:00.000000000",
          "2025-04-15T00:00:00.000000000",
          "2025-04-16T00:00:00.000000000",
          "2025-04-17T00:00:00.000000000",
          "2025-04-18T00:00:00.000000000",
          "2025-04-21T00:00:00.000000000",
          "2025-04-22T00:00:00.000000000",
          "2025-04-23T00:00:00.000000000",
          "2025-04-24T00:00:00.000000000",
          "2025-04-25T00:00:00.000000000",
          "2025-04-28T00:00:00.000000000",
          "2025-04-29T00:00:00.000000000",
          "2025-04-30T00:00:00.000000000",
          "2025-05-01T00:00:00.000000000",
          "2025-05-02T00:00:00.000000000",
          "2025-05-05T00:00:00.000000000",
          "2025-05-06T00:00:00.000000000",
          "2025-05-07T00:00:00.000000000",
          "2025-05-08T00:00:00.000000000",
          "2025-05-09T00:00:00.000000000",
          "2025-05-12T00:00:00.000000000",
          "2025-05-13T00:00:00.000000000",
          "2025-05-14T00:00:00.000000000",
          "2025-05-15T00:00:00.000000000",
          "2025-05-16T00:00:00.000000000",
          "2025-05-19T00:00:00.000000000",
          "2025-05-20T00:00:00.000000000",
          "2025-05-21T00:00:00.000000000",
          "2025-05-22T00:00:00.000000000",
          "2025-05-23T00:00:00.000000000",
          "2025-05-26T00:00:00.000000000",
          "2025-05-27T00:00:00.000000000",
          "2025-05-28T00:00:00.000000000",
          "2025-05-29T00:00:00.000000000",
          "2025-05-30T00:00:00.000000000",
          "2025-06-02T00:00:00.000000000",
          "2025-06-03T00:00:00.000000000",
          "2025-06-04T00:00:00.000000000",
          "2025-06-05T00:00:00.000000000",
          "2025-06-06T00:00:00.000000000",
          "2025-06-09T00:00:00.000000000",
          "2025-06-10T00:00:00.000000000",
          "2025-06-11T00:00:00.000000000",
          "2025-06-12T00:00:00.000000000",
          "2025-06-13T00:00:00.000000000",
          "2025-06-16T00:00:00.000000000",
          "2025-06-17T00:00:00.000000000",
          "2025-06-18T00:00:00.000000000",
          "2025-06-19T00:00:00.000000000",
          "2025-06-20T00:00:00.000000000",
          "2025-06-23T00:00:00.000000000",
          "2025-06-24T00:00:00.000000000",
          "2025-06-25T00:00:00.000000000",
          "2025-06-26T00:00:00.000000000",
          "2025-06-27T00:00:00.000000000",
          "2025-06-30T00:00:00.000000000",
          "2025-07-01T00:00:00.000000000",
          "2025-07-02T00:00:00.000000000",
          "2025-07-03T00:00:00.000000000",
          "2025-07-04T00:00:00.000000000",
          "2025-07-07T00:00:00.000000000",
          "2025-07-08T00:00:00.000000000",
          "2025-07-09T00:00:00.000000000",
          "2025-07-10T00:00:00.000000000",
          "2025-07-11T00:00:00.000000000",
          "2025-07-14T00:00:00.000000000",
          "2025-07-15T00:00:00.000000000",
          "2025-07-16T00:00:00.000000000",
          "2025-07-17T00:00:00.000000000",
          "2025-07-18T00:00:00.000000000",
          "2025-07-21T00:00:00.000000000",
          "2025-07-22T00:00:00.000000000",
          "2025-07-23T00:00:00.000000000",
          "2025-07-24T00:00:00.000000000",
          "2025-07-25T00:00:00.000000000",
          "2025-07-28T00:00:00.000000000",
          "2025-07-29T00:00:00.000000000",
          "2025-07-30T00:00:00.000000000",
          "2025-07-31T00:00:00.000000000"
         ],
         "y": {
          "bdata": "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",
          "dtype": "f8"
         }
        },
        {
         "line": {
          "width": 0
         },
         "mode": "lines",
         "name": "Upper 95% CI",
         "type": "scatter",
         "x": [
          "2025-08-01T00:00:00.000000000",
          "2025-08-04T00:00:00.000000000",
          "2025-08-05T00:00:00.000000000",
          "2025-08-06T00:00:00.000000000",
          "2025-08-07T00:00:00.000000000",
          "2025-08-08T00:00:00.000000000",
          "2025-08-11T00:00:00.000000000",
          "2025-08-12T00:00:00.000000000",
          "2025-08-13T00:00:00.000000000",
          "2025-08-14T00:00:00.000000000",
          "2025-08-15T00:00:00.000000000",
          "2025-08-18T00:00:00.000000000",
          "2025-08-19T00:00:00.000000000",
          "2025-08-20T00:00:00.000000000",
          "2025-08-21T00:00:00.000000000",
          "2025-08-22T00:00:00.000000000",
          "2025-08-25T00:00:00.000000000",
          "2025-08-26T00:00:00.000000000",
          "2025-08-27T00:00:00.000000000",
          "2025-08-28T00:00:00.000000000",
          "2025-08-29T00:00:00.000000000",
          "2025-09-01T00:00:00.000000000",
          "2025-09-02T00:00:00.000000000",
          "2025-09-03T00:00:00.000000000",
          "2025-09-04T00:00:00.000000000",
          "2025-09-05T00:00:00.000000000",
          "2025-09-08T00:00:00.000000000",
          "2025-09-09T00:00:00.000000000",
          "2025-09-10T00:00:00.000000000",
          "2025-09-11T00:00:00.000000000",
          "2025-09-12T00:00:00.000000000",
          "2025-09-15T00:00:00.000000000",
          "2025-09-16T00:00:00.000000000",
          "2025-09-17T00:00:00.000000000",
          "2025-09-18T00:00:00.000000000",
          "2025-09-19T00:00:00.000000000",
          "2025-09-22T00:00:00.000000000",
          "2025-09-23T00:00:00.000000000",
          "2025-09-24T00:00:00.000000000",
          "2025-09-25T00:00:00.000000000",
          "2025-09-26T00:00:00.000000000",
          "2025-09-29T00:00:00.000000000",
          "2025-09-30T00:00:00.000000000",
          "2025-10-01T00:00:00.000000000",
          "2025-10-02T00:00:00.000000000",
          "2025-10-03T00:00:00.000000000",
          "2025-10-06T00:00:00.000000000",
          "2025-10-07T00:00:00.000000000",
          "2025-10-08T00:00:00.000000000",
          "2025-10-09T00:00:00.000000000",
          "2025-10-10T00:00:00.000000000",
          "2025-10-13T00:00:00.000000000",
          "2025-10-14T00:00:00.000000000",
          "2025-10-15T00:00:00.000000000",
          "2025-10-16T00:00:00.000000000",
          "2025-10-17T00:00:00.000000000",
          "2025-10-20T00:00:00.000000000",
          "2025-10-21T00:00:00.000000000",
          "2025-10-22T00:00:00.000000000",
          "2025-10-23T00:00:00.000000000",
          "2025-10-24T00:00:00.000000000",
          "2025-10-27T00:00:00.000000000",
          "2025-10-28T00:00:00.000000000",
          "2025-10-29T00:00:00.000000000",
          "2025-10-30T00:00:00.000000000",
          "2025-10-31T00:00:00.000000000",
          "2025-11-03T00:00:00.000000000",
          "2025-11-04T00:00:00.000000000",
          "2025-11-05T00:00:00.000000000",
          "2025-11-06T00:00:00.000000000",
          "2025-11-07T00:00:00.000000000",
          "2025-11-10T00:00:00.000000000",
          "2025-11-11T00:00:00.000000000",
          "2025-11-12T00:00:00.000000000",
          "2025-11-13T00:00:00.000000000",
          "2025-11-14T00:00:00.000000000",
          "2025-11-17T00:00:00.000000000",
          "2025-11-18T00:00:00.000000000",
          "2025-11-19T00:00:00.000000000",
          "2025-11-20T00:00:00.000000000",
          "2025-11-21T00:00:00.000000000",
          "2025-11-24T00:00:00.000000000",
          "2025-11-25T00:00:00.000000000",
          "2025-11-26T00:00:00.000000000",
          "2025-11-27T00:00:00.000000000",
          "2025-11-28T00:00:00.000000000",
          "2025-12-01T00:00:00.000000000",
          "2025-12-02T00:00:00.000000000",
          "2025-12-03T00:00:00.000000000",
          "2025-12-04T00:00:00.000000000",
          "2025-12-05T00:00:00.000000000",
          "2025-12-08T00:00:00.000000000",
          "2025-12-09T00:00:00.000000000",
          "2025-12-10T00:00:00.000000000",
          "2025-12-11T00:00:00.000000000",
          "2025-12-12T00:00:00.000000000",
          "2025-12-15T00:00:00.000000000",
          "2025-12-16T00:00:00.000000000",
          "2025-12-17T00:00:00.000000000",
          "2025-12-18T00:00:00.000000000",
          "2025-12-19T00:00:00.000000000",
          "2025-12-22T00:00:00.000000000",
          "2025-12-23T00:00:00.000000000",
          "2025-12-24T00:00:00.000000000",
          "2025-12-25T00:00:00.000000000",
          "2025-12-26T00:00:00.000000000",
          "2025-12-29T00:00:00.000000000",
          "2025-12-30T00:00:00.000000000",
          "2025-12-31T00:00:00.000000000",
          "2026-01-01T00:00:00.000000000",
          "2026-01-02T00:00:00.000000000",
          "2026-01-05T00:00:00.000000000",
          "2026-01-06T00:00:00.000000000",
          "2026-01-07T00:00:00.000000000",
          "2026-01-08T00:00:00.000000000",
          "2026-01-09T00:00:00.000000000",
          "2026-01-12T00:00:00.000000000",
          "2026-01-13T00:00:00.000000000",
          "2026-01-14T00:00:00.000000000",
          "2026-01-15T00:00:00.000000000",
          "2026-01-16T00:00:00.000000000",
          "2026-01-19T00:00:00.000000000",
          "2026-01-20T00:00:00.000000000",
          "2026-01-21T00:00:00.000000000",
          "2026-01-22T00:00:00.000000000",
          "2026-01-23T00:00:00.000000000",
          "2026-01-26T00:00:00.000000000",
          "2026-01-27T00:00:00.000000000",
          "2026-01-28T00:00:00.000000000",
          "2026-01-29T00:00:00.000000000",
          "2026-01-30T00:00:00.000000000",
          "2026-02-02T00:00:00.000000000",
          "2026-02-03T00:00:00.000000000",
          "2026-02-04T00:00:00.000000000",
          "2026-02-05T00:00:00.000000000",
          "2026-02-06T00:00:00.000000000",
          "2026-02-09T00:00:00.000000000",
          "2026-02-10T00:00:00.000000000",
          "2026-02-11T00:00:00.000000000",
          "2026-02-12T00:00:00.000000000",
          "2026-02-13T00:00:00.000000000",
          "2026-02-16T00:00:00.000000000",
          "2026-02-17T00:00:00.000000000",
          "2026-02-18T00:00:00.000000000",
          "2026-02-19T00:00:00.000000000",
          "2026-02-20T00:00:00.000000000",
          "2026-02-23T00:00:00.000000000",
          "2026-02-24T00:00:00.000000000",
          "2026-02-25T00:00:00.000000000",
          "2026-02-26T00:00:00.000000000",
          "2026-02-27T00:00:00.000000000",
          "2026-03-02T00:00:00.000000000",
          "2026-03-03T00:00:00.000000000",
          "2026-03-04T00:00:00.000000000",
          "2026-03-05T00:00:00.000000000",
          "2026-03-06T00:00:00.000000000",
          "2026-03-09T00:00:00.000000000",
          "2026-03-10T00:00:00.000000000",
          "2026-03-11T00:00:00.000000000",
          "2026-03-12T00:00:00.000000000",
          "2026-03-13T00:00:00.000000000",
          "2026-03-16T00:00:00.000000000",
          "2026-03-17T00:00:00.000000000",
          "2026-03-18T00:00:00.000000000",
          "2026-03-19T00:00:00.000000000",
          "2026-03-20T00:00:00.000000000",
          "2026-03-23T00:00:00.000000000",
          "2026-03-24T00:00:00.000000000",
          "2026-03-25T00:00:00.000000000",
          "2026-03-26T00:00:00.000000000",
          "2026-03-27T00:00:00.000000000",
          "2026-03-30T00:00:00.000000000",
          "2026-03-31T00:00:00.000000000",
          "2026-04-01T00:00:00.000000000",
          "2026-04-02T00:00:00.000000000",
          "2026-04-03T00:00:00.000000000",
          "2026-04-06T00:00:00.000000000",
          "2026-04-07T00:00:00.000000000",
          "2026-04-08T00:00:00.000000000",
          "2026-04-09T00:00:00.000000000"
         ],
         "y": {
          "bdata": "AAAAgGfdc0AAAAAgjc1zQAAAAAC+y3NAAAAAgKXRc0AAAABgE9xzQAAAAIBU6XNAAAAAgGz4c0AAAABguQh0QAAAAIDJGXRAAAAA4EYrdEAAAABg7jx0QAAAAICLTnRAAAAAoPRfdEAAAAAACnF0QAAAACC0gXRAAAAAYOGRdEAAAADAhqF0QAAAAGCdsHRAAAAA4CG/dEAAAADgE810QAAAAMB02nRAAAAAwEfndEAAAABAkfN0QAAAAABW/3RAAAAAYJsKdUAAAABAZxV1QAAAAGC+H3VAAAAAIKcpdUAAAAAgJjN1QAAAAKBAPHVAAAAAQPtEdUAAAABgWk11QAAAAGBiVXVAAAAAIBdddUAAAABAfGR1QAAAAMCVa3VAAAAA4GVydUAAAACA8Hh1QAAAAAA4f3VAAAAAoD+FdUAAAABACYt1QAAAAACYkHVAAAAA4O2VdUAAAAAADZt1QAAAAGD3n3VAAAAAgK+kdUAAAAAgN6l1QAAAACCQrXVAAAAAYLyxdUAAAACAvbV1QAAAACCVuXVAAAAA4ES9dUAAAACAzsB1QAAAAMAzxHVAAAAAIHXHdUAAAADglMp1QAAAAOCTzXVAAAAAwHPQdUAAAADgNdN1QAAAAKDa1XVAAAAAwGPYdUAAAADA0tp1QAAAAKAn3XVAAAAAYGTfdUAAAABgieF1QAAAACCY43VAAAAA4JDldUAAAADgdOd1QAAAAABF6XVAAAAA4AHrdUAAAABArOx1QAAAAEBF7nVAAAAAQM3vdUAAAADARPF1QAAAAOCs8nVAAAAAQAb0dUAAAAAAUfV1QAAAAECO9nVAAAAAQL73dUAAAACg4fh1QAAAAKD4+XVAAAAAQAT7dUAAAADgBPx1QAAAAID6/HVAAAAAQOb9dUAAAADgx/51QAAAAACg/3VAAAAAIG8AdkAAAADgNQF2QAAAAGD0AXZAAAAAwKoCdkAAAABgWQN2QAAAAAABBHZAAAAAgKEEdkAAAABgOwV2QAAAAIDOBXZAAAAA4FsGdkAAAAAA4wZ2QAAAAKBkB3ZAAAAA4OAHdkAAAADgVwh2QAAAAMDJCHZAAAAAIDcJdkAAAADAnwl2QAAAAAAECnZAAAAAIGQKdkAAAAAgwAp2QAAAAGAYC3ZAAAAAoGwLdkAAAACgvQt2QAAAAAALDHZAAAAAgFUMdkAAAACAnAx2QAAAAMDgDHZAAAAAICINdkAAAACAYA12QAAAAMCcDXZAAAAAINYNdkAAAAAADQ52QAAAAMBBDnZAAAAAYHQOdkAAAADApA52QAAAACDTDnZAAAAAgP8OdkAAAAAgKg92QAAAAOBSD3ZAAAAAYHoPdkAAAABgnw92QAAAAIDDD3ZAAAAAoOUPdkAAAACgBhB2QAAAACAmEHZAAAAAQEQQdkAAAABAYRB2QAAAAAB9EHZAAAAAoJcQdkAAAADgsBB2QAAAAGDJEHZAAAAA4OAQdkAAAAAg9xB2QAAAAKAMEXZAAAAAICERdkAAAADANBF2QAAAAMBHEXZAAAAAoFkRdkAAAADAahF2QAAAAGB7EXZAAAAAIIsRdkAAAABAmhF2QAAAAOCoEXZAAAAAwLYRdkAAAAAgxBF2QAAAAADREXZAAAAAIN0RdkAAAADg6BF2QAAAAAD0EXZAAAAA4P4RdkAAAABgCRJ2QAAAACATEnZAAAAAoBwSdkAAAADgJRJ2QAAAAEAuEnZAAAAA4DYSdkAAAACgPhJ2QAAAAGBGEnZAAAAAoE0SdkAAAADAVBJ2QAAAAGBbEnZAAAAA4GESdkAAAAAgaBJ2QAAAAABuEnZAAAAAwHMSdkAAAABAeRJ2QAAAAGB+EnZAAAAAgIMSdkAAAABgiBJ2QAAAAMCMEnZAAAAAAJESdkAAAACAlRJ2QAAAAGCZEnZA",
          "dtype": "f8"
         }
        },
        {
         "fill": "tonexty",
         "fillcolor": "rgba(255, 165, 0, 0.2)",
         "line": {
          "width": 0
         },
         "mode": "lines",
         "name": "Lower 95% CI",
         "type": "scatter",
         "x": [
          "2025-08-01T00:00:00.000000000",
          "2025-08-04T00:00:00.000000000",
          "2025-08-05T00:00:00.000000000",
          "2025-08-06T00:00:00.000000000",
          "2025-08-07T00:00:00.000000000",
          "2025-08-08T00:00:00.000000000",
          "2025-08-11T00:00:00.000000000",
          "2025-08-12T00:00:00.000000000",
          "2025-08-13T00:00:00.000000000",
          "2025-08-14T00:00:00.000000000",
          "2025-08-15T00:00:00.000000000",
          "2025-08-18T00:00:00.000000000",
          "2025-08-19T00:00:00.000000000",
          "2025-08-20T00:00:00.000000000",
          "2025-08-21T00:00:00.000000000",
          "2025-08-22T00:00:00.000000000",
          "2025-08-25T00:00:00.000000000",
          "2025-08-26T00:00:00.000000000",
          "2025-08-27T00:00:00.000000000",
          "2025-08-28T00:00:00.000000000",
          "2025-08-29T00:00:00.000000000",
          "2025-09-01T00:00:00.000000000",
          "2025-09-02T00:00:00.000000000",
          "2025-09-03T00:00:00.000000000",
          "2025-09-04T00:00:00.000000000",
          "2025-09-05T00:00:00.000000000",
          "2025-09-08T00:00:00.000000000",
          "2025-09-09T00:00:00.000000000",
          "2025-09-10T00:00:00.000000000",
          "2025-09-11T00:00:00.000000000",
          "2025-09-12T00:00:00.000000000",
          "2025-09-15T00:00:00.000000000",
          "2025-09-16T00:00:00.000000000",
          "2025-09-17T00:00:00.000000000",
          "2025-09-18T00:00:00.000000000",
          "2025-09-19T00:00:00.000000000",
          "2025-09-22T00:00:00.000000000",
          "2025-09-23T00:00:00.000000000",
          "2025-09-24T00:00:00.000000000",
          "2025-09-25T00:00:00.000000000",
          "2025-09-26T00:00:00.000000000",
          "2025-09-29T00:00:00.000000000",
          "2025-09-30T00:00:00.000000000",
          "2025-10-01T00:00:00.000000000",
          "2025-10-02T00:00:00.000000000",
          "2025-10-03T00:00:00.000000000",
          "2025-10-06T00:00:00.000000000",
          "2025-10-07T00:00:00.000000000",
          "2025-10-08T00:00:00.000000000",
          "2025-10-09T00:00:00.000000000",
          "2025-10-10T00:00:00.000000000",
          "2025-10-13T00:00:00.000000000",
          "2025-10-14T00:00:00.000000000",
          "2025-10-15T00:00:00.000000000",
          "2025-10-16T00:00:00.000000000",
          "2025-10-17T00:00:00.000000000",
          "2025-10-20T00:00:00.000000000",
          "2025-10-21T00:00:00.000000000",
          "2025-10-22T00:00:00.000000000",
          "2025-10-23T00:00:00.000000000",
          "2025-10-24T00:00:00.000000000",
          "2025-10-27T00:00:00.000000000",
          "2025-10-28T00:00:00.000000000",
          "2025-10-29T00:00:00.000000000",
          "2025-10-30T00:00:00.000000000",
          "2025-10-31T00:00:00.000000000",
          "2025-11-03T00:00:00.000000000",
          "2025-11-04T00:00:00.000000000",
          "2025-11-05T00:00:00.000000000",
          "2025-11-06T00:00:00.000000000",
          "2025-11-07T00:00:00.000000000",
          "2025-11-10T00:00:00.000000000",
          "2025-11-11T00:00:00.000000000",
          "2025-11-12T00:00:00.000000000",
          "2025-11-13T00:00:00.000000000",
          "2025-11-14T00:00:00.000000000",
          "2025-11-17T00:00:00.000000000",
          "2025-11-18T00:00:00.000000000",
          "2025-11-19T00:00:00.000000000",
          "2025-11-20T00:00:00.000000000",
          "2025-11-21T00:00:00.000000000",
          "2025-11-24T00:00:00.000000000",
          "2025-11-25T00:00:00.000000000",
          "2025-11-26T00:00:00.000000000",
          "2025-11-27T00:00:00.000000000",
          "2025-11-28T00:00:00.000000000",
          "2025-12-01T00:00:00.000000000",
          "2025-12-02T00:00:00.000000000",
          "2025-12-03T00:00:00.000000000",
          "2025-12-04T00:00:00.000000000",
          "2025-12-05T00:00:00.000000000",
          "2025-12-08T00:00:00.000000000",
          "2025-12-09T00:00:00.000000000",
          "2025-12-10T00:00:00.000000000",
          "2025-12-11T00:00:00.000000000",
          "2025-12-12T00:00:00.000000000",
          "2025-12-15T00:00:00.000000000",
          "2025-12-16T00:00:00.000000000",
          "2025-12-17T00:00:00.000000000",
          "2025-12-18T00:00:00.000000000",
          "2025-12-19T00:00:00.000000000",
          "2025-12-22T00:00:00.000000000",
          "2025-12-23T00:00:00.000000000",
          "2025-12-24T00:00:00.000000000",
          "2025-12-25T00:00:00.000000000",
          "2025-12-26T00:00:00.000000000",
          "2025-12-29T00:00:00.000000000",
          "2025-12-30T00:00:00.000000000",
          "2025-12-31T00:00:00.000000000",
          "2026-01-01T00:00:00.000000000",
          "2026-01-02T00:00:00.000000000",
          "2026-01-05T00:00:00.000000000",
          "2026-01-06T00:00:00.000000000",
          "2026-01-07T00:00:00.000000000",
          "2026-01-08T00:00:00.000000000",
          "2026-01-09T00:00:00.000000000",
          "2026-01-12T00:00:00.000000000",
          "2026-01-13T00:00:00.000000000",
          "2026-01-14T00:00:00.000000000",
          "2026-01-15T00:00:00.000000000",
          "2026-01-16T00:00:00.000000000",
          "2026-01-19T00:00:00.000000000",
          "2026-01-20T00:00:00.000000000",
          "2026-01-21T00:00:00.000000000",
          "2026-01-22T00:00:00.000000000",
          "2026-01-23T00:00:00.000000000",
          "2026-01-26T00:00:00.000000000",
          "2026-01-27T00:00:00.000000000",
          "2026-01-28T00:00:00.000000000",
          "2026-01-29T00:00:00.000000000",
          "2026-01-30T00:00:00.000000000",
          "2026-02-02T00:00:00.000000000",
          "2026-02-03T00:00:00.000000000",
          "2026-02-04T00:00:00.000000000",
          "2026-02-05T00:00:00.000000000",
          "2026-02-06T00:00:00.000000000",
          "2026-02-09T00:00:00.000000000",
          "2026-02-10T00:00:00.000000000",
          "2026-02-11T00:00:00.000000000",
          "2026-02-12T00:00:00.000000000",
          "2026-02-13T00:00:00.000000000",
          "2026-02-16T00:00:00.000000000",
          "2026-02-17T00:00:00.000000000",
          "2026-02-18T00:00:00.000000000",
          "2026-02-19T00:00:00.000000000",
          "2026-02-20T00:00:00.000000000",
          "2026-02-23T00:00:00.000000000",
          "2026-02-24T00:00:00.000000000",
          "2026-02-25T00:00:00.000000000",
          "2026-02-26T00:00:00.000000000",
          "2026-02-27T00:00:00.000000000",
          "2026-03-02T00:00:00.000000000",
          "2026-03-03T00:00:00.000000000",
          "2026-03-04T00:00:00.000000000",
          "2026-03-05T00:00:00.000000000",
          "2026-03-06T00:00:00.000000000",
          "2026-03-09T00:00:00.000000000",
          "2026-03-10T00:00:00.000000000",
          "2026-03-11T00:00:00.000000000",
          "2026-03-12T00:00:00.000000000",
          "2026-03-13T00:00:00.000000000",
          "2026-03-16T00:00:00.000000000",
          "2026-03-17T00:00:00.000000000",
          "2026-03-18T00:00:00.000000000",
          "2026-03-19T00:00:00.000000000",
          "2026-03-20T00:00:00.000000000",
          "2026-03-23T00:00:00.000000000",
          "2026-03-24T00:00:00.000000000",
          "2026-03-25T00:00:00.000000000",
          "2026-03-26T00:00:00.000000000",
          "2026-03-27T00:00:00.000000000",
          "2026-03-30T00:00:00.000000000",
          "2026-03-31T00:00:00.000000000",
          "2026-04-01T00:00:00.000000000",
          "2026-04-02T00:00:00.000000000",
          "2026-04-03T00:00:00.000000000",
          "2026-04-06T00:00:00.000000000",
          "2026-04-07T00:00:00.000000000",
          "2026-04-08T00:00:00.000000000",
          "2026-04-09T00:00:00.000000000"
         ],
         "y": {
          "bdata": "AAAAgGfdc0AAAAAgjc1zQAAAAAC+y3NAAAAAgKXRc0AAAABgE9xzQAAAAIBU6XNAAAAAgGz4c0AAAABguQh0QAAAAIDJGXRAAAAA4EYrdEAAAABg7jx0QAAAAICLTnRAAAAAoPRfdEAAAAAACnF0QAAAACC0gXRAAAAAYOGRdEAAAADAhqF0QAAAAGCdsHRAAAAA4CG/dEAAAADgE810QAAAAMB02nRAAAAAwEfndEAAAABAkfN0QAAAAABW/3RAAAAAYJsKdUAAAABAZxV1QAAAAGC+H3VAAAAAIKcpdUAAAAAgJjN1QAAAAKBAPHVAAAAAQPtEdUAAAABgWk11QAAAAGBiVXVAAAAAIBdddUAAAABAfGR1QAAAAMCVa3VAAAAA4GVydUAAAACA8Hh1QAAAAAA4f3VAAAAAoD+FdUAAAABACYt1QAAAAACYkHVAAAAA4O2VdUAAAAAADZt1QAAAAGD3n3VAAAAAgK+kdUAAAAAgN6l1QAAAACCQrXVAAAAAYLyxdUAAAACAvbV1QAAAACCVuXVAAAAA4ES9dUAAAACAzsB1QAAAAMAzxHVAAAAAIHXHdUAAAADglMp1QAAAAOCTzXVAAAAAwHPQdUAAAADgNdN1QAAAAKDa1XVAAAAAwGPYdUAAAADA0tp1QAAAAKAn3XVAAAAAYGTfdUAAAABgieF1QAAAACCY43VAAAAA4JDldUAAAADgdOd1QAAAAABF6XVAAAAA4AHrdUAAAABArOx1QAAAAEBF7nVAAAAAQM3vdUAAAADARPF1QAAAAOCs8nVAAAAAQAb0dUAAAAAAUfV1QAAAAECO9nVAAAAAQL73dUAAAACg4fh1QAAAAKD4+XVAAAAAQAT7dUAAAADgBPx1QAAAAID6/HVAAAAAQOb9dUAAAADgx/51QAAAAACg/3VAAAAAIG8AdkAAAADgNQF2QAAAAGD0AXZAAAAAwKoCdkAAAABgWQN2QAAAAAABBHZAAAAAgKEEdkAAAABgOwV2QAAAAIDOBXZAAAAA4FsGdkAAAAAA4wZ2QAAAAKBkB3ZAAAAA4OAHdkAAAADgVwh2QAAAAMDJCHZAAAAAIDcJdkAAAADAnwl2QAAAAAAECnZAAAAAIGQKdkAAAAAgwAp2QAAAAGAYC3ZAAAAAoGwLdkAAAACgvQt2QAAAAAALDHZAAAAAgFUMdkAAAACAnAx2QAAAAMDgDHZAAAAAICINdkAAAACAYA12QAAAAMCcDXZAAAAAINYNdkAAAAAADQ52QAAAAMBBDnZAAAAAYHQOdkAAAADApA52QAAAACDTDnZAAAAAgP8OdkAAAAAgKg92QAAAAOBSD3ZAAAAAYHoPdkAAAABgnw92QAAAAIDDD3ZAAAAAoOUPdkAAAACgBhB2QAAAACAmEHZAAAAAQEQQdkAAAABAYRB2QAAAAAB9EHZAAAAAoJcQdkAAAADgsBB2QAAAAGDJEHZAAAAA4OAQdkAAAAAg9xB2QAAAAKAMEXZAAAAAICERdkAAAADANBF2QAAAAMBHEXZAAAAAoFkRdkAAAADAahF2QAAAAGB7EXZAAAAAIIsRdkAAAABAmhF2QAAAAOCoEXZAAAAAwLYRdkAAAAAgxBF2QAAAAADREXZAAAAAIN0RdkAAAADg6BF2QAAAAAD0EXZAAAAA4P4RdkAAAABgCRJ2QAAAACATEnZAAAAAoBwSdkAAAADgJRJ2QAAAAEAuEnZAAAAA4DYSdkAAAACgPhJ2QAAAAGBGEnZAAAAAoE0SdkAAAADAVBJ2QAAAAGBbEnZAAAAA4GESdkAAAAAgaBJ2QAAAAABuEnZAAAAAwHMSdkAAAABAeRJ2QAAAAGB+EnZAAAAAgIMSdkAAAABgiBJ2QAAAAMCMEnZAAAAAAJESdkAAAACAlRJ2QAAAAGCZEnZA",
          "dtype": "f8"
         }
        },
        {
         "line": {
          "color": "orange",
          "width": 3
         },
         "mode": "lines",
         "name": "Mean Forecast",
         "type": "scatter",
         "x": [
          "2025-08-01T00:00:00.000000000",
          "2025-08-04T00:00:00.000000000",
          "2025-08-05T00:00:00.000000000",
          "2025-08-06T00:00:00.000000000",
          "2025-08-07T00:00:00.000000000",
          "2025-08-08T00:00:00.000000000",
          "2025-08-11T00:00:00.000000000",
          "2025-08-12T00:00:00.000000000",
          "2025-08-13T00:00:00.000000000",
          "2025-08-14T00:00:00.000000000",
          "2025-08-15T00:00:00.000000000",
          "2025-08-18T00:00:00.000000000",
          "2025-08-19T00:00:00.000000000",
          "2025-08-20T00:00:00.000000000",
          "2025-08-21T00:00:00.000000000",
          "2025-08-22T00:00:00.000000000",
          "2025-08-25T00:00:00.000000000",
          "2025-08-26T00:00:00.000000000",
          "2025-08-27T00:00:00.000000000",
          "2025-08-28T00:00:00.000000000",
          "2025-08-29T00:00:00.000000000",
          "2025-09-01T00:00:00.000000000",
          "2025-09-02T00:00:00.000000000",
          "2025-09-03T00:00:00.000000000",
          "2025-09-04T00:00:00.000000000",
          "2025-09-05T00:00:00.000000000",
          "2025-09-08T00:00:00.000000000",
          "2025-09-09T00:00:00.000000000",
          "2025-09-10T00:00:00.000000000",
          "2025-09-11T00:00:00.000000000",
          "2025-09-12T00:00:00.000000000",
          "2025-09-15T00:00:00.000000000",
          "2025-09-16T00:00:00.000000000",
          "2025-09-17T00:00:00.000000000",
          "2025-09-18T00:00:00.000000000",
          "2025-09-19T00:00:00.000000000",
          "2025-09-22T00:00:00.000000000",
          "2025-09-23T00:00:00.000000000",
          "2025-09-24T00:00:00.000000000",
          "2025-09-25T00:00:00.000000000",
          "2025-09-26T00:00:00.000000000",
          "2025-09-29T00:00:00.000000000",
          "2025-09-30T00:00:00.000000000",
          "2025-10-01T00:00:00.000000000",
          "2025-10-02T00:00:00.000000000",
          "2025-10-03T00:00:00.000000000",
          "2025-10-06T00:00:00.000000000",
          "2025-10-07T00:00:00.000000000",
          "2025-10-08T00:00:00.000000000",
          "2025-10-09T00:00:00.000000000",
          "2025-10-10T00:00:00.000000000",
          "2025-10-13T00:00:00.000000000",
          "2025-10-14T00:00:00.000000000",
          "2025-10-15T00:00:00.000000000",
          "2025-10-16T00:00:00.000000000",
          "2025-10-17T00:00:00.000000000",
          "2025-10-20T00:00:00.000000000",
          "2025-10-21T00:00:00.000000000",
          "2025-10-22T00:00:00.000000000",
          "2025-10-23T00:00:00.000000000",
          "2025-10-24T00:00:00.000000000",
          "2025-10-27T00:00:00.000000000",
          "2025-10-28T00:00:00.000000000",
          "2025-10-29T00:00:00.000000000",
          "2025-10-30T00:00:00.000000000",
          "2025-10-31T00:00:00.000000000",
          "2025-11-03T00:00:00.000000000",
          "2025-11-04T00:00:00.000000000",
          "2025-11-05T00:00:00.000000000",
          "2025-11-06T00:00:00.000000000",
          "2025-11-07T00:00:00.000000000",
          "2025-11-10T00:00:00.000000000",
          "2025-11-11T00:00:00.000000000",
          "2025-11-12T00:00:00.000000000",
          "2025-11-13T00:00:00.000000000",
          "2025-11-14T00:00:00.000000000",
          "2025-11-17T00:00:00.000000000",
          "2025-11-18T00:00:00.000000000",
          "2025-11-19T00:00:00.000000000",
          "2025-11-20T00:00:00.000000000",
          "2025-11-21T00:00:00.000000000",
          "2025-11-24T00:00:00.000000000",
          "2025-11-25T00:00:00.000000000",
          "2025-11-26T00:00:00.000000000",
          "2025-11-27T00:00:00.000000000",
          "2025-11-28T00:00:00.000000000",
          "2025-12-01T00:00:00.000000000",
          "2025-12-02T00:00:00.000000000",
          "2025-12-03T00:00:00.000000000",
          "2025-12-04T00:00:00.000000000",
          "2025-12-05T00:00:00.000000000",
          "2025-12-08T00:00:00.000000000",
          "2025-12-09T00:00:00.000000000",
          "2025-12-10T00:00:00.000000000",
          "2025-12-11T00:00:00.000000000",
          "2025-12-12T00:00:00.000000000",
          "2025-12-15T00:00:00.000000000",
          "2025-12-16T00:00:00.000000000",
          "2025-12-17T00:00:00.000000000",
          "2025-12-18T00:00:00.000000000",
          "2025-12-19T00:00:00.000000000",
          "2025-12-22T00:00:00.000000000",
          "2025-12-23T00:00:00.000000000",
          "2025-12-24T00:00:00.000000000",
          "2025-12-25T00:00:00.000000000",
          "2025-12-26T00:00:00.000000000",
          "2025-12-29T00:00:00.000000000",
          "2025-12-30T00:00:00.000000000",
          "2025-12-31T00:00:00.000000000",
          "2026-01-01T00:00:00.000000000",
          "2026-01-02T00:00:00.000000000",
          "2026-01-05T00:00:00.000000000",
          "2026-01-06T00:00:00.000000000",
          "2026-01-07T00:00:00.000000000",
          "2026-01-08T00:00:00.000000000",
          "2026-01-09T00:00:00.000000000",
          "2026-01-12T00:00:00.000000000",
          "2026-01-13T00:00:00.000000000",
          "2026-01-14T00:00:00.000000000",
          "2026-01-15T00:00:00.000000000",
          "2026-01-16T00:00:00.000000000",
          "2026-01-19T00:00:00.000000000",
          "2026-01-20T00:00:00.000000000",
          "2026-01-21T00:00:00.000000000",
          "2026-01-22T00:00:00.000000000",
          "2026-01-23T00:00:00.000000000",
          "2026-01-26T00:00:00.000000000",
          "2026-01-27T00:00:00.000000000",
          "2026-01-28T00:00:00.000000000",
          "2026-01-29T00:00:00.000000000",
          "2026-01-30T00:00:00.000000000",
          "2026-02-02T00:00:00.000000000",
          "2026-02-03T00:00:00.000000000",
          "2026-02-04T00:00:00.000000000",
          "2026-02-05T00:00:00.000000000",
          "2026-02-06T00:00:00.000000000",
          "2026-02-09T00:00:00.000000000",
          "2026-02-10T00:00:00.000000000",
          "2026-02-11T00:00:00.000000000",
          "2026-02-12T00:00:00.000000000",
          "2026-02-13T00:00:00.000000000",
          "2026-02-16T00:00:00.000000000",
          "2026-02-17T00:00:00.000000000",
          "2026-02-18T00:00:00.000000000",
          "2026-02-19T00:00:00.000000000",
          "2026-02-20T00:00:00.000000000",
          "2026-02-23T00:00:00.000000000",
          "2026-02-24T00:00:00.000000000",
          "2026-02-25T00:00:00.000000000",
          "2026-02-26T00:00:00.000000000",
          "2026-02-27T00:00:00.000000000",
          "2026-03-02T00:00:00.000000000",
          "2026-03-03T00:00:00.000000000",
          "2026-03-04T00:00:00.000000000",
          "2026-03-05T00:00:00.000000000",
          "2026-03-06T00:00:00.000000000",
          "2026-03-09T00:00:00.000000000",
          "2026-03-10T00:00:00.000000000",
          "2026-03-11T00:00:00.000000000",
          "2026-03-12T00:00:00.000000000",
          "2026-03-13T00:00:00.000000000",
          "2026-03-16T00:00:00.000000000",
          "2026-03-17T00:00:00.000000000",
          "2026-03-18T00:00:00.000000000",
          "2026-03-19T00:00:00.000000000",
          "2026-03-20T00:00:00.000000000",
          "2026-03-23T00:00:00.000000000",
          "2026-03-24T00:00:00.000000000",
          "2026-03-25T00:00:00.000000000",
          "2026-03-26T00:00:00.000000000",
          "2026-03-27T00:00:00.000000000",
          "2026-03-30T00:00:00.000000000",
          "2026-03-31T00:00:00.000000000",
          "2026-04-01T00:00:00.000000000",
          "2026-04-02T00:00:00.000000000",
          "2026-04-03T00:00:00.000000000",
          "2026-04-06T00:00:00.000000000",
          "2026-04-07T00:00:00.000000000",
          "2026-04-08T00:00:00.000000000",
          "2026-04-09T00:00:00.000000000"
         ],
         "y": {
          "bdata": "P+ueQ2ZsnkP3XZ5DKI2eQ57gnkOhSp9DYcOfQ8ZFoENIzqBDOlqhQ3jnoUNfdKJDov+iQ0mIo0OhDaRDBo+kQzoMpUPmhKVDCPmlQ59opkOj06ZDPzqnQ4acp0O4+qdD3VSoQz2rqEP4/ahDPU2pQziZqUMD4qlD3SeqQ9hqqkMXq6pDveiqQ+Mjq0OpXKtDKZOrQ4HHq0PA+atD/ymsQ0ZYrEPAhKxDaa+sQ2TYrEO9/6xDfyWtQ71JrUOBbK1D442tQ+mtrUOozK1DJOqtQ3gGrkOdIa5DqDuuQ6RUrkOdbK5DnYOuQ6mZrkPYrq5DHcOuQ5jWrkM/6a5DI/uuQ0YMr0PBHK9DgyyvQ6Q7r0MkSq9DCFivQ2Nlr0Mocq9DaH6vQySKr0Nkla9DOKCvQ4Oqr0N4tK9D+L2vQwjHr0PDz69DI9ivQyTgr0PX569DOO+vQz/2r0MA/a9DfQOwQ6kJsEOjD7BDWBWwQ8YasEMDILBDCCWwQ9wpsEN4LrBD3TKwQxw3sEMkO7BDAz+wQ79CsENIRrBDvUmwQ/9MsEMfULBDI1OwQwFWsEPBWLBDZFuwQ+ldsENcYLBDqWKwQ+NksEMDZ7BDF2mwQwFrsEPkbLBDuG6wQ2RwsEMIcrBDo3OwQyR1sEOcdrBD/3ewQ1d5sEOYerBD13uwQ/18sEMdfrBDKX+wQzqAsEM4gbBDI4KwQwaDsEPkg7BDv4SwQ4OFsENGhrBDA4ewQ72HsENkiLBDBomwQ6SJsEM/irBDyIqwQ1iLsEPci7BDXIywQ9eMsENDjbBDuo2wQyOOsEODjrBD6I6wQ0OPsEOfj7BD+o+wQ0aQsEOckLBD5JCwQymRsEN4kbBDupGwQ/qRsEM4krBDaZKwQ6SSsEPckrBDCJOwQ0GTsEN4k7BDnZOwQ8aTsEP4k7BDHZSwQ0GUsENklLBDg5SwQ6mUsEPGlLBD",
          "dtype": "f4"
         }
        }
       ],
       "layout": {
        "legend": {
         "x": 0.01,
         "y": 0.99
        },
        "template": {
         "data": {
          "bar": [
           {
            "error_x": {
             "color": "#2a3f5f"
            },
            "error_y": {
             "color": "#2a3f5f"
            },
            "marker": {
             "line": {
              "color": "white",
              "width": 0.5
             },
             "pattern": {
              "fillmode": "overlay",
              "size": 10,
              "solidity": 0.2
             }
            },
            "type": "bar"
           }
          ],
          "barpolar": [
           {
            "marker": {
             "line": {
              "color": "white",
              "width": 0.5
             },
             "pattern": {
              "fillmode": "overlay",
              "size": 10,
              "solidity": 0.2
             }
            },
            "type": "barpolar"
           }
          ],
          "carpet": [
           {
            "aaxis": {
             "endlinecolor": "#2a3f5f",
             "gridcolor": "#C8D4E3",
             "linecolor": "#C8D4E3",
             "minorgridcolor": "#C8D4E3",
             "startlinecolor": "#2a3f5f"
            },
            "baxis": {
             "endlinecolor": "#2a3f5f",
             "gridcolor": "#C8D4E3",
             "linecolor": "#C8D4E3",
             "minorgridcolor": "#C8D4E3",
             "startlinecolor": "#2a3f5f"
            },
            "type": "carpet"
           }
          ],
          "choropleth": [
           {
            "colorbar": {
             "outlinewidth": 0,
             "ticks": ""
            },
            "type": "choropleth"
           }
          ],
          "contour": [
           {
            "colorbar": {
             "outlinewidth": 0,
             "ticks": ""
            },
            "colorscale": [
             [
              0,
              "#0d0887"
             ],
             [
              0.1111111111111111,
              "#46039f"
             ],
             [
              0.2222222222222222,
              "#7201a8"
             ],
             [
              0.3333333333333333,
              "#9c179e"
             ],
             [
              0.4444444444444444,
              "#bd3786"
             ],
             [
              0.5555555555555556,
              "#d8576b"
             ],
             [
              0.6666666666666666,
              "#ed7953"
             ],
             [
              0.7777777777777778,
              "#fb9f3a"
             ],
             [
              0.8888888888888888,
              "#fdca26"
             ],
             [
              1,
              "#f0f921"
             ]
            ],
            "type": "contour"
           }
          ],
          "contourcarpet": [
           {
            "colorbar": {
             "outlinewidth": 0,
             "ticks": ""
            },
            "type": "contourcarpet"
           }
          ],
          "heatmap": [
           {
            "colorbar": {
             "outlinewidth": 0,
             "ticks": ""
            },
            "colorscale": [
             [
              0,
              "#0d0887"
             ],
             [
              0.1111111111111111,
              "#46039f"
             ],
             [
              0.2222222222222222,
              "#7201a8"
             ],
             [
              0.3333333333333333,
              "#9c179e"
             ],
             [
              0.4444444444444444,
              "#bd3786"
             ],
             [
              0.5555555555555556,
              "#d8576b"
             ],
             [
              0.6666666666666666,
              "#ed7953"
             ],
             [
              0.7777777777777778,
              "#fb9f3a"
             ],
             [
              0.8888888888888888,
              "#fdca26"
             ],
             [
              1,
              "#f0f921"
             ]
            ],
            "type": "heatmap"
           }
          ],
          "histogram": [
           {
            "marker": {
             "pattern": {
              "fillmode": "overlay",
              "size": 10,
              "solidity": 0.2
             }
            },
            "type": "histogram"
           }
          ],
          "histogram2d": [
           {
            "colorbar": {
             "outlinewidth": 0,
             "ticks": ""
            },
            "colorscale": [
             [
              0,
              "#0d0887"
             ],
             [
              0.1111111111111111,
              "#46039f"
             ],
             [
              0.2222222222222222,
              "#7201a8"
             ],
             [
              0.3333333333333333,
              "#9c179e"
             ],
             [
              0.4444444444444444,
              "#bd3786"
             ],
             [
              0.5555555555555556,
              "#d8576b"
             ],
             [
              0.6666666666666666,
              "#ed7953"
             ],
             [
              0.7777777777777778,
              "#fb9f3a"
             ],
             [
              0.8888888888888888,
              "#fdca26"
             ],
             [
              1,
              "#f0f921"
             ]
            ],
            "type": "histogram2d"
           }
          ],
          "histogram2dcontour": [
           {
            "colorbar": {
             "outlinewidth": 0,
             "ticks": ""
            },
            "colorscale": [
             [
              0,
              "#0d0887"
             ],
             [
              0.1111111111111111,
              "#46039f"
             ],
             [
              0.2222222222222222,
              "#7201a8"
             ],
             [
              0.3333333333333333,
              "#9c179e"
             ],
             [
              0.4444444444444444,
              "#bd3786"
             ],
             [
              0.5555555555555556,
              "#d8576b"
             ],
             [
              0.6666666666666666,
              "#ed7953"
             ],
             [
              0.7777777777777778,
              "#fb9f3a"
             ],
             [
              0.8888888888888888,
              "#fdca26"
             ],
             [
              1,
              "#f0f921"
             ]
            ],
            "type": "histogram2dcontour"
           }
          ],
          "mesh3d": [
           {
            "colorbar": {
             "outlinewidth": 0,
             "ticks": ""
            },
            "type": "mesh3d"
           }
          ],
          "parcoords": [
           {
            "line": {
             "colorbar": {
              "outlinewidth": 0,
              "ticks": ""
             }
            },
            "type": "parcoords"
           }
          ],
          "pie": [
           {
            "automargin": true,
            "type": "pie"
           }
          ],
          "scatter": [
           {
            "fillpattern": {
             "fillmode": "overlay",
             "size": 10,
             "solidity": 0.2
            },
            "type": "scatter"
           }
          ],
          "scatter3d": [
           {
            "line": {
             "colorbar": {
              "outlinewidth": 0,
              "ticks": ""
             }
            },
            "marker": {
             "colorbar": {
              "outlinewidth": 0,
              "ticks": ""
             }
            },
            "type": "scatter3d"
           }
          ],
          "scattercarpet": [
           {
            "marker": {
             "colorbar": {
              "outlinewidth": 0,
              "ticks": ""
             }
            },
            "type": "scattercarpet"
           }
          ],
          "scattergeo": [
           {
            "marker": {
             "colorbar": {
              "outlinewidth": 0,
              "ticks": ""
             }
            },
            "type": "scattergeo"
           }
          ],
          "scattergl": [
           {
            "marker": {
             "colorbar": {
              "outlinewidth": 0,
              "ticks": ""
             }
            },
            "type": "scattergl"
           }
          ],
          "scattermap": [
           {
            "marker": {
             "colorbar": {
              "outlinewidth": 0,
              "ticks": ""
             }
            },
            "type": "scattermap"
           }
          ],
          "scattermapbox": [
           {
            "marker": {
             "colorbar": {
              "outlinewidth": 0,
              "ticks": ""
             }
            },
            "type": "scattermapbox"
           }
          ],
          "scatterpolar": [
           {
            "marker": {
             "colorbar": {
              "outlinewidth": 0,
              "ticks": ""
             }
            },
            "type": "scatterpolar"
           }
          ],
          "scatterpolargl": [
           {
            "marker": {
             "colorbar": {
              "outlinewidth": 0,
              "ticks": ""
             }
            },
            "type": "scatterpolargl"
           }
          ],
          "scatterternary": [
           {
            "marker": {
             "colorbar": {
              "outlinewidth": 0,
              "ticks": ""
             }
            },
            "type": "scatterternary"
           }
          ],
          "surface": [
           {
            "colorbar": {
             "outlinewidth": 0,
             "ticks": ""
            },
            "colorscale": [
             [
              0,
              "#0d0887"
             ],
             [
              0.1111111111111111,
              "#46039f"
             ],
             [
              0.2222222222222222,
              "#7201a8"
             ],
             [
              0.3333333333333333,
              "#9c179e"
             ],
             [
              0.4444444444444444,
              "#bd3786"
             ],
             [
              0.5555555555555556,
              "#d8576b"
             ],
             [
              0.6666666666666666,
              "#ed7953"
             ],
             [
              0.7777777777777778,
              "#fb9f3a"
             ],
             [
              0.8888888888888888,
              "#fdca26"
             ],
             [
              1,
              "#f0f921"
             ]
            ],
            "type": "surface"
           }
          ],
          "table": [
           {
            "cells": {
             "fill": {
              "color": "#EBF0F8"
             },
             "line": {
              "color": "white"
             }
            },
            "header": {
             "fill": {
              "color": "#C8D4E3"
             },
             "line": {
              "color": "white"
             }
            },
            "type": "table"
           }
          ]
         },
         "layout": {
          "annotationdefaults": {
           "arrowcolor": "#2a3f5f",
           "arrowhead": 0,
           "arrowwidth": 1
          },
          "autotypenumbers": "strict",
          "coloraxis": {
           "colorbar": {
            "outlinewidth": 0,
            "ticks": ""
           }
          },
          "colorscale": {
           "diverging": [
            [
             0,
             "#8e0152"
            ],
            [
             0.1,
             "#c51b7d"
            ],
            [
             0.2,
             "#de77ae"
            ],
            [
             0.3,
             "#f1b6da"
            ],
            [
             0.4,
             "#fde0ef"
            ],
            [
             0.5,
             "#f7f7f7"
            ],
            [
             0.6,
             "#e6f5d0"
            ],
            [
             0.7,
             "#b8e186"
            ],
            [
             0.8,
             "#7fbc41"
            ],
            [
             0.9,
             "#4d9221"
            ],
            [
             1,
             "#276419"
            ]
           ],
           "sequential": [
            [
             0,
             "#0d0887"
            ],
            [
             0.1111111111111111,
             "#46039f"
            ],
            [
             0.2222222222222222,
             "#7201a8"
            ],
            [
             0.3333333333333333,
             "#9c179e"
            ],
            [
             0.4444444444444444,
             "#bd3786"
            ],
            [
             0.5555555555555556,
             "#d8576b"
            ],
            [
             0.6666666666666666,
             "#ed7953"
            ],
            [
             0.7777777777777778,
             "#fb9f3a"
            ],
            [
             0.8888888888888888,
             "#fdca26"
            ],
            [
             1,
             "#f0f921"
            ]
           ],
           "sequentialminus": [
            [
             0,
             "#0d0887"
            ],
            [
             0.1111111111111111,
             "#46039f"
            ],
            [
             0.2222222222222222,
             "#7201a8"
            ],
            [
             0.3333333333333333,
             "#9c179e"
            ],
            [
             0.4444444444444444,
             "#bd3786"
            ],
            [
             0.5555555555555556,
             "#d8576b"
            ],
            [
             0.6666666666666666,
             "#ed7953"
            ],
            [
             0.7777777777777778,
             "#fb9f3a"
            ],
            [
             0.8888888888888888,
             "#fdca26"
            ],
            [
             1,
             "#f0f921"
            ]
           ]
          },
          "colorway": [
           "#636efa",
           "#EF553B",
           "#00cc96",
           "#ab63fa",
           "#FFA15A",
           "#19d3f3",
           "#FF6692",
           "#B6E880",
           "#FF97FF",
           "#FECB52"
          ],
          "font": {
           "color": "#2a3f5f"
          },
          "geo": {
           "bgcolor": "white",
           "lakecolor": "white",
           "landcolor": "white",
           "showlakes": true,
           "showland": true,
           "subunitcolor": "#C8D4E3"
          },
          "hoverlabel": {
           "align": "left"
          },
          "hovermode": "closest",
          "mapbox": {
           "style": "light"
          },
          "paper_bgcolor": "white",
          "plot_bgcolor": "white",
          "polar": {
           "angularaxis": {
            "gridcolor": "#EBF0F8",
            "linecolor": "#EBF0F8",
            "ticks": ""
           },
           "bgcolor": "white",
           "radialaxis": {
            "gridcolor": "#EBF0F8",
            "linecolor": "#EBF0F8",
            "ticks": ""
           }
          },
          "scene": {
           "xaxis": {
            "backgroundcolor": "white",
            "gridcolor": "#DFE8F3",
            "gridwidth": 2,
            "linecolor": "#EBF0F8",
            "showbackground": true,
            "ticks": "",
            "zerolinecolor": "#EBF0F8"
           },
           "yaxis": {
            "backgroundcolor": "white",
            "gridcolor": "#DFE8F3",
            "gridwidth": 2,
            "linecolor": "#EBF0F8",
            "showbackground": true,
            "ticks": "",
            "zerolinecolor": "#EBF0F8"
           },
           "zaxis": {
            "backgroundcolor": "white",
            "gridcolor": "#DFE8F3",
            "gridwidth": 2,
            "linecolor": "#EBF0F8",
            "showbackground": true,
            "ticks": "",
            "zerolinecolor": "#EBF0F8"
           }
          },
          "shapedefaults": {
           "line": {
            "color": "#2a3f5f"
           }
          },
          "ternary": {
           "aaxis": {
            "gridcolor": "#DFE8F3",
            "linecolor": "#A2B1C6",
            "ticks": ""
           },
           "baxis": {
            "gridcolor": "#DFE8F3",
            "linecolor": "#A2B1C6",
            "ticks": ""
           },
           "bgcolor": "white",
           "caxis": {
            "gridcolor": "#DFE8F3",
            "linecolor": "#A2B1C6",
            "ticks": ""
           }
          },
          "title": {
           "x": 0.05
          },
          "xaxis": {
           "automargin": true,
           "gridcolor": "#EBF0F8",
           "linecolor": "#EBF0F8",
           "ticks": "",
           "title": {
            "standoff": 15
           },
           "zerolinecolor": "#EBF0F8",
           "zerolinewidth": 2
          },
          "yaxis": {
           "automargin": true,
           "gridcolor": "#EBF0F8",
           "linecolor": "#EBF0F8",
           "ticks": "",
           "title": {
            "standoff": 15
           },
           "zerolinecolor": "#EBF0F8",
           "zerolinewidth": 2
          }
         }
        },
        "title": {
         "text": "TSLA 6-Month Future Forecast with 95% Confidence Interval"
        },
        "xaxis": {
         "title": {
          "text": "Date"
         }
        },
        "yaxis": {
         "title": {
          "text": "Adjusted Close Price"
         }
        }
       }
      }
     },
     "metadata": {},
     "output_type": "display_data"
    }
   ],
   "source": [
    "# Cell 1: Imports\n",
    "import pandas as pd\n",
    "import numpy as np\n",
    "import tensorflow as tf\n",
    "from src import future_forecaster as ff # Import your new module\n",
    "\n",
    "# Cell 2: Load Prerequisites\n",
    "# This assumes 'scaler' and 'tsla_df' are already loaded in your notebook's memory.\n",
    "# It also assumes 'trained_model' holds your trained Keras model.\n",
    "time_step = 60 # Ensure this is defined\n",
    "\n",
    "# Cell 3: Run the Monte Carlo Forecast\n",
    "# Prepare the initial input sequence\n",
    "last_sequence = tsla_df['Adj Close'][-time_step:].values.reshape(-1, 1)\n",
    "\n",
    "# Call the function from your module to get all forecast paths\n",
    "all_forecasts = ff.run_monte_carlo_forecast(\n",
    "    trained_model=trained_model,\n",
    "    scaler=scaler,\n",
    "    last_sequence=last_sequence,\n",
    "    time_step=time_step,\n",
    "    forecast_days=180\n",
    ")\n",
    "\n",
    "# Cell 4: Process the Forecasts\n",
    "# Call the function to calculate the mean and confidence intervals\n",
    "future_forecast_df = ff.process_forecasts(\n",
    "    all_forecast_paths=all_forecasts,\n",
    "    scaler=scaler,\n",
    "    last_date=tsla_df.index[-1],\n",
    "    forecast_days=180\n",
    ")\n",
    "\n",
    "# Cell 5: Visualize the Final Result\n",
    "# Call the plotting function from your module\n",
    "ff.plot_future_forecast(\n",
    "    historical_df=tsla_df,\n",
    "    forecast_df=future_forecast_df\n",
    ")"
   ]
  },
  {
   "cell_type": "markdown",
   "id": "997606f0",
   "metadata": {},
   "source": [
    "### ## Trend Analysis\n",
    "\n",
    "[cite_start]The **Mean Forecast** (the solid orange line) indicates the model's best estimate for the price trend over the next six months. [cite: 193] The forecast shows an initial modest upward movement, which then stabilizes and flattens out. [cite_start]This suggests that based on the historical data, the model does not predict a continuation of extreme growth but rather a period of consolidation for TSLA's stock price in the near future. [cite: 194]\n",
    "\n",
    "---\n",
    "### ## Volatility and Risk\n",
    "\n",
    "[cite_start]The **95% Confidence Interval** (the shaded area) is the most critical feature for analyzing risk. [cite: 190, 196]\n",
    "\n",
    "* [cite_start]**Increasing Uncertainty:** The most noticeable characteristic is that the confidence interval band starts relatively narrow and becomes **progressively wider** over the 6-month forecast horizon. [cite: 197]\n",
    "* **Forecast Reliability:** This widening visually demonstrates the **increasing uncertainty** of the forecast over time. [cite_start]It implies that the reliability and certainty of the model's predictions are much higher for the immediate short-term (e.g., the next few weeks) and significantly lower for long-term predictions (e.g., six months from now). [cite: 198] This is a fundamental concept in financial forecasting: the further into the future you predict, the less certain the outcome.\n",
    "\n",
    "---\n",
    "### ## Market Opportunities and Risks\n",
    "\n",
    "* [cite_start]**Opportunities:** The gentle upward slope of the mean forecast suggests a potential for modest price increases, which could be seen as a market opportunity for capital appreciation. [cite: 200]\n",
    "* **Risks:** The primary risk is highlighted by the very wide confidence interval. This indicates that high volatility is expected to continue. Even though the average forecast is stable, the wide band shows there is a statistically significant chance that the price could either rise to the upper bound or fall to the lower bound. [cite_start]This high level of uncertainty is a major risk factor that must be considered. [cite: 200]"
   ]
  },
  {
   "cell_type": "code",
   "execution_count": 35,
   "id": "e423fb23",
   "metadata": {},
   "outputs": [
    {
     "name": "stdout",
     "output_type": "stream",
     "text": [
      "--- Max Sharpe Ratio Portfolio ---\n",
      "OrderedDict({'TSLA': 0.0, 'SPY': 0.46373, 'BND': 0.53627})\n",
      "Performance: Return=7.30%, Volatility=9.27%, Sharpe=0.79\n",
      "\n",
      "--- Min Volatility Portfolio ---\n",
      "OrderedDict({'TSLA': 0.0, 'SPY': 0.05489, 'BND': 0.94511})\n",
      "Performance: Return=2.47%, Volatility=5.40%, Sharpe=0.46\n",
      "\n",
      "--- Inputs for Optimization ---\n",
      "Expected Annual Returns (mu):\n",
      "TSLA    0.209652\n",
      "SPY     0.136224\n",
      "BND     0.018259\n",
      "dtype: float64\n",
      "\n",
      "Covariance Matrix (S):\n",
      "          TSLA       SPY       BND\n",
      "TSLA  0.350318  0.052945  0.001860\n",
      "SPY   0.052945  0.033261  0.001150\n",
      "BND   0.001860  0.001150  0.003015\n"
     ]
    },
    {
     "name": "stderr",
     "output_type": "stream",
     "text": [
      "c:\\Users\\ABC\\Desktop\\10Acadamy\\week_11\\Time-Series-Forecasting\\.venv\\Lib\\site-packages\\cvxpy\\problems\\problem.py:1539: UserWarning:\n",
      "\n",
      "Solution may be inaccurate. Try another solver, adjusting the solver settings, or solve with verbose=True for more information.\n",
      "\n"
     ]
    },
    {
     "data": {
      "application/vnd.plotly.v1+json": {
       "config": {
        "plotlyServerURL": "https://plot.ly"
       },
       "data": [
        {
         "mode": "lines",
         "name": "Efficient Frontier",
         "type": "scatter",
         "x": {
          "bdata": "ovDhPKahqz+XYzsLRxKsP4zWlNnngqw/gUnup4jzrD92vEd2KWStP2svoUTK1K0/YKL6EmtFrj9WFVThC7auP0uIra+sJq8/QPsGfk2Xrz8aNzAm9wOwP5XwXI1HPLA/EKqJ9Jd0sD+KY7Zb6KywPwQd48I45bA/f9YPKokdsT/6jzyR2VWxP3RJafgpjrE/7wKWX3rGsT9pvMLGyv6xP+R17y0bN7I/Xi8clWtvsj/Z6Ej8u6eyP1SidWMM4LI/zluiylwYsz9IFc8xrVCzP8PO+5j9iLM/PogoAE7Bsz+4QVVnnvmzPzP7gc7uMbQ/rbSuNT9qtD8obtucj6K0P6InCATg2rQ/HeE0azATtT+XmmHSgEu1PxJUjjnRg7U/jA27oCG8tT8Hx+cHcvS1P4KAFG/CLLY//DlB1hJltj928209Y522P/GsmqSz1bY/bGbHCwQOtz/mH/RyVEa3P2DZINqkfrc/3JJNQfW2tz9WTHqoRe+3P9AFpw+WJ7g/S7/TduZfuD/GeADeNpi4P0AyLUWH0Lg/uutZrNcIuT81pYYTKEG5P7Bes3p4ebk/Khjg4cixuT+k0QxJGeq5Px+LObBpIro/mkRmF7pauj8U/pJ+CpO6P4+3v+Vay7o/CnHsTKsDuz+EKhm0+zu7P/7jRRtMdLs/eZ1ygpysuz/0Vp/p7OS7P24QzFA9Hbw/6Mn4t41VvD9jgyUf3o28P948UoYuxrw/WPZ+7X7+vD/Sr6tUzza9P05p2Lsfb70/yCIFI3CnvT9C3DGKwN+9P72VXvEQGL4/N0+LWGFQvj+yCLi/sYi+Py3C5CYCwb4/p3sRjlL5vj8iNT71ojG/P5zualzzab8/F6iXw0Oivz+RYcQqlNq/P4aN+EhyCcA/Q+qOfJolwD8ARyWwwkHAP76ju+PqXcA/ewBSFxN6wD84XehKO5bAP/a5fn5jssA/sxYVsovOwD9wc6vls+rAPy7QQRncBsE/6izYTAQjwT+oiW6ALD/BP2XmBLRUW8E/IkOb53x3wT/gnzEbpZPBP538x07Nr8E/WllegvXLwT8=",
          "dtype": "f8"
         },
         "y": [
          {
           "BND": 0.9451088851843588,
           "SPY": 0.0548911148081772,
           "TSLA": 7.4635e-12
          },
          {
           "BND": 0.8926562321423713,
           "SPY": 0.1073437294867198,
           "TSLA": 3.83709092e-8
          },
          {
           "BND": 0.8706364394644504,
           "SPY": 0.12936354417523,
           "TSLA": 1.63603197e-8
          },
          {
           "BND": 0.853541909443801,
           "SPY": 0.1464580494507512,
           "TSLA": 4.11054479e-8
          },
          {
           "BND": 0.8389658406523255,
           "SPY": 0.1610341477803077,
           "TSLA": 1.15673667e-8
          },
          {
           "BND": 0.8259801270093345,
           "SPY": 0.1740198352503048,
           "TSLA": 3.77403607e-8
          },
          {
           "BND": 0.8141110474145351,
           "SPY": 0.1858889477889592,
           "TSLA": 4.7965056e-9
          },
          {
           "BND": 0.8030783234774284,
           "SPY": 0.1969216707083725,
           "TSLA": 5.8141992e-9
          },
          {
           "BND": 0.7927002447907475,
           "SPY": 0.2072997359780986,
           "TSLA": 1.92311539e-8
          },
          {
           "BND": 0.7828511472834369,
           "SPY": 0.2171488190560337,
           "TSLA": 3.36605295e-8
          },
          {
           "BND": 0.7734399473353987,
           "SPY": 0.2265600312109374,
           "TSLA": 2.14536637e-8
          },
          {
           "BND": 0.7643982996602888,
           "SPY": 0.2356015928553314,
           "TSLA": 1.074843797e-7
          },
          {
           "BND": 0.755673126181944,
           "SPY": 0.2443268216216204,
           "TSLA": 5.21964356e-8
          },
          {
           "BND": 0.7472226625829083,
           "SPY": 0.2527773363881074,
           "TSLA": 1.0289845e-9
          },
          {
           "BND": 0.7390131154802649,
           "SPY": 0.2609868833671606,
           "TSLA": 1.1525743e-9
          },
          {
           "BND": 0.7310167536942673,
           "SPY": 0.2689832456964524,
           "TSLA": 6.092805e-10
          },
          {
           "BND": 0.7232105442061063,
           "SPY": 0.2767894272205303,
           "TSLA": 2.85733634e-8
          },
          {
           "BND": 0.7155750719212549,
           "SPY": 0.2844248729731352,
           "TSLA": 5.51056098e-8
          },
          {
           "BND": 0.7080938121879466,
           "SPY": 0.2919061538332149,
           "TSLA": 3.39788384e-8
          },
          {
           "BND": 0.7007526524446246,
           "SPY": 0.2992472520096033,
           "TSLA": 9.55457722e-8
          },
          {
           "BND": 0.6935392539336164,
           "SPY": 0.3064607155960052,
           "TSLA": 3.04703785e-8
          },
          {
           "BND": 0.6864430291913283,
           "SPY": 0.3135568890259656,
           "TSLA": 8.17827062e-8
          },
          {
           "BND": 0.6794544593570471,
           "SPY": 0.3205455285766716,
           "TSLA": 1.20662814e-8
          },
          {
           "BND": 0.6725654002132588,
           "SPY": 0.3274345272968694,
           "TSLA": 7.24898718e-8
          },
          {
           "BND": 0.6657683641257566,
           "SPY": 0.3342316276537256,
           "TSLA": 8.2205175e-9
          },
          {
           "BND": 0.6590568856263287,
           "SPY": 0.3409431006327085,
           "TSLA": 1.37409629e-8
          },
          {
           "BND": 0.6524250421653093,
           "SPY": 0.34757494423907,
           "TSLA": 1.35956206e-8
          },
          {
           "BND": 0.6458675376660838,
           "SPY": 0.3541324539585974,
           "TSLA": 8.3753187e-9
          },
          {
           "BND": 0.63937959204591,
           "SPY": 0.3606204040946538,
           "TSLA": 3.8594362e-9
          },
          {
           "BND": 0.6329568690475785,
           "SPY": 0.367043129459675,
           "TSLA": 1.4927465e-9
          },
          {
           "BND": 0.6265954324312686,
           "SPY": 0.3734045419615552,
           "TSLA": 2.5607176e-8
          },
          {
           "BND": 0.6202916568806337,
           "SPY": 0.3797083346235208,
           "TSLA": 8.4958456e-9
          },
          {
           "BND": 0.6140422679346568,
           "SPY": 0.3859577251661914,
           "TSLA": 6.8991518e-9
          },
          {
           "BND": 0.6078442387382781,
           "SPY": 0.392155751243197,
           "TSLA": 1.00185248e-8
          },
          {
           "BND": 0.6016947841655296,
           "SPY": 0.3983052091744944,
           "TSLA": 6.6599762e-9
          },
          {
           "BND": 0.5955913494984877,
           "SPY": 0.4044086374982348,
           "TSLA": 1.30032775e-8
          },
          {
           "BND": 0.5895315485622918,
           "SPY": 0.4104684479660289,
           "TSLA": 3.4716793e-9
          },
          {
           "BND": 0.5835132098330197,
           "SPY": 0.416486775983254,
           "TSLA": 1.41837263e-8
          },
          {
           "BND": 0.5775342715594239,
           "SPY": 0.4224657256392404,
           "TSLA": 2.8013356e-9
          },
          {
           "BND": 0.5715929182983187,
           "SPY": 0.4284069844057584,
           "TSLA": 9.72959227e-8
          },
          {
           "BND": 0.5656872673262217,
           "SPY": 0.4343126354515802,
           "TSLA": 9.72221983e-8
          },
          {
           "BND": 0.559815758988275,
           "SPY": 0.4401840990878106,
           "TSLA": 1.419239144e-7
          },
          {
           "BND": 0.5539767149261065,
           "SPY": 0.4460232778118385,
           "TSLA": 7.2620551e-9
          },
          {
           "BND": 0.5481689029315773,
           "SPY": 0.4518310776956428,
           "TSLA": 1.93727798e-8
          },
          {
           "BND": 0.5423908645157736,
           "SPY": 0.4576091350591768,
           "TSLA": 4.250496e-10
          },
          {
           "BND": 0.5366413701912851,
           "SPY": 0.463358624002393,
           "TSLA": 5.806322e-9
          },
          {
           "BND": 0.5309192117501641,
           "SPY": 0.4690807848179263,
           "TSLA": 3.4319098e-9
          },
          {
           "BND": 0.5252232770034213,
           "SPY": 0.4747767206202282,
           "TSLA": 2.3763505e-9
          },
          {
           "BND": 0.5195525121108546,
           "SPY": 0.4804474863510763,
           "TSLA": 1.5380691e-9
          },
          {
           "BND": 0.5139060199874721,
           "SPY": 0.486093829655707,
           "TSLA": 1.50356821e-7
          },
          {
           "BND": 0.5082825940322812,
           "SPY": 0.491717376687032,
           "TSLA": 2.92806867e-8
          },
          {
           "BND": 0.5026815968389361,
           "SPY": 0.4973183773390187,
           "TSLA": 2.58220454e-8
          },
          {
           "BND": 0.4971021521691803,
           "SPY": 0.5028977653065783,
           "TSLA": 8.25242414e-8
          },
          {
           "BND": 0.4915433669018692,
           "SPY": 0.5084565921230733,
           "TSLA": 4.09750575e-8
          },
          {
           "BND": 0.4860046760196396,
           "SPY": 0.5139951213135551,
           "TSLA": 2.026668053e-7
          },
          {
           "BND": 0.4804851725191066,
           "SPY": 0.5195145832023892,
           "TSLA": 2.442785044e-7
          },
          {
           "BND": 0.474984147014948,
           "SPY": 0.5250157001830011,
           "TSLA": 1.528020509e-7
          },
          {
           "BND": 0.4695010694714062,
           "SPY": 0.5304988578967323,
           "TSLA": 7.26318614e-8
          },
          {
           "BND": 0.4640353932965616,
           "SPY": 0.5359644796912332,
           "TSLA": 1.270122053e-7
          },
          {
           "BND": 0.4585864594916757,
           "SPY": 0.5414133471419531,
           "TSLA": 1.933663712e-7
          },
          {
           "BND": 0.4531537073400463,
           "SPY": 0.546846028131625,
           "TSLA": 2.645283288e-7
          },
          {
           "BND": 0.4477364243053687,
           "SPY": 0.5522635131617764,
           "TSLA": 6.25328552e-8
          },
          {
           "BND": 0.4423344236862961,
           "SPY": 0.5576655026944816,
           "TSLA": 7.36192225e-8
          },
          {
           "BND": 0.436947081276389,
           "SPY": 0.5630528362966105,
           "TSLA": 8.24270005e-8
          },
          {
           "BND": 0.4315739353334176,
           "SPY": 0.56842597631492,
           "TSLA": 8.83516625e-8
          },
          {
           "BND": 0.4262145446729533,
           "SPY": 0.5737853641232205,
           "TSLA": 9.12038263e-8
          },
          {
           "BND": 0.4208684875217226,
           "SPY": 0.5791314212509535,
           "TSLA": 9.12273239e-8
          },
          {
           "BND": 0.4155353603432148,
           "SPY": 0.5844645507161114,
           "TSLA": 8.89406739e-8
          },
          {
           "BND": 0.4102147756232505,
           "SPY": 0.5897851411810892,
           "TSLA": 8.31956603e-8
          },
          {
           "BND": 0.404906364632858,
           "SPY": 0.595093558274975,
           "TSLA": 7.70921669e-8
          },
          {
           "BND": 0.3996097723046297,
           "SPY": 0.600390156527715,
           "TSLA": 7.11676552e-8
          },
          {
           "BND": 0.3943246579060556,
           "SPY": 0.6056752763148622,
           "TSLA": 6.57790822e-8
          },
          {
           "BND": 0.3890508922941318,
           "SPY": 0.6109487447544145,
           "TSLA": 3.629514539e-7
          },
          {
           "BND": 0.3837877554975048,
           "SPY": 0.6162119000414701,
           "TSLA": 3.444610249e-7
          },
          {
           "BND": 0.3785351552015785,
           "SPY": 0.6214645150562873,
           "TSLA": 3.297421341e-7
          },
          {
           "BND": 0.3732928010709004,
           "SPY": 0.6267068802053044,
           "TSLA": 3.187237952e-7
          },
          {
           "BND": 0.3680604137772525,
           "SPY": 0.6319392750360536,
           "TSLA": 3.111866937e-7
          },
          {
           "BND": 0.3628377244904844,
           "SPY": 0.6371619686865666,
           "TSLA": 3.068229489e-7
          },
          {
           "BND": 0.3576244743832262,
           "SPY": 0.6423752203508065,
           "TSLA": 3.052659672e-7
          },
          {
           "BND": 0.3524204141558952,
           "SPY": 0.6475792797401204,
           "TSLA": 3.061039843e-7
          },
          {
           "BND": 0.3472253035869914,
           "SPY": 0.6527743875246396,
           "TSLA": 3.088883688e-7
          },
          {
           "BND": 0.3420389111050956,
           "SPY": 0.6579607757605296,
           "TSLA": 3.131343748e-7
          },
          {
           "BND": 0.336861013387677,
           "SPY": 0.6631386682873252,
           "TSLA": 3.183249978e-7
          },
          {
           "BND": 0.3316913949865354,
           "SPY": 0.6683082810930435,
           "TSLA": 3.239204212e-7
          },
          {
           "BND": 0.3265298479712794,
           "SPY": 0.6734698226666119,
           "TSLA": 3.293621088e-7
          },
          {
           "BND": 0.3213761715977122,
           "SPY": 0.6786234943178068,
           "TSLA": 3.340844811e-7
          },
          {
           "BND": 0.3162301719834434,
           "SPY": 0.6837694905078111,
           "TSLA": 3.375087454e-7
          },
          {
           "BND": 0.3110916727840758,
           "SPY": 0.6889079710781503,
           "TSLA": 3.56137774e-7
          },
          {
           "BND": 0.3059605377637522,
           "SPY": 0.6940390028342494,
           "TSLA": 4.594019981e-7
          },
          {
           "BND": 0.3008364735892424,
           "SPY": 0.6991630639677557,
           "TSLA": 4.624430019e-7
          },
          {
           "BND": 0.2957193137676185,
           "SPY": 0.7042803177823598,
           "TSLA": 3.684500219e-7
          },
          {
           "BND": 0.2906089229766668,
           "SPY": 0.709390856129853,
           "TSLA": 2.208934804e-7
          },
          {
           "BND": 0.2855053305616901,
           "SPY": 0.7144943515556567,
           "TSLA": 3.178826532e-7
          },
          {
           "BND": 0.2804083290647752,
           "SPY": 0.719591101075326,
           "TSLA": 5.698598985e-7
          },
          {
           "BND": 0.2753173084749556,
           "SPY": 0.7246824535540057,
           "TSLA": 2.379710386e-7
          },
          {
           "BND": 0.270232550298787,
           "SPY": 0.7297674280685194,
           "TSLA": 2.16326937e-8
          },
          {
           "BND": 0.2651539914231643,
           "SPY": 0.7348459977374935,
           "TSLA": 1.08393422e-8
          },
          {
           "BND": 0.2600814452160392,
           "SPY": 0.7399184115721466,
           "TSLA": 1.432118141e-7
          },
          {
           "BND": 0.2550152532225606,
           "SPY": 0.7449835937301778,
           "TSLA": 0.0000011530472617
          },
          {
           "BND": 0.249953605503332,
           "SPY": 0.7500460025348319,
           "TSLA": 3.91961836e-7
          }
         ]
        },
        {
         "marker": {
          "size": 12
         },
         "mode": "markers",
         "name": "Max Sharpe Ratio",
         "type": "scatter",
         "x": [
          0.0926912235619348
         ],
         "y": [
          0.07296278375574283
         ]
        },
        {
         "marker": {
          "size": 12
         },
         "mode": "markers",
         "name": "Min Volatility",
         "type": "scatter",
         "x": [
          0.05396766179271252
         ],
         "y": [
          0.02473382989191664
         ]
        }
       ],
       "layout": {
        "legend": {
         "x": 0.01,
         "y": 0.99
        },
        "template": {
         "data": {
          "bar": [
           {
            "error_x": {
             "color": "#2a3f5f"
            },
            "error_y": {
             "color": "#2a3f5f"
            },
            "marker": {
             "line": {
              "color": "white",
              "width": 0.5
             },
             "pattern": {
              "fillmode": "overlay",
              "size": 10,
              "solidity": 0.2
             }
            },
            "type": "bar"
           }
          ],
          "barpolar": [
           {
            "marker": {
             "line": {
              "color": "white",
              "width": 0.5
             },
             "pattern": {
              "fillmode": "overlay",
              "size": 10,
              "solidity": 0.2
             }
            },
            "type": "barpolar"
           }
          ],
          "carpet": [
           {
            "aaxis": {
             "endlinecolor": "#2a3f5f",
             "gridcolor": "#C8D4E3",
             "linecolor": "#C8D4E3",
             "minorgridcolor": "#C8D4E3",
             "startlinecolor": "#2a3f5f"
            },
            "baxis": {
             "endlinecolor": "#2a3f5f",
             "gridcolor": "#C8D4E3",
             "linecolor": "#C8D4E3",
             "minorgridcolor": "#C8D4E3",
             "startlinecolor": "#2a3f5f"
            },
            "type": "carpet"
           }
          ],
          "choropleth": [
           {
            "colorbar": {
             "outlinewidth": 0,
             "ticks": ""
            },
            "type": "choropleth"
           }
          ],
          "contour": [
           {
            "colorbar": {
             "outlinewidth": 0,
             "ticks": ""
            },
            "colorscale": [
             [
              0,
              "#0d0887"
             ],
             [
              0.1111111111111111,
              "#46039f"
             ],
             [
              0.2222222222222222,
              "#7201a8"
             ],
             [
              0.3333333333333333,
              "#9c179e"
             ],
             [
              0.4444444444444444,
              "#bd3786"
             ],
             [
              0.5555555555555556,
              "#d8576b"
             ],
             [
              0.6666666666666666,
              "#ed7953"
             ],
             [
              0.7777777777777778,
              "#fb9f3a"
             ],
             [
              0.8888888888888888,
              "#fdca26"
             ],
             [
              1,
              "#f0f921"
             ]
            ],
            "type": "contour"
           }
          ],
          "contourcarpet": [
           {
            "colorbar": {
             "outlinewidth": 0,
             "ticks": ""
            },
            "type": "contourcarpet"
           }
          ],
          "heatmap": [
           {
            "colorbar": {
             "outlinewidth": 0,
             "ticks": ""
            },
            "colorscale": [
             [
              0,
              "#0d0887"
             ],
             [
              0.1111111111111111,
              "#46039f"
             ],
             [
              0.2222222222222222,
              "#7201a8"
             ],
             [
              0.3333333333333333,
              "#9c179e"
             ],
             [
              0.4444444444444444,
              "#bd3786"
             ],
             [
              0.5555555555555556,
              "#d8576b"
             ],
             [
              0.6666666666666666,
              "#ed7953"
             ],
             [
              0.7777777777777778,
              "#fb9f3a"
             ],
             [
              0.8888888888888888,
              "#fdca26"
             ],
             [
              1,
              "#f0f921"
             ]
            ],
            "type": "heatmap"
           }
          ],
          "histogram": [
           {
            "marker": {
             "pattern": {
              "fillmode": "overlay",
              "size": 10,
              "solidity": 0.2
             }
            },
            "type": "histogram"
           }
          ],
          "histogram2d": [
           {
            "colorbar": {
             "outlinewidth": 0,
             "ticks": ""
            },
            "colorscale": [
             [
              0,
              "#0d0887"
             ],
             [
              0.1111111111111111,
              "#46039f"
             ],
             [
              0.2222222222222222,
              "#7201a8"
             ],
             [
              0.3333333333333333,
              "#9c179e"
             ],
             [
              0.4444444444444444,
              "#bd3786"
             ],
             [
              0.5555555555555556,
              "#d8576b"
             ],
             [
              0.6666666666666666,
              "#ed7953"
             ],
             [
              0.7777777777777778,
              "#fb9f3a"
             ],
             [
              0.8888888888888888,
              "#fdca26"
             ],
             [
              1,
              "#f0f921"
             ]
            ],
            "type": "histogram2d"
           }
          ],
          "histogram2dcontour": [
           {
            "colorbar": {
             "outlinewidth": 0,
             "ticks": ""
            },
            "colorscale": [
             [
              0,
              "#0d0887"
             ],
             [
              0.1111111111111111,
              "#46039f"
             ],
             [
              0.2222222222222222,
              "#7201a8"
             ],
             [
              0.3333333333333333,
              "#9c179e"
             ],
             [
              0.4444444444444444,
              "#bd3786"
             ],
             [
              0.5555555555555556,
              "#d8576b"
             ],
             [
              0.6666666666666666,
              "#ed7953"
             ],
             [
              0.7777777777777778,
              "#fb9f3a"
             ],
             [
              0.8888888888888888,
              "#fdca26"
             ],
             [
              1,
              "#f0f921"
             ]
            ],
            "type": "histogram2dcontour"
           }
          ],
          "mesh3d": [
           {
            "colorbar": {
             "outlinewidth": 0,
             "ticks": ""
            },
            "type": "mesh3d"
           }
          ],
          "parcoords": [
           {
            "line": {
             "colorbar": {
              "outlinewidth": 0,
              "ticks": ""
             }
            },
            "type": "parcoords"
           }
          ],
          "pie": [
           {
            "automargin": true,
            "type": "pie"
           }
          ],
          "scatter": [
           {
            "fillpattern": {
             "fillmode": "overlay",
             "size": 10,
             "solidity": 0.2
            },
            "type": "scatter"
           }
          ],
          "scatter3d": [
           {
            "line": {
             "colorbar": {
              "outlinewidth": 0,
              "ticks": ""
             }
            },
            "marker": {
             "colorbar": {
              "outlinewidth": 0,
              "ticks": ""
             }
            },
            "type": "scatter3d"
           }
          ],
          "scattercarpet": [
           {
            "marker": {
             "colorbar": {
              "outlinewidth": 0,
              "ticks": ""
             }
            },
            "type": "scattercarpet"
           }
          ],
          "scattergeo": [
           {
            "marker": {
             "colorbar": {
              "outlinewidth": 0,
              "ticks": ""
             }
            },
            "type": "scattergeo"
           }
          ],
          "scattergl": [
           {
            "marker": {
             "colorbar": {
              "outlinewidth": 0,
              "ticks": ""
             }
            },
            "type": "scattergl"
           }
          ],
          "scattermap": [
           {
            "marker": {
             "colorbar": {
              "outlinewidth": 0,
              "ticks": ""
             }
            },
            "type": "scattermap"
           }
          ],
          "scattermapbox": [
           {
            "marker": {
             "colorbar": {
              "outlinewidth": 0,
              "ticks": ""
             }
            },
            "type": "scattermapbox"
           }
          ],
          "scatterpolar": [
           {
            "marker": {
             "colorbar": {
              "outlinewidth": 0,
              "ticks": ""
             }
            },
            "type": "scatterpolar"
           }
          ],
          "scatterpolargl": [
           {
            "marker": {
             "colorbar": {
              "outlinewidth": 0,
              "ticks": ""
             }
            },
            "type": "scatterpolargl"
           }
          ],
          "scatterternary": [
           {
            "marker": {
             "colorbar": {
              "outlinewidth": 0,
              "ticks": ""
             }
            },
            "type": "scatterternary"
           }
          ],
          "surface": [
           {
            "colorbar": {
             "outlinewidth": 0,
             "ticks": ""
            },
            "colorscale": [
             [
              0,
              "#0d0887"
             ],
             [
              0.1111111111111111,
              "#46039f"
             ],
             [
              0.2222222222222222,
              "#7201a8"
             ],
             [
              0.3333333333333333,
              "#9c179e"
             ],
             [
              0.4444444444444444,
              "#bd3786"
             ],
             [
              0.5555555555555556,
              "#d8576b"
             ],
             [
              0.6666666666666666,
              "#ed7953"
             ],
             [
              0.7777777777777778,
              "#fb9f3a"
             ],
             [
              0.8888888888888888,
              "#fdca26"
             ],
             [
              1,
              "#f0f921"
             ]
            ],
            "type": "surface"
           }
          ],
          "table": [
           {
            "cells": {
             "fill": {
              "color": "#EBF0F8"
             },
             "line": {
              "color": "white"
             }
            },
            "header": {
             "fill": {
              "color": "#C8D4E3"
             },
             "line": {
              "color": "white"
             }
            },
            "type": "table"
           }
          ]
         },
         "layout": {
          "annotationdefaults": {
           "arrowcolor": "#2a3f5f",
           "arrowhead": 0,
           "arrowwidth": 1
          },
          "autotypenumbers": "strict",
          "coloraxis": {
           "colorbar": {
            "outlinewidth": 0,
            "ticks": ""
           }
          },
          "colorscale": {
           "diverging": [
            [
             0,
             "#8e0152"
            ],
            [
             0.1,
             "#c51b7d"
            ],
            [
             0.2,
             "#de77ae"
            ],
            [
             0.3,
             "#f1b6da"
            ],
            [
             0.4,
             "#fde0ef"
            ],
            [
             0.5,
             "#f7f7f7"
            ],
            [
             0.6,
             "#e6f5d0"
            ],
            [
             0.7,
             "#b8e186"
            ],
            [
             0.8,
             "#7fbc41"
            ],
            [
             0.9,
             "#4d9221"
            ],
            [
             1,
             "#276419"
            ]
           ],
           "sequential": [
            [
             0,
             "#0d0887"
            ],
            [
             0.1111111111111111,
             "#46039f"
            ],
            [
             0.2222222222222222,
             "#7201a8"
            ],
            [
             0.3333333333333333,
             "#9c179e"
            ],
            [
             0.4444444444444444,
             "#bd3786"
            ],
            [
             0.5555555555555556,
             "#d8576b"
            ],
            [
             0.6666666666666666,
             "#ed7953"
            ],
            [
             0.7777777777777778,
             "#fb9f3a"
            ],
            [
             0.8888888888888888,
             "#fdca26"
            ],
            [
             1,
             "#f0f921"
            ]
           ],
           "sequentialminus": [
            [
             0,
             "#0d0887"
            ],
            [
             0.1111111111111111,
             "#46039f"
            ],
            [
             0.2222222222222222,
             "#7201a8"
            ],
            [
             0.3333333333333333,
             "#9c179e"
            ],
            [
             0.4444444444444444,
             "#bd3786"
            ],
            [
             0.5555555555555556,
             "#d8576b"
            ],
            [
             0.6666666666666666,
             "#ed7953"
            ],
            [
             0.7777777777777778,
             "#fb9f3a"
            ],
            [
             0.8888888888888888,
             "#fdca26"
            ],
            [
             1,
             "#f0f921"
            ]
           ]
          },
          "colorway": [
           "#636efa",
           "#EF553B",
           "#00cc96",
           "#ab63fa",
           "#FFA15A",
           "#19d3f3",
           "#FF6692",
           "#B6E880",
           "#FF97FF",
           "#FECB52"
          ],
          "font": {
           "color": "#2a3f5f"
          },
          "geo": {
           "bgcolor": "white",
           "lakecolor": "white",
           "landcolor": "white",
           "showlakes": true,
           "showland": true,
           "subunitcolor": "#C8D4E3"
          },
          "hoverlabel": {
           "align": "left"
          },
          "hovermode": "closest",
          "mapbox": {
           "style": "light"
          },
          "paper_bgcolor": "white",
          "plot_bgcolor": "white",
          "polar": {
           "angularaxis": {
            "gridcolor": "#EBF0F8",
            "linecolor": "#EBF0F8",
            "ticks": ""
           },
           "bgcolor": "white",
           "radialaxis": {
            "gridcolor": "#EBF0F8",
            "linecolor": "#EBF0F8",
            "ticks": ""
           }
          },
          "scene": {
           "xaxis": {
            "backgroundcolor": "white",
            "gridcolor": "#DFE8F3",
            "gridwidth": 2,
            "linecolor": "#EBF0F8",
            "showbackground": true,
            "ticks": "",
            "zerolinecolor": "#EBF0F8"
           },
           "yaxis": {
            "backgroundcolor": "white",
            "gridcolor": "#DFE8F3",
            "gridwidth": 2,
            "linecolor": "#EBF0F8",
            "showbackground": true,
            "ticks": "",
            "zerolinecolor": "#EBF0F8"
           },
           "zaxis": {
            "backgroundcolor": "white",
            "gridcolor": "#DFE8F3",
            "gridwidth": 2,
            "linecolor": "#EBF0F8",
            "showbackground": true,
            "ticks": "",
            "zerolinecolor": "#EBF0F8"
           }
          },
          "shapedefaults": {
           "line": {
            "color": "#2a3f5f"
           }
          },
          "ternary": {
           "aaxis": {
            "gridcolor": "#DFE8F3",
            "linecolor": "#A2B1C6",
            "ticks": ""
           },
           "baxis": {
            "gridcolor": "#DFE8F3",
            "linecolor": "#A2B1C6",
            "ticks": ""
           },
           "bgcolor": "white",
           "caxis": {
            "gridcolor": "#DFE8F3",
            "linecolor": "#A2B1C6",
            "ticks": ""
           }
          },
          "title": {
           "x": 0.05
          },
          "xaxis": {
           "automargin": true,
           "gridcolor": "#EBF0F8",
           "linecolor": "#EBF0F8",
           "ticks": "",
           "title": {
            "standoff": 15
           },
           "zerolinecolor": "#EBF0F8",
           "zerolinewidth": 2
          },
          "yaxis": {
           "automargin": true,
           "gridcolor": "#EBF0F8",
           "linecolor": "#EBF0F8",
           "ticks": "",
           "title": {
            "standoff": 15
           },
           "zerolinecolor": "#EBF0F8",
           "zerolinewidth": 2
          }
         }
        },
        "title": {
         "text": "Efficient Frontier with Optimal Portfolios"
        },
        "xaxis": {
         "title": {
          "text": "Annual Volatility (Risk)"
         }
        },
        "yaxis": {
         "title": {
          "text": "Expected Annual Return"
         }
        }
       }
      }
     },
     "metadata": {},
     "output_type": "display_data"
    }
   ],
   "source": [
    "\n",
    "from src import portfolio_optimizer as po\n",
    "\n",
    "# Cell 2: Load Prerequisites\n",
    "# This assumes 'data' (full historical DataFrame) and 'future_forecast_df' are already loaded.\n",
    "prices = data[['TSLA.Adj Close', 'SPY.Adj Close', 'BND.Adj Close']]\n",
    "prices.columns = ['TSLA', 'SPY', 'BND']\n",
    "\n",
    "# Cell 3: Prepare Inputs for Optimization\n",
    "# This function will now print the mu and S matrices\n",
    "mu, S = po.prepare_optimization_inputs(prices, future_forecast_df)\n",
    "\n",
    "# Cell 4: Find and Display Optimal Portfolios\n",
    "# This function will print the weights and performance for both portfolios\n",
    "perf_sharpe, weights_sharpe, perf_min_vol, weights_min_vol = po.find_optimal_portfolios(mu, S)\n",
    "# --- Calculate the Covariance Matrix (S) ---\n",
    "\n",
    "\n",
    "print(\"--- Inputs for Optimization ---\")\n",
    "print(\"Expected Annual Returns (mu):\")\n",
    "print(mu)\n",
    "print(\"\\nCovariance Matrix (S):\")\n",
    "print(S)\n",
    "# Cell 5: Visualize the Efficient Frontier\n",
    "# This function will generate the interactive plot\n",
    "po.plot_efficient_frontier(mu, S, perf_sharpe, perf_min_vol)"
   ]
  },
  {
   "cell_type": "code",
   "execution_count": 36,
   "id": "8988ac94",
   "metadata": {},
   "outputs": [
    {
     "name": "stdout",
     "output_type": "stream",
     "text": [
      "                        My Strategy Benchmark (60/40)\n",
      "Total Return                 10.20%            12.22%\n",
      "Annualized Sharpe Ratio        0.84              0.84\n"
     ]
    },
    {
     "data": {
      "application/vnd.plotly.v1+json": {
       "config": {
        "plotlyServerURL": "https://plot.ly"
       },
       "data": [
        {
         "mode": "lines",
         "name": "My Strategy Portfolio",
         "type": "scatter",
         "x": [
          "2024-08-02T00:00:00.000000000",
          "2024-08-05T00:00:00.000000000",
          "2024-08-06T00:00:00.000000000",
          "2024-08-07T00:00:00.000000000",
          "2024-08-08T00:00:00.000000000",
          "2024-08-09T00:00:00.000000000",
          "2024-08-12T00:00:00.000000000",
          "2024-08-13T00:00:00.000000000",
          "2024-08-14T00:00:00.000000000",
          "2024-08-15T00:00:00.000000000",
          "2024-08-16T00:00:00.000000000",
          "2024-08-19T00:00:00.000000000",
          "2024-08-20T00:00:00.000000000",
          "2024-08-21T00:00:00.000000000",
          "2024-08-22T00:00:00.000000000",
          "2024-08-23T00:00:00.000000000",
          "2024-08-26T00:00:00.000000000",
          "2024-08-27T00:00:00.000000000",
          "2024-08-28T00:00:00.000000000",
          "2024-08-29T00:00:00.000000000",
          "2024-08-30T00:00:00.000000000",
          "2024-09-03T00:00:00.000000000",
          "2024-09-04T00:00:00.000000000",
          "2024-09-05T00:00:00.000000000",
          "2024-09-06T00:00:00.000000000",
          "2024-09-09T00:00:00.000000000",
          "2024-09-10T00:00:00.000000000",
          "2024-09-11T00:00:00.000000000",
          "2024-09-12T00:00:00.000000000",
          "2024-09-13T00:00:00.000000000",
          "2024-09-16T00:00:00.000000000",
          "2024-09-17T00:00:00.000000000",
          "2024-09-18T00:00:00.000000000",
          "2024-09-19T00:00:00.000000000",
          "2024-09-20T00:00:00.000000000",
          "2024-09-23T00:00:00.000000000",
          "2024-09-24T00:00:00.000000000",
          "2024-09-25T00:00:00.000000000",
          "2024-09-26T00:00:00.000000000",
          "2024-09-27T00:00:00.000000000",
          "2024-09-30T00:00:00.000000000",
          "2024-10-01T00:00:00.000000000",
          "2024-10-02T00:00:00.000000000",
          "2024-10-03T00:00:00.000000000",
          "2024-10-04T00:00:00.000000000",
          "2024-10-07T00:00:00.000000000",
          "2024-10-08T00:00:00.000000000",
          "2024-10-09T00:00:00.000000000",
          "2024-10-10T00:00:00.000000000",
          "2024-10-11T00:00:00.000000000",
          "2024-10-14T00:00:00.000000000",
          "2024-10-15T00:00:00.000000000",
          "2024-10-16T00:00:00.000000000",
          "2024-10-17T00:00:00.000000000",
          "2024-10-18T00:00:00.000000000",
          "2024-10-21T00:00:00.000000000",
          "2024-10-22T00:00:00.000000000",
          "2024-10-23T00:00:00.000000000",
          "2024-10-24T00:00:00.000000000",
          "2024-10-25T00:00:00.000000000",
          "2024-10-28T00:00:00.000000000",
          "2024-10-29T00:00:00.000000000",
          "2024-10-30T00:00:00.000000000",
          "2024-10-31T00:00:00.000000000",
          "2024-11-01T00:00:00.000000000",
          "2024-11-04T00:00:00.000000000",
          "2024-11-05T00:00:00.000000000",
          "2024-11-06T00:00:00.000000000",
          "2024-11-07T00:00:00.000000000",
          "2024-11-08T00:00:00.000000000",
          "2024-11-11T00:00:00.000000000",
          "2024-11-12T00:00:00.000000000",
          "2024-11-13T00:00:00.000000000",
          "2024-11-14T00:00:00.000000000",
          "2024-11-15T00:00:00.000000000",
          "2024-11-18T00:00:00.000000000",
          "2024-11-19T00:00:00.000000000",
          "2024-11-20T00:00:00.000000000",
          "2024-11-21T00:00:00.000000000",
          "2024-11-22T00:00:00.000000000",
          "2024-11-25T00:00:00.000000000",
          "2024-11-26T00:00:00.000000000",
          "2024-11-27T00:00:00.000000000",
          "2024-11-29T00:00:00.000000000",
          "2024-12-02T00:00:00.000000000",
          "2024-12-03T00:00:00.000000000",
          "2024-12-04T00:00:00.000000000",
          "2024-12-05T00:00:00.000000000",
          "2024-12-06T00:00:00.000000000",
          "2024-12-09T00:00:00.000000000",
          "2024-12-10T00:00:00.000000000",
          "2024-12-11T00:00:00.000000000",
          "2024-12-12T00:00:00.000000000",
          "2024-12-13T00:00:00.000000000",
          "2024-12-16T00:00:00.000000000",
          "2024-12-17T00:00:00.000000000",
          "2024-12-18T00:00:00.000000000",
          "2024-12-19T00:00:00.000000000",
          "2024-12-20T00:00:00.000000000",
          "2024-12-23T00:00:00.000000000",
          "2024-12-24T00:00:00.000000000",
          "2024-12-26T00:00:00.000000000",
          "2024-12-27T00:00:00.000000000",
          "2024-12-30T00:00:00.000000000",
          "2024-12-31T00:00:00.000000000",
          "2025-01-02T00:00:00.000000000",
          "2025-01-03T00:00:00.000000000",
          "2025-01-06T00:00:00.000000000",
          "2025-01-07T00:00:00.000000000",
          "2025-01-08T00:00:00.000000000",
          "2025-01-10T00:00:00.000000000",
          "2025-01-13T00:00:00.000000000",
          "2025-01-14T00:00:00.000000000",
          "2025-01-15T00:00:00.000000000",
          "2025-01-16T00:00:00.000000000",
          "2025-01-17T00:00:00.000000000",
          "2025-01-21T00:00:00.000000000",
          "2025-01-22T00:00:00.000000000",
          "2025-01-23T00:00:00.000000000",
          "2025-01-24T00:00:00.000000000",
          "2025-01-27T00:00:00.000000000",
          "2025-01-28T00:00:00.000000000",
          "2025-01-29T00:00:00.000000000",
          "2025-01-30T00:00:00.000000000",
          "2025-01-31T00:00:00.000000000",
          "2025-02-03T00:00:00.000000000",
          "2025-02-04T00:00:00.000000000",
          "2025-02-05T00:00:00.000000000",
          "2025-02-06T00:00:00.000000000",
          "2025-02-07T00:00:00.000000000",
          "2025-02-10T00:00:00.000000000",
          "2025-02-11T00:00:00.000000000",
          "2025-02-12T00:00:00.000000000",
          "2025-02-13T00:00:00.000000000",
          "2025-02-14T00:00:00.000000000",
          "2025-02-18T00:00:00.000000000",
          "2025-02-19T00:00:00.000000000",
          "2025-02-20T00:00:00.000000000",
          "2025-02-21T00:00:00.000000000",
          "2025-02-24T00:00:00.000000000",
          "2025-02-25T00:00:00.000000000",
          "2025-02-26T00:00:00.000000000",
          "2025-02-27T00:00:00.000000000",
          "2025-02-28T00:00:00.000000000",
          "2025-03-03T00:00:00.000000000",
          "2025-03-04T00:00:00.000000000",
          "2025-03-05T00:00:00.000000000",
          "2025-03-06T00:00:00.000000000",
          "2025-03-07T00:00:00.000000000",
          "2025-03-10T00:00:00.000000000",
          "2025-03-11T00:00:00.000000000",
          "2025-03-12T00:00:00.000000000",
          "2025-03-13T00:00:00.000000000",
          "2025-03-14T00:00:00.000000000",
          "2025-03-17T00:00:00.000000000",
          "2025-03-18T00:00:00.000000000",
          "2025-03-19T00:00:00.000000000",
          "2025-03-20T00:00:00.000000000",
          "2025-03-21T00:00:00.000000000",
          "2025-03-24T00:00:00.000000000",
          "2025-03-25T00:00:00.000000000",
          "2025-03-26T00:00:00.000000000",
          "2025-03-27T00:00:00.000000000",
          "2025-03-28T00:00:00.000000000",
          "2025-03-31T00:00:00.000000000",
          "2025-04-01T00:00:00.000000000",
          "2025-04-02T00:00:00.000000000",
          "2025-04-03T00:00:00.000000000",
          "2025-04-04T00:00:00.000000000",
          "2025-04-07T00:00:00.000000000",
          "2025-04-08T00:00:00.000000000",
          "2025-04-09T00:00:00.000000000",
          "2025-04-10T00:00:00.000000000",
          "2025-04-11T00:00:00.000000000",
          "2025-04-14T00:00:00.000000000",
          "2025-04-15T00:00:00.000000000",
          "2025-04-16T00:00:00.000000000",
          "2025-04-17T00:00:00.000000000",
          "2025-04-21T00:00:00.000000000",
          "2025-04-22T00:00:00.000000000",
          "2025-04-23T00:00:00.000000000",
          "2025-04-24T00:00:00.000000000",
          "2025-04-25T00:00:00.000000000",
          "2025-04-28T00:00:00.000000000",
          "2025-04-29T00:00:00.000000000",
          "2025-04-30T00:00:00.000000000",
          "2025-05-01T00:00:00.000000000",
          "2025-05-02T00:00:00.000000000",
          "2025-05-05T00:00:00.000000000",
          "2025-05-06T00:00:00.000000000",
          "2025-05-07T00:00:00.000000000",
          "2025-05-08T00:00:00.000000000",
          "2025-05-09T00:00:00.000000000",
          "2025-05-12T00:00:00.000000000",
          "2025-05-13T00:00:00.000000000",
          "2025-05-14T00:00:00.000000000",
          "2025-05-15T00:00:00.000000000",
          "2025-05-16T00:00:00.000000000",
          "2025-05-19T00:00:00.000000000",
          "2025-05-20T00:00:00.000000000",
          "2025-05-21T00:00:00.000000000",
          "2025-05-22T00:00:00.000000000",
          "2025-05-23T00:00:00.000000000",
          "2025-05-27T00:00:00.000000000",
          "2025-05-28T00:00:00.000000000",
          "2025-05-29T00:00:00.000000000",
          "2025-05-30T00:00:00.000000000",
          "2025-06-02T00:00:00.000000000",
          "2025-06-03T00:00:00.000000000",
          "2025-06-04T00:00:00.000000000",
          "2025-06-05T00:00:00.000000000",
          "2025-06-06T00:00:00.000000000",
          "2025-06-09T00:00:00.000000000",
          "2025-06-10T00:00:00.000000000",
          "2025-06-11T00:00:00.000000000",
          "2025-06-12T00:00:00.000000000",
          "2025-06-13T00:00:00.000000000",
          "2025-06-16T00:00:00.000000000",
          "2025-06-17T00:00:00.000000000",
          "2025-06-18T00:00:00.000000000",
          "2025-06-20T00:00:00.000000000",
          "2025-06-23T00:00:00.000000000",
          "2025-06-24T00:00:00.000000000",
          "2025-06-25T00:00:00.000000000",
          "2025-06-26T00:00:00.000000000",
          "2025-06-27T00:00:00.000000000",
          "2025-06-30T00:00:00.000000000",
          "2025-07-01T00:00:00.000000000",
          "2025-07-02T00:00:00.000000000",
          "2025-07-03T00:00:00.000000000",
          "2025-07-07T00:00:00.000000000",
          "2025-07-08T00:00:00.000000000",
          "2025-07-09T00:00:00.000000000",
          "2025-07-10T00:00:00.000000000",
          "2025-07-11T00:00:00.000000000",
          "2025-07-14T00:00:00.000000000",
          "2025-07-15T00:00:00.000000000",
          "2025-07-16T00:00:00.000000000",
          "2025-07-17T00:00:00.000000000",
          "2025-07-18T00:00:00.000000000",
          "2025-07-21T00:00:00.000000000",
          "2025-07-22T00:00:00.000000000",
          "2025-07-23T00:00:00.000000000",
          "2025-07-24T00:00:00.000000000",
          "2025-07-25T00:00:00.000000000",
          "2025-07-28T00:00:00.000000000",
          "2025-07-29T00:00:00.000000000",
          "2025-07-30T00:00:00.000000000",
          "2025-07-31T00:00:00.000000000"
         ],
         "y": {
          "bdata": "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",
          "dtype": "f8"
         }
        },
        {
         "mode": "lines",
         "name": "Benchmark (60/40)",
         "type": "scatter",
         "x": [
          "2024-08-02T00:00:00.000000000",
          "2024-08-05T00:00:00.000000000",
          "2024-08-06T00:00:00.000000000",
          "2024-08-07T00:00:00.000000000",
          "2024-08-08T00:00:00.000000000",
          "2024-08-09T00:00:00.000000000",
          "2024-08-12T00:00:00.000000000",
          "2024-08-13T00:00:00.000000000",
          "2024-08-14T00:00:00.000000000",
          "2024-08-15T00:00:00.000000000",
          "2024-08-16T00:00:00.000000000",
          "2024-08-19T00:00:00.000000000",
          "2024-08-20T00:00:00.000000000",
          "2024-08-21T00:00:00.000000000",
          "2024-08-22T00:00:00.000000000",
          "2024-08-23T00:00:00.000000000",
          "2024-08-26T00:00:00.000000000",
          "2024-08-27T00:00:00.000000000",
          "2024-08-28T00:00:00.000000000",
          "2024-08-29T00:00:00.000000000",
          "2024-08-30T00:00:00.000000000",
          "2024-09-03T00:00:00.000000000",
          "2024-09-04T00:00:00.000000000",
          "2024-09-05T00:00:00.000000000",
          "2024-09-06T00:00:00.000000000",
          "2024-09-09T00:00:00.000000000",
          "2024-09-10T00:00:00.000000000",
          "2024-09-11T00:00:00.000000000",
          "2024-09-12T00:00:00.000000000",
          "2024-09-13T00:00:00.000000000",
          "2024-09-16T00:00:00.000000000",
          "2024-09-17T00:00:00.000000000",
          "2024-09-18T00:00:00.000000000",
          "2024-09-19T00:00:00.000000000",
          "2024-09-20T00:00:00.000000000",
          "2024-09-23T00:00:00.000000000",
          "2024-09-24T00:00:00.000000000",
          "2024-09-25T00:00:00.000000000",
          "2024-09-26T00:00:00.000000000",
          "2024-09-27T00:00:00.000000000",
          "2024-09-30T00:00:00.000000000",
          "2024-10-01T00:00:00.000000000",
          "2024-10-02T00:00:00.000000000",
          "2024-10-03T00:00:00.000000000",
          "2024-10-04T00:00:00.000000000",
          "2024-10-07T00:00:00.000000000",
          "2024-10-08T00:00:00.000000000",
          "2024-10-09T00:00:00.000000000",
          "2024-10-10T00:00:00.000000000",
          "2024-10-11T00:00:00.000000000",
          "2024-10-14T00:00:00.000000000",
          "2024-10-15T00:00:00.000000000",
          "2024-10-16T00:00:00.000000000",
          "2024-10-17T00:00:00.000000000",
          "2024-10-18T00:00:00.000000000",
          "2024-10-21T00:00:00.000000000",
          "2024-10-22T00:00:00.000000000",
          "2024-10-23T00:00:00.000000000",
          "2024-10-24T00:00:00.000000000",
          "2024-10-25T00:00:00.000000000",
          "2024-10-28T00:00:00.000000000",
          "2024-10-29T00:00:00.000000000",
          "2024-10-30T00:00:00.000000000",
          "2024-10-31T00:00:00.000000000",
          "2024-11-01T00:00:00.000000000",
          "2024-11-04T00:00:00.000000000",
          "2024-11-05T00:00:00.000000000",
          "2024-11-06T00:00:00.000000000",
          "2024-11-07T00:00:00.000000000",
          "2024-11-08T00:00:00.000000000",
          "2024-11-11T00:00:00.000000000",
          "2024-11-12T00:00:00.000000000",
          "2024-11-13T00:00:00.000000000",
          "2024-11-14T00:00:00.000000000",
          "2024-11-15T00:00:00.000000000",
          "2024-11-18T00:00:00.000000000",
          "2024-11-19T00:00:00.000000000",
          "2024-11-20T00:00:00.000000000",
          "2024-11-21T00:00:00.000000000",
          "2024-11-22T00:00:00.000000000",
          "2024-11-25T00:00:00.000000000",
          "2024-11-26T00:00:00.000000000",
          "2024-11-27T00:00:00.000000000",
          "2024-11-29T00:00:00.000000000",
          "2024-12-02T00:00:00.000000000",
          "2024-12-03T00:00:00.000000000",
          "2024-12-04T00:00:00.000000000",
          "2024-12-05T00:00:00.000000000",
          "2024-12-06T00:00:00.000000000",
          "2024-12-09T00:00:00.000000000",
          "2024-12-10T00:00:00.000000000",
          "2024-12-11T00:00:00.000000000",
          "2024-12-12T00:00:00.000000000",
          "2024-12-13T00:00:00.000000000",
          "2024-12-16T00:00:00.000000000",
          "2024-12-17T00:00:00.000000000",
          "2024-12-18T00:00:00.000000000",
          "2024-12-19T00:00:00.000000000",
          "2024-12-20T00:00:00.000000000",
          "2024-12-23T00:00:00.000000000",
          "2024-12-24T00:00:00.000000000",
          "2024-12-26T00:00:00.000000000",
          "2024-12-27T00:00:00.000000000",
          "2024-12-30T00:00:00.000000000",
          "2024-12-31T00:00:00.000000000",
          "2025-01-02T00:00:00.000000000",
          "2025-01-03T00:00:00.000000000",
          "2025-01-06T00:00:00.000000000",
          "2025-01-07T00:00:00.000000000",
          "2025-01-08T00:00:00.000000000",
          "2025-01-10T00:00:00.000000000",
          "2025-01-13T00:00:00.000000000",
          "2025-01-14T00:00:00.000000000",
          "2025-01-15T00:00:00.000000000",
          "2025-01-16T00:00:00.000000000",
          "2025-01-17T00:00:00.000000000",
          "2025-01-21T00:00:00.000000000",
          "2025-01-22T00:00:00.000000000",
          "2025-01-23T00:00:00.000000000",
          "2025-01-24T00:00:00.000000000",
          "2025-01-27T00:00:00.000000000",
          "2025-01-28T00:00:00.000000000",
          "2025-01-29T00:00:00.000000000",
          "2025-01-30T00:00:00.000000000",
          "2025-01-31T00:00:00.000000000",
          "2025-02-03T00:00:00.000000000",
          "2025-02-04T00:00:00.000000000",
          "2025-02-05T00:00:00.000000000",
          "2025-02-06T00:00:00.000000000",
          "2025-02-07T00:00:00.000000000",
          "2025-02-10T00:00:00.000000000",
          "2025-02-11T00:00:00.000000000",
          "2025-02-12T00:00:00.000000000",
          "2025-02-13T00:00:00.000000000",
          "2025-02-14T00:00:00.000000000",
          "2025-02-18T00:00:00.000000000",
          "2025-02-19T00:00:00.000000000",
          "2025-02-20T00:00:00.000000000",
          "2025-02-21T00:00:00.000000000",
          "2025-02-24T00:00:00.000000000",
          "2025-02-25T00:00:00.000000000",
          "2025-02-26T00:00:00.000000000",
          "2025-02-27T00:00:00.000000000",
          "2025-02-28T00:00:00.000000000",
          "2025-03-03T00:00:00.000000000",
          "2025-03-04T00:00:00.000000000",
          "2025-03-05T00:00:00.000000000",
          "2025-03-06T00:00:00.000000000",
          "2025-03-07T00:00:00.000000000",
          "2025-03-10T00:00:00.000000000",
          "2025-03-11T00:00:00.000000000",
          "2025-03-12T00:00:00.000000000",
          "2025-03-13T00:00:00.000000000",
          "2025-03-14T00:00:00.000000000",
          "2025-03-17T00:00:00.000000000",
          "2025-03-18T00:00:00.000000000",
          "2025-03-19T00:00:00.000000000",
          "2025-03-20T00:00:00.000000000",
          "2025-03-21T00:00:00.000000000",
          "2025-03-24T00:00:00.000000000",
          "2025-03-25T00:00:00.000000000",
          "2025-03-26T00:00:00.000000000",
          "2025-03-27T00:00:00.000000000",
          "2025-03-28T00:00:00.000000000",
          "2025-03-31T00:00:00.000000000",
          "2025-04-01T00:00:00.000000000",
          "2025-04-02T00:00:00.000000000",
          "2025-04-03T00:00:00.000000000",
          "2025-04-04T00:00:00.000000000",
          "2025-04-07T00:00:00.000000000",
          "2025-04-08T00:00:00.000000000",
          "2025-04-09T00:00:00.000000000",
          "2025-04-10T00:00:00.000000000",
          "2025-04-11T00:00:00.000000000",
          "2025-04-14T00:00:00.000000000",
          "2025-04-15T00:00:00.000000000",
          "2025-04-16T00:00:00.000000000",
          "2025-04-17T00:00:00.000000000",
          "2025-04-21T00:00:00.000000000",
          "2025-04-22T00:00:00.000000000",
          "2025-04-23T00:00:00.000000000",
          "2025-04-24T00:00:00.000000000",
          "2025-04-25T00:00:00.000000000",
          "2025-04-28T00:00:00.000000000",
          "2025-04-29T00:00:00.000000000",
          "2025-04-30T00:00:00.000000000",
          "2025-05-01T00:00:00.000000000",
          "2025-05-02T00:00:00.000000000",
          "2025-05-05T00:00:00.000000000",
          "2025-05-06T00:00:00.000000000",
          "2025-05-07T00:00:00.000000000",
          "2025-05-08T00:00:00.000000000",
          "2025-05-09T00:00:00.000000000",
          "2025-05-12T00:00:00.000000000",
          "2025-05-13T00:00:00.000000000",
          "2025-05-14T00:00:00.000000000",
          "2025-05-15T00:00:00.000000000",
          "2025-05-16T00:00:00.000000000",
          "2025-05-19T00:00:00.000000000",
          "2025-05-20T00:00:00.000000000",
          "2025-05-21T00:00:00.000000000",
          "2025-05-22T00:00:00.000000000",
          "2025-05-23T00:00:00.000000000",
          "2025-05-27T00:00:00.000000000",
          "2025-05-28T00:00:00.000000000",
          "2025-05-29T00:00:00.000000000",
          "2025-05-30T00:00:00.000000000",
          "2025-06-02T00:00:00.000000000",
          "2025-06-03T00:00:00.000000000",
          "2025-06-04T00:00:00.000000000",
          "2025-06-05T00:00:00.000000000",
          "2025-06-06T00:00:00.000000000",
          "2025-06-09T00:00:00.000000000",
          "2025-06-10T00:00:00.000000000",
          "2025-06-11T00:00:00.000000000",
          "2025-06-12T00:00:00.000000000",
          "2025-06-13T00:00:00.000000000",
          "2025-06-16T00:00:00.000000000",
          "2025-06-17T00:00:00.000000000",
          "2025-06-18T00:00:00.000000000",
          "2025-06-20T00:00:00.000000000",
          "2025-06-23T00:00:00.000000000",
          "2025-06-24T00:00:00.000000000",
          "2025-06-25T00:00:00.000000000",
          "2025-06-26T00:00:00.000000000",
          "2025-06-27T00:00:00.000000000",
          "2025-06-30T00:00:00.000000000",
          "2025-07-01T00:00:00.000000000",
          "2025-07-02T00:00:00.000000000",
          "2025-07-03T00:00:00.000000000",
          "2025-07-07T00:00:00.000000000",
          "2025-07-08T00:00:00.000000000",
          "2025-07-09T00:00:00.000000000",
          "2025-07-10T00:00:00.000000000",
          "2025-07-11T00:00:00.000000000",
          "2025-07-14T00:00:00.000000000",
          "2025-07-15T00:00:00.000000000",
          "2025-07-16T00:00:00.000000000",
          "2025-07-17T00:00:00.000000000",
          "2025-07-18T00:00:00.000000000",
          "2025-07-21T00:00:00.000000000",
          "2025-07-22T00:00:00.000000000",
          "2025-07-23T00:00:00.000000000",
          "2025-07-24T00:00:00.000000000",
          "2025-07-25T00:00:00.000000000",
          "2025-07-28T00:00:00.000000000",
          "2025-07-29T00:00:00.000000000",
          "2025-07-30T00:00:00.000000000",
          "2025-07-31T00:00:00.000000000"
         ],
         "y": {
          "bdata": "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",
          "dtype": "f8"
         }
        }
       ],
       "layout": {
        "legend": {
         "x": 0.01,
         "y": 0.99
        },
        "template": {
         "data": {
          "bar": [
           {
            "error_x": {
             "color": "#2a3f5f"
            },
            "error_y": {
             "color": "#2a3f5f"
            },
            "marker": {
             "line": {
              "color": "white",
              "width": 0.5
             },
             "pattern": {
              "fillmode": "overlay",
              "size": 10,
              "solidity": 0.2
             }
            },
            "type": "bar"
           }
          ],
          "barpolar": [
           {
            "marker": {
             "line": {
              "color": "white",
              "width": 0.5
             },
             "pattern": {
              "fillmode": "overlay",
              "size": 10,
              "solidity": 0.2
             }
            },
            "type": "barpolar"
           }
          ],
          "carpet": [
           {
            "aaxis": {
             "endlinecolor": "#2a3f5f",
             "gridcolor": "#C8D4E3",
             "linecolor": "#C8D4E3",
             "minorgridcolor": "#C8D4E3",
             "startlinecolor": "#2a3f5f"
            },
            "baxis": {
             "endlinecolor": "#2a3f5f",
             "gridcolor": "#C8D4E3",
             "linecolor": "#C8D4E3",
             "minorgridcolor": "#C8D4E3",
             "startlinecolor": "#2a3f5f"
            },
            "type": "carpet"
           }
          ],
          "choropleth": [
           {
            "colorbar": {
             "outlinewidth": 0,
             "ticks": ""
            },
            "type": "choropleth"
           }
          ],
          "contour": [
           {
            "colorbar": {
             "outlinewidth": 0,
             "ticks": ""
            },
            "colorscale": [
             [
              0,
              "#0d0887"
             ],
             [
              0.1111111111111111,
              "#46039f"
             ],
             [
              0.2222222222222222,
              "#7201a8"
             ],
             [
              0.3333333333333333,
              "#9c179e"
             ],
             [
              0.4444444444444444,
              "#bd3786"
             ],
             [
              0.5555555555555556,
              "#d8576b"
             ],
             [
              0.6666666666666666,
              "#ed7953"
             ],
             [
              0.7777777777777778,
              "#fb9f3a"
             ],
             [
              0.8888888888888888,
              "#fdca26"
             ],
             [
              1,
              "#f0f921"
             ]
            ],
            "type": "contour"
           }
          ],
          "contourcarpet": [
           {
            "colorbar": {
             "outlinewidth": 0,
             "ticks": ""
            },
            "type": "contourcarpet"
           }
          ],
          "heatmap": [
           {
            "colorbar": {
             "outlinewidth": 0,
             "ticks": ""
            },
            "colorscale": [
             [
              0,
              "#0d0887"
             ],
             [
              0.1111111111111111,
              "#46039f"
             ],
             [
              0.2222222222222222,
              "#7201a8"
             ],
             [
              0.3333333333333333,
              "#9c179e"
             ],
             [
              0.4444444444444444,
              "#bd3786"
             ],
             [
              0.5555555555555556,
              "#d8576b"
             ],
             [
              0.6666666666666666,
              "#ed7953"
             ],
             [
              0.7777777777777778,
              "#fb9f3a"
             ],
             [
              0.8888888888888888,
              "#fdca26"
             ],
             [
              1,
              "#f0f921"
             ]
            ],
            "type": "heatmap"
           }
          ],
          "histogram": [
           {
            "marker": {
             "pattern": {
              "fillmode": "overlay",
              "size": 10,
              "solidity": 0.2
             }
            },
            "type": "histogram"
           }
          ],
          "histogram2d": [
           {
            "colorbar": {
             "outlinewidth": 0,
             "ticks": ""
            },
            "colorscale": [
             [
              0,
              "#0d0887"
             ],
             [
              0.1111111111111111,
              "#46039f"
             ],
             [
              0.2222222222222222,
              "#7201a8"
             ],
             [
              0.3333333333333333,
              "#9c179e"
             ],
             [
              0.4444444444444444,
              "#bd3786"
             ],
             [
              0.5555555555555556,
              "#d8576b"
             ],
             [
              0.6666666666666666,
              "#ed7953"
             ],
             [
              0.7777777777777778,
              "#fb9f3a"
             ],
             [
              0.8888888888888888,
              "#fdca26"
             ],
             [
              1,
              "#f0f921"
             ]
            ],
            "type": "histogram2d"
           }
          ],
          "histogram2dcontour": [
           {
            "colorbar": {
             "outlinewidth": 0,
             "ticks": ""
            },
            "colorscale": [
             [
              0,
              "#0d0887"
             ],
             [
              0.1111111111111111,
              "#46039f"
             ],
             [
              0.2222222222222222,
              "#7201a8"
             ],
             [
              0.3333333333333333,
              "#9c179e"
             ],
             [
              0.4444444444444444,
              "#bd3786"
             ],
             [
              0.5555555555555556,
              "#d8576b"
             ],
             [
              0.6666666666666666,
              "#ed7953"
             ],
             [
              0.7777777777777778,
              "#fb9f3a"
             ],
             [
              0.8888888888888888,
              "#fdca26"
             ],
             [
              1,
              "#f0f921"
             ]
            ],
            "type": "histogram2dcontour"
           }
          ],
          "mesh3d": [
           {
            "colorbar": {
             "outlinewidth": 0,
             "ticks": ""
            },
            "type": "mesh3d"
           }
          ],
          "parcoords": [
           {
            "line": {
             "colorbar": {
              "outlinewidth": 0,
              "ticks": ""
             }
            },
            "type": "parcoords"
           }
          ],
          "pie": [
           {
            "automargin": true,
            "type": "pie"
           }
          ],
          "scatter": [
           {
            "fillpattern": {
             "fillmode": "overlay",
             "size": 10,
             "solidity": 0.2
            },
            "type": "scatter"
           }
          ],
          "scatter3d": [
           {
            "line": {
             "colorbar": {
              "outlinewidth": 0,
              "ticks": ""
             }
            },
            "marker": {
             "colorbar": {
              "outlinewidth": 0,
              "ticks": ""
             }
            },
            "type": "scatter3d"
           }
          ],
          "scattercarpet": [
           {
            "marker": {
             "colorbar": {
              "outlinewidth": 0,
              "ticks": ""
             }
            },
            "type": "scattercarpet"
           }
          ],
          "scattergeo": [
           {
            "marker": {
             "colorbar": {
              "outlinewidth": 0,
              "ticks": ""
             }
            },
            "type": "scattergeo"
           }
          ],
          "scattergl": [
           {
            "marker": {
             "colorbar": {
              "outlinewidth": 0,
              "ticks": ""
             }
            },
            "type": "scattergl"
           }
          ],
          "scattermap": [
           {
            "marker": {
             "colorbar": {
              "outlinewidth": 0,
              "ticks": ""
             }
            },
            "type": "scattermap"
           }
          ],
          "scattermapbox": [
           {
            "marker": {
             "colorbar": {
              "outlinewidth": 0,
              "ticks": ""
             }
            },
            "type": "scattermapbox"
           }
          ],
          "scatterpolar": [
           {
            "marker": {
             "colorbar": {
              "outlinewidth": 0,
              "ticks": ""
             }
            },
            "type": "scatterpolar"
           }
          ],
          "scatterpolargl": [
           {
            "marker": {
             "colorbar": {
              "outlinewidth": 0,
              "ticks": ""
             }
            },
            "type": "scatterpolargl"
           }
          ],
          "scatterternary": [
           {
            "marker": {
             "colorbar": {
              "outlinewidth": 0,
              "ticks": ""
             }
            },
            "type": "scatterternary"
           }
          ],
          "surface": [
           {
            "colorbar": {
             "outlinewidth": 0,
             "ticks": ""
            },
            "colorscale": [
             [
              0,
              "#0d0887"
             ],
             [
              0.1111111111111111,
              "#46039f"
             ],
             [
              0.2222222222222222,
              "#7201a8"
             ],
             [
              0.3333333333333333,
              "#9c179e"
             ],
             [
              0.4444444444444444,
              "#bd3786"
             ],
             [
              0.5555555555555556,
              "#d8576b"
             ],
             [
              0.6666666666666666,
              "#ed7953"
             ],
             [
              0.7777777777777778,
              "#fb9f3a"
             ],
             [
              0.8888888888888888,
              "#fdca26"
             ],
             [
              1,
              "#f0f921"
             ]
            ],
            "type": "surface"
           }
          ],
          "table": [
           {
            "cells": {
             "fill": {
              "color": "#EBF0F8"
             },
             "line": {
              "color": "white"
             }
            },
            "header": {
             "fill": {
              "color": "#C8D4E3"
             },
             "line": {
              "color": "white"
             }
            },
            "type": "table"
           }
          ]
         },
         "layout": {
          "annotationdefaults": {
           "arrowcolor": "#2a3f5f",
           "arrowhead": 0,
           "arrowwidth": 1
          },
          "autotypenumbers": "strict",
          "coloraxis": {
           "colorbar": {
            "outlinewidth": 0,
            "ticks": ""
           }
          },
          "colorscale": {
           "diverging": [
            [
             0,
             "#8e0152"
            ],
            [
             0.1,
             "#c51b7d"
            ],
            [
             0.2,
             "#de77ae"
            ],
            [
             0.3,
             "#f1b6da"
            ],
            [
             0.4,
             "#fde0ef"
            ],
            [
             0.5,
             "#f7f7f7"
            ],
            [
             0.6,
             "#e6f5d0"
            ],
            [
             0.7,
             "#b8e186"
            ],
            [
             0.8,
             "#7fbc41"
            ],
            [
             0.9,
             "#4d9221"
            ],
            [
             1,
             "#276419"
            ]
           ],
           "sequential": [
            [
             0,
             "#0d0887"
            ],
            [
             0.1111111111111111,
             "#46039f"
            ],
            [
             0.2222222222222222,
             "#7201a8"
            ],
            [
             0.3333333333333333,
             "#9c179e"
            ],
            [
             0.4444444444444444,
             "#bd3786"
            ],
            [
             0.5555555555555556,
             "#d8576b"
            ],
            [
             0.6666666666666666,
             "#ed7953"
            ],
            [
             0.7777777777777778,
             "#fb9f3a"
            ],
            [
             0.8888888888888888,
             "#fdca26"
            ],
            [
             1,
             "#f0f921"
            ]
           ],
           "sequentialminus": [
            [
             0,
             "#0d0887"
            ],
            [
             0.1111111111111111,
             "#46039f"
            ],
            [
             0.2222222222222222,
             "#7201a8"
            ],
            [
             0.3333333333333333,
             "#9c179e"
            ],
            [
             0.4444444444444444,
             "#bd3786"
            ],
            [
             0.5555555555555556,
             "#d8576b"
            ],
            [
             0.6666666666666666,
             "#ed7953"
            ],
            [
             0.7777777777777778,
             "#fb9f3a"
            ],
            [
             0.8888888888888888,
             "#fdca26"
            ],
            [
             1,
             "#f0f921"
            ]
           ]
          },
          "colorway": [
           "#636efa",
           "#EF553B",
           "#00cc96",
           "#ab63fa",
           "#FFA15A",
           "#19d3f3",
           "#FF6692",
           "#B6E880",
           "#FF97FF",
           "#FECB52"
          ],
          "font": {
           "color": "#2a3f5f"
          },
          "geo": {
           "bgcolor": "white",
           "lakecolor": "white",
           "landcolor": "white",
           "showlakes": true,
           "showland": true,
           "subunitcolor": "#C8D4E3"
          },
          "hoverlabel": {
           "align": "left"
          },
          "hovermode": "closest",
          "mapbox": {
           "style": "light"
          },
          "paper_bgcolor": "white",
          "plot_bgcolor": "white",
          "polar": {
           "angularaxis": {
            "gridcolor": "#EBF0F8",
            "linecolor": "#EBF0F8",
            "ticks": ""
           },
           "bgcolor": "white",
           "radialaxis": {
            "gridcolor": "#EBF0F8",
            "linecolor": "#EBF0F8",
            "ticks": ""
           }
          },
          "scene": {
           "xaxis": {
            "backgroundcolor": "white",
            "gridcolor": "#DFE8F3",
            "gridwidth": 2,
            "linecolor": "#EBF0F8",
            "showbackground": true,
            "ticks": "",
            "zerolinecolor": "#EBF0F8"
           },
           "yaxis": {
            "backgroundcolor": "white",
            "gridcolor": "#DFE8F3",
            "gridwidth": 2,
            "linecolor": "#EBF0F8",
            "showbackground": true,
            "ticks": "",
            "zerolinecolor": "#EBF0F8"
           },
           "zaxis": {
            "backgroundcolor": "white",
            "gridcolor": "#DFE8F3",
            "gridwidth": 2,
            "linecolor": "#EBF0F8",
            "showbackground": true,
            "ticks": "",
            "zerolinecolor": "#EBF0F8"
           }
          },
          "shapedefaults": {
           "line": {
            "color": "#2a3f5f"
           }
          },
          "ternary": {
           "aaxis": {
            "gridcolor": "#DFE8F3",
            "linecolor": "#A2B1C6",
            "ticks": ""
           },
           "baxis": {
            "gridcolor": "#DFE8F3",
            "linecolor": "#A2B1C6",
            "ticks": ""
           },
           "bgcolor": "white",
           "caxis": {
            "gridcolor": "#DFE8F3",
            "linecolor": "#A2B1C6",
            "ticks": ""
           }
          },
          "title": {
           "x": 0.05
          },
          "xaxis": {
           "automargin": true,
           "gridcolor": "#EBF0F8",
           "linecolor": "#EBF0F8",
           "ticks": "",
           "title": {
            "standoff": 15
           },
           "zerolinecolor": "#EBF0F8",
           "zerolinewidth": 2
          },
          "yaxis": {
           "automargin": true,
           "gridcolor": "#EBF0F8",
           "linecolor": "#EBF0F8",
           "ticks": "",
           "title": {
            "standoff": 15
           },
           "zerolinecolor": "#EBF0F8",
           "zerolinewidth": 2
          }
         }
        },
        "title": {
         "text": "Backtest: Strategy vs. Benchmark Performance"
        },
        "xaxis": {
         "title": {
          "text": "Date"
         }
        },
        "yaxis": {
         "title": {
          "text": "Portfolio Value ($)"
         }
        }
       }
      }
     },
     "metadata": {},
     "output_type": "display_data"
    }
   ],
   "source": [
    "\n",
    "from src import backtester as bt # Import your new module\n",
    "\n",
    "# Cell 2: Load Prerequisites\n",
    "# This assumes 'prices' (historical prices DataFrame with 'TSLA', 'SPY', 'BND') \n",
    "# and 'cleaned_weights_sharpe' (your strategy weights) are already loaded.\n",
    "\n",
    "# --- 1. Define Backtesting Parameters ---\n",
    "# This assumes 'prices' and 'cleaned_weights_sharpe' are available from Task 4.\n",
    "\n",
    "# Define the backtesting period [cite: 155]\n",
    "backtest_start_date = '2024-08-01'\n",
    "backtest_end_date = '2025-07-31'\n",
    "\n",
    "# Define the benchmark portfolio weights [cite: 156]\n",
    "benchmark_weights = {'SPY': 0.60, 'BND': 0.40, 'TSLA': 0.0}\n",
    "\n",
    "# Define your model-driven strategy weights from Task 4 [cite: 158]\n",
    "strategy_weights = cleaned_weights_sharpe\n",
    "\n",
    "# Define an initial investment amount for the simulation\n",
    "initial_investment = 100000\n",
    "\n",
    "# Cell 4: Run the Backtest Simulation\n",
    "strategy_val, benchmark_val, strategy_ret, benchmark_ret = bt.run_backtest(\n",
    "    prices=prices,\n",
    "    strategy_weights=strategy_weights,\n",
    "    benchmark_weights=benchmark_weights,\n",
    "    start_date=backtest_start_date,\n",
    "    end_date=backtest_end_date,\n",
    "    initial_investment=initial_investment\n",
    ")\n",
    "\n",
    "# [cite_start]Cell 5: Calculate and Display Performance Metrics [cite: 232]\n",
    "strategy_metrics = bt.calculate_performance_metrics(strategy_ret)\n",
    "benchmark_metrics = bt.calculate_performance_metrics(benchmark_ret)\n",
    "\n",
    "summary_df = pd.DataFrame({'My Strategy': strategy_metrics, 'Benchmark (60/40)': benchmark_metrics})\n",
    "print(summary_df)\n",
    "\n",
    "# Cell 6: Visualize the Results\n",
    "bt.plot_backtest_results(strategy_val, benchmark_val)\n",
    "\n",
    "# [cite_start]Cell 7 (Markdown): Final Conclusion [cite: 233]\n",
    "# Based on the summary table and plot, write your final conclusion on whether\n",
    "# the strategy outperformed the benchmark and what it suggests about the\n",
    "# [cite_start]viability of your model-driven approach. [cite: 234]"
   ]
  },
  {
   "cell_type": "markdown",
   "id": "9ec51b0b",
   "metadata": {},
   "source": [
    "The backtest reveals that while the 60/40 benchmark portfolio achieved a higher total return, your model-driven strategy delivered an almost identical **risk-adjusted return**, as shown by the matching Sharpe Ratios. This is a crucial and nuanced finding.\n",
    "\n",
    "---\n",
    "## ## Final Backtest Analysis and Conclusion\n",
    "\n",
    "This backtest provides the final experimental validation of the portfolio strategy. The results from both the chart and the metrics table offer a complete picture of the strategy's performance.\n",
    "\n",
    "### Performance Summary 📊\n",
    "The primary outcome is that the benchmark portfolio's total return of **12.22%** modestly outperformed the model-driven strategy's return of **10.20%** over the one-year backtesting period. This is visually confirmed by the chart you generated, where the benchmark's red line finishes at a higher portfolio value than the strategy's blue line.\n",
    "\n",
    "### The Story of Risk-Adjusted Returns (The Sharpe Ratio)\n",
    "The most important insight from this backtest comes from the **identical Sharpe Ratios of 0.84** for both portfolios. The Sharpe Ratio measures the return earned for each unit of risk taken.\n",
    "\n",
    "The fact that the Sharpe Ratios are the same, even though the total returns were different, implies that your strategy, while generating a lower absolute return, also took on **proportionally less risk (volatility)** than the benchmark. The benchmark's higher return came at the cost of higher volatility, and when adjusted for that risk, the performance of both portfolios was equally efficient.\n",
    "\n",
    "\n",
    "### Viability of the Model-Driven Approach\n",
    "This initial backtest suggests that the model-driven approach has merit, but not necessarily for maximizing raw returns in all market conditions.\n",
    "\n",
    "* The strategy did not \"beat\" the benchmark on total return, which means the high-conviction forecast on TSLA did not provide the outsized gains needed to outperform during this specific year.\n",
    "* However, the strategy successfully created a portfolio with a **different and highly efficient risk-return profile**. It achieved its 10.20% return with less volatility than the benchmark.\n",
    "\n",
    "This suggests that the model-driven optimization is a viable tool for targeting specific risk profiles and constructing efficient portfolios. While this backtest did not result in outperformance, it demonstrates that the methodology can create a unique strategy that is just as efficient as the benchmark from a risk-adjusted perspective. [cite_start]Further testing across different time periods would be necessary to validate its long-term viability. [cite: 166]"
   ]
  }
 ],
 "metadata": {
  "kernelspec": {
   "display_name": "Time-Series-Forecasting",
   "language": "python",
   "name": "python3"
  },
  "language_info": {
   "codemirror_mode": {
    "name": "ipython",
    "version": 3
   },
   "file_extension": ".py",
   "mimetype": "text/x-python",
   "name": "python",
   "nbconvert_exporter": "python",
   "pygments_lexer": "ipython3",
   "version": "3.12.11"
  }
 },
 "nbformat": 4,
 "nbformat_minor": 5
}
