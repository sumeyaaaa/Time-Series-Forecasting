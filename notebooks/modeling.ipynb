{
 "cells": [
  {
   "cell_type": "code",
   "execution_count": 1,
   "id": "08517832",
   "metadata": {},
   "outputs": [],
   "source": [
    "import sys\n",
    "import os\n",
    "\n",
    "# Add the project root to sys.path\n",
    "project_root = os.path.abspath(os.path.join(os.getcwd(), \"..\"))\n",
    "sys.path.append(project_root)\n",
    "\n",
    "sys.path.append(os.path.abspath(\"../src\"))\n",
    "\n",
    "\n",
    "\n"
   ]
  },
  {
   "cell_type": "code",
   "execution_count": 2,
   "id": "25c8aaea",
   "metadata": {},
   "outputs": [],
   "source": [
    "import pandas as pd\n",
    "import numpy as np\n",
    "import pandas as pd\n",
    "import numpy as np\n",
    "import matplotlib.pyplot as plt\n",
    "from sklearn.preprocessing import MinMaxScaler\n",
    "from src.yf_tesla_modeling import find_best_arima_params,forecast_with_arima,train_arima_model,evaluate_forecast,create_dataset,build_and_train_lstm,predict_and_evaluate_lstm# Plot the training data, actual test data, and the forecast to see how well the model did"
   ]
  },
  {
   "cell_type": "code",
   "execution_count": 3,
   "id": "a8b8e58e",
   "metadata": {},
   "outputs": [],
   "source": [
    "data = pd.read_csv(r\"C:\\Users\\ABC\\Desktop\\10Acadamy\\week_11\\Time-Series-Forecasting\\data\\combined_2015-07-01_to_2025-08-01.csv\")\n"
   ]
  },
  {
   "cell_type": "code",
   "execution_count": 4,
   "id": "4eb9b7c9",
   "metadata": {},
   "outputs": [
    {
     "name": "stdout",
     "output_type": "stream",
     "text": [
      "Data loaded and prepared successfully!\n",
      "Here are the first 5 rows of your clean TSLA data:\n",
      "            Adj Close\n",
      "Date                 \n",
      "2015-07-01  17.943333\n",
      "2015-07-02  18.667999\n",
      "2015-07-03  18.667999\n",
      "2015-07-06  18.648001\n",
      "2015-07-07  17.858667\n"
     ]
    }
   ],
   "source": [
    "# --- 2. Prepare the DataFrame ---\n",
    "# Convert the 'Date' column into a proper datetime format\n",
    "data['Date'] = pd.to_datetime(data['Date'])\n",
    "\n",
    "# Set the 'Date' column as the index, which is standard for time series analysis\n",
    "data.set_index('Date', inplace=True)\n",
    "\n",
    "# --- 3. Select and Clean the TSLA Data (as we discussed) ---\n",
    "# Now you can select the 'TSLA.Adj Close' column, which we know exists\n",
    "tsla_df = data[['TSLA.Adj Close']]\n",
    "\n",
    "# Rename the column to make the rest of the code simpler\n",
    "tsla_df = tsla_df.rename(columns={'TSLA.Adj Close': 'Adj Close'})\n",
    "\n",
    "# Clean the data to ensure business day frequency and fill gaps\n",
    "tsla_df = tsla_df.asfreq('B').ffill().bfill()\n",
    "\n",
    "\n",
    "# --- 4. Verify the result ---\n",
    "print(\"Data loaded and prepared successfully!\")\n",
    "print(\"Here are the first 5 rows of your clean TSLA data:\")\n",
    "print(tsla_df.head())"
   ]
  },
  {
   "cell_type": "code",
   "execution_count": 5,
   "id": "3c013d8b",
   "metadata": {},
   "outputs": [],
   "source": [
    "# Cell 1: Imports and Setup\n",
    "import yfinance as yf\n",
    " # Assuming your file is named arima_modeler.py\n",
    "\n",
    "split_date = '2024-01-01'\n",
    "train = tsla_df[tsla_df.index < split_date]"
   ]
  },
  {
   "cell_type": "code",
   "execution_count": 6,
   "id": "bc310243",
   "metadata": {},
   "outputs": [
    {
     "name": "stdout",
     "output_type": "stream",
     "text": [
      "Total number of missing values: 0\n"
     ]
    }
   ],
   "source": [
    "# This will count the total number of missing values in the 'Adj Close' column\n",
    "missing_value_count = data['TSLA.Adj Close'].isnull().sum()\n",
    "\n",
    "print(f\"Total number of missing values: {missing_value_count}\")"
   ]
  },
  {
   "cell_type": "code",
   "execution_count": 7,
   "id": "8ecd8728",
   "metadata": {},
   "outputs": [
    {
     "name": "stdout",
     "output_type": "stream",
     "text": [
      "The actual column names are:\n",
      "Index(['TSLA.Open', 'TSLA.High', 'TSLA.Low', 'TSLA.Close', 'TSLA.Adj Close',\n",
      "       'TSLA.Volume', 'SPY.Open', 'SPY.High', 'SPY.Low', 'SPY.Close',\n",
      "       'SPY.Adj Close', 'SPY.Volume', 'BND.Open', 'BND.High', 'BND.Low',\n",
      "       'BND.Close', 'BND.Adj Close', 'BND.Volume'],\n",
      "      dtype='object')\n"
     ]
    }
   ],
   "source": [
    "# This line will print the actual column names in your DataFrame\n",
    "print(\"The actual column names are:\")\n",
    "print(data.columns)"
   ]
  },
  {
   "cell_type": "code",
   "execution_count": 8,
   "id": "ecc9e821",
   "metadata": {},
   "outputs": [
    {
     "name": "stdout",
     "output_type": "stream",
     "text": [
      "TSLA.Open         float64\n",
      "TSLA.High         float64\n",
      "TSLA.Low          float64\n",
      "TSLA.Close        float64\n",
      "TSLA.Adj Close    float64\n",
      "TSLA.Volume         int64\n",
      "SPY.Open          float64\n",
      "SPY.High          float64\n",
      "SPY.Low           float64\n",
      "SPY.Close         float64\n",
      "SPY.Adj Close     float64\n",
      "SPY.Volume          int64\n",
      "BND.Open          float64\n",
      "BND.High          float64\n",
      "BND.Low           float64\n",
      "BND.Close         float64\n",
      "BND.Adj Close     float64\n",
      "BND.Volume          int64\n",
      "dtype: object\n"
     ]
    }
   ],
   "source": [
    "# Assuming 'combined_df' is your DataFrame\n",
    "print(data.dtypes)"
   ]
  },
  {
   "cell_type": "code",
   "execution_count": 9,
   "id": "21403ff1",
   "metadata": {},
   "outputs": [
    {
     "name": "stdout",
     "output_type": "stream",
     "text": [
      "Running auto_arima to find the best model parameters...\n",
      "Performing stepwise search to minimize aic\n"
     ]
    },
    {
     "name": "stderr",
     "output_type": "stream",
     "text": [
      "c:\\Users\\ABC\\Desktop\\10Acadamy\\week_11\\Time-Series-Forecasting\\.venv\\Lib\\site-packages\\sklearn\\utils\\deprecation.py:132: FutureWarning: 'force_all_finite' was renamed to 'ensure_all_finite' in 1.6 and will be removed in 1.8.\n",
      "  warnings.warn(\n",
      "c:\\Users\\ABC\\Desktop\\10Acadamy\\week_11\\Time-Series-Forecasting\\.venv\\Lib\\site-packages\\sklearn\\utils\\deprecation.py:132: FutureWarning: 'force_all_finite' was renamed to 'ensure_all_finite' in 1.6 and will be removed in 1.8.\n",
      "  warnings.warn(\n",
      "c:\\Users\\ABC\\Desktop\\10Acadamy\\week_11\\Time-Series-Forecasting\\.venv\\Lib\\site-packages\\sklearn\\utils\\deprecation.py:132: FutureWarning: 'force_all_finite' was renamed to 'ensure_all_finite' in 1.6 and will be removed in 1.8.\n",
      "  warnings.warn(\n",
      "c:\\Users\\ABC\\Desktop\\10Acadamy\\week_11\\Time-Series-Forecasting\\.venv\\Lib\\site-packages\\sklearn\\utils\\deprecation.py:132: FutureWarning: 'force_all_finite' was renamed to 'ensure_all_finite' in 1.6 and will be removed in 1.8.\n",
      "  warnings.warn(\n",
      "c:\\Users\\ABC\\Desktop\\10Acadamy\\week_11\\Time-Series-Forecasting\\.venv\\Lib\\site-packages\\sklearn\\utils\\deprecation.py:132: FutureWarning: 'force_all_finite' was renamed to 'ensure_all_finite' in 1.6 and will be removed in 1.8.\n",
      "  warnings.warn(\n",
      "c:\\Users\\ABC\\Desktop\\10Acadamy\\week_11\\Time-Series-Forecasting\\.venv\\Lib\\site-packages\\sklearn\\utils\\deprecation.py:132: FutureWarning: 'force_all_finite' was renamed to 'ensure_all_finite' in 1.6 and will be removed in 1.8.\n",
      "  warnings.warn(\n",
      "c:\\Users\\ABC\\Desktop\\10Acadamy\\week_11\\Time-Series-Forecasting\\.venv\\Lib\\site-packages\\sklearn\\utils\\deprecation.py:132: FutureWarning: 'force_all_finite' was renamed to 'ensure_all_finite' in 1.6 and will be removed in 1.8.\n",
      "  warnings.warn(\n",
      "c:\\Users\\ABC\\Desktop\\10Acadamy\\week_11\\Time-Series-Forecasting\\.venv\\Lib\\site-packages\\sklearn\\utils\\deprecation.py:132: FutureWarning: 'force_all_finite' was renamed to 'ensure_all_finite' in 1.6 and will be removed in 1.8.\n",
      "  warnings.warn(\n",
      "c:\\Users\\ABC\\Desktop\\10Acadamy\\week_11\\Time-Series-Forecasting\\.venv\\Lib\\site-packages\\sklearn\\utils\\deprecation.py:132: FutureWarning: 'force_all_finite' was renamed to 'ensure_all_finite' in 1.6 and will be removed in 1.8.\n",
      "  warnings.warn(\n"
     ]
    },
    {
     "name": "stdout",
     "output_type": "stream",
     "text": [
      " ARIMA(1,1,1)(0,0,0)[0] intercept   : AIC=14066.624, Time=0.91 sec\n",
      " ARIMA(0,1,0)(0,0,0)[0] intercept   : AIC=14065.901, Time=0.11 sec\n"
     ]
    },
    {
     "name": "stderr",
     "output_type": "stream",
     "text": [
      "c:\\Users\\ABC\\Desktop\\10Acadamy\\week_11\\Time-Series-Forecasting\\.venv\\Lib\\site-packages\\sklearn\\utils\\deprecation.py:132: FutureWarning: 'force_all_finite' was renamed to 'ensure_all_finite' in 1.6 and will be removed in 1.8.\n",
      "  warnings.warn(\n",
      "c:\\Users\\ABC\\Desktop\\10Acadamy\\week_11\\Time-Series-Forecasting\\.venv\\Lib\\site-packages\\sklearn\\utils\\deprecation.py:132: FutureWarning: 'force_all_finite' was renamed to 'ensure_all_finite' in 1.6 and will be removed in 1.8.\n",
      "  warnings.warn(\n"
     ]
    },
    {
     "name": "stdout",
     "output_type": "stream",
     "text": [
      " ARIMA(1,1,0)(0,0,0)[0] intercept   : AIC=14065.756, Time=0.18 sec\n"
     ]
    },
    {
     "name": "stderr",
     "output_type": "stream",
     "text": [
      "c:\\Users\\ABC\\Desktop\\10Acadamy\\week_11\\Time-Series-Forecasting\\.venv\\Lib\\site-packages\\sklearn\\utils\\deprecation.py:132: FutureWarning: 'force_all_finite' was renamed to 'ensure_all_finite' in 1.6 and will be removed in 1.8.\n",
      "  warnings.warn(\n"
     ]
    },
    {
     "name": "stdout",
     "output_type": "stream",
     "text": [
      " ARIMA(0,1,1)(0,0,0)[0] intercept   : AIC=14065.762, Time=0.24 sec\n",
      " ARIMA(0,1,0)(0,0,0)[0]             : AIC=14064.621, Time=0.11 sec\n",
      "\n",
      "Best model:  ARIMA(0,1,0)(0,0,0)[0]          \n",
      "Total fit time: 1.550 seconds\n",
      "\n",
      "Best ARIMA order found: (0, 1, 0)\n"
     ]
    },
    {
     "name": "stderr",
     "output_type": "stream",
     "text": [
      "c:\\Users\\ABC\\Desktop\\10Acadamy\\week_11\\Time-Series-Forecasting\\.venv\\Lib\\site-packages\\sklearn\\utils\\deprecation.py:132: FutureWarning: 'force_all_finite' was renamed to 'ensure_all_finite' in 1.6 and will be removed in 1.8.\n",
      "  warnings.warn(\n"
     ]
    }
   ],
   "source": [
    "split_date = '2024-01-01'\n",
    "train = tsla_df[tsla_df.index < split_date]\n",
    "\n",
    "# Cell 3: Call the function and get the best order\n",
    "# Pass the correct Series to your function\n",
    "# Corrected code with .dropna()\n",
    "auto_model = find_best_arima_params(train['Adj Close'])\n",
    "\n",
    "# .order is an attribute (a variable), not a function. You access it directly.\n",
    "best_order = auto_model.order \n",
    "\n",
    "print(f\"\\nBest ARIMA order found: {best_order}\")"
   ]
  },
  {
   "cell_type": "markdown",
   "id": "e62f2352",
   "metadata": {},
   "source": [
    "This result is a classic and very important finding in financial time series analysis.\n",
    "\n",
    "The `auto_arima` function has determined that the best statistical model for the TSLA stock price data is **ARIMA(0, 1, 0)**.\n",
    "\n",
    "## What This Means: A Random Walk 🎲\n",
    "\n",
    "An ARIMA(0, 1, 0) model is known as a **Random Walk**. Let's break down what each number means:\n",
    "\n",
    "* **`p=0` (Autoregressive):** The model does not use any past price values to predict the next price.\n",
    "* **`d=1` (Integrated):** The data needed one round of differencing to become stationary. This means the model is focused on predicting the daily *change* in price, not the price level itself.\n",
    "* **`q=0` (Moving Average):** The model does not use any past forecast errors to improve its predictions.\n",
    "\n",
    "When you combine these, the model essentially says that the change in price from one day to the next is random noise. The mathematical formula for a random walk is:\n",
    "\n",
    "$$Y_t = Y_{t-1} + \\epsilon_t$$\n",
    "\n",
    "In plain English, this means:\n",
    "\n",
    "> **Tomorrow's Price = Today's Price + Unpredictable Random Change**\n",
    "\n",
    "This result strongly supports the **Efficient Market Hypothesis (EMH)**, which states that stock prices already reflect all available information. Therefore, past price movements cannot be used to predict future movements, making the daily changes effectively random.\n"
   ]
  },
  {
   "cell_type": "code",
   "execution_count": 10,
   "id": "e6e33b64",
   "metadata": {},
   "outputs": [
    {
     "name": "stdout",
     "output_type": "stream",
     "text": [
      "\n",
      "Training final ARIMA(0, 1, 0) model...\n",
      "                               SARIMAX Results                                \n",
      "==============================================================================\n",
      "Dep. Variable:              Adj Close   No. Observations:                 2218\n",
      "Model:                 ARIMA(0, 1, 0)   Log Likelihood               -7031.311\n",
      "Date:                Sun, 10 Aug 2025   AIC                          14064.621\n",
      "Time:                        02:39:06   BIC                          14070.325\n",
      "Sample:                    07-01-2015   HQIC                         14066.705\n",
      "                         - 12-29-2023                                         \n",
      "Covariance Type:                  opg                                         \n",
      "==============================================================================\n",
      "                 coef    std err          z      P>|z|      [0.025      0.975]\n",
      "------------------------------------------------------------------------------\n",
      "sigma2        33.2890      0.384     86.711      0.000      32.537      34.041\n",
      "===================================================================================\n",
      "Ljung-Box (L1) (Q):                   2.15   Jarque-Bera (JB):             12407.83\n",
      "Prob(Q):                              0.14   Prob(JB):                         0.00\n",
      "Heteroskedasticity (H):             443.26   Skew:                            -0.16\n",
      "Prob(H) (two-sided):                  0.00   Kurtosis:                        14.59\n",
      "===================================================================================\n",
      "\n",
      "Warnings:\n",
      "[1] Covariance matrix calculated using the outer product of gradients (complex-step).\n",
      "Generating forecast for the next 414 steps...\n"
     ]
    }
   ],
   "source": [
    "test = tsla_df[tsla_df.index >= split_date]\n",
    "fitted_model = train_arima_model(train['Adj Close'], best_order)\n",
    "forecast =forecast_with_arima(fitted_model, steps=len(test))\n",
    "forecast.index = test.index # Align forecast index with test set for plotting"
   ]
  },
  {
   "cell_type": "code",
   "execution_count": 11,
   "id": "73200e83",
   "metadata": {},
   "outputs": [
    {
     "name": "stdout",
     "output_type": "stream",
     "text": [
      "\n",
      "--- Forecast Evaluation Metrics ---\n",
      "Mean Absolute Error (MAE): 63.7119\n",
      "Root Mean Squared Error (RMSE): 78.9858\n",
      "Mean Absolute Percentage Error (MAPE): 0.2415\n"
     ]
    }
   ],
   "source": [
    "# Calculate and display the performance metrics.\n",
    "metrics = evaluate_forecast(test['Adj Close'], forecast)"
   ]
  },
  {
   "cell_type": "markdown",
   "id": "cb09fd85",
   "metadata": {},
   "source": [
    "Here is an interpretation of your forecast evaluation metrics.\n",
    "\n",
    "These numbers give us a clear picture of the ARIMA model's performance on the test data. In short, they indicate a significant, though not unexpected, level of error.\n",
    "\n",
    "---\n",
    "## ## Mean Absolute Error (MAE): 63.71\n",
    "\n",
    "**What it means:** This is the most straightforward metric. It tells you that, on average, the model's price forecast was off by about **$63.71** on any given day in the test period.\n",
    "\n",
    "---\n",
    "## ## Root Mean Squared Error (RMSE): 78.99\n",
    "\n",
    "**What it means:** Like MAE, this measures the average error in dollars. However, the RMSE **penalizes larger errors more heavily** than smaller ones.\n",
    "\n",
    "**The Insight:** Your RMSE (**$78.99**) is noticeably higher than your MAE (**$63.71**). This indicates that while the *average* error was around $64, there were some days where the model's forecast was *very* wrong, and these large errors are inflating the RMSE value.\n",
    "\n",
    "---\n",
    "## ## Mean Absolute Percentage Error (MAPE): 24.15%\n",
    "\n",
    "**What it means:** This is often the most intuitive metric. It shows that, on average, the model's forecast was **24.15%** different from the actual stock price.\n",
    "\n",
    "**The Insight:** An average error of over 24% is quite high and confirms that while the ARIMA model provides a statistical baseline, it is not reliable for making precise price predictions. This level of error is common when forecasting highly volatile assets, as the model struggles to predict the market's random, day-to-day movements.\n",
    "\n",
    "### Overall Assessment\n",
    "\n",
    "These results establish a clear benchmark for your classical model. The model provides a basic forecast, but the high error metrics highlight the inherent difficulty of predicting stock prices. The next step will be to see if the more complex LSTM model can improve upon these numbers."
   ]
  },
  {
   "cell_type": "code",
   "execution_count": 12,
   "id": "b03024bb",
   "metadata": {},
   "outputs": [],
   "source": [
    "# --- 1. Scale the Data ---\n",
    "# We use MinMaxScaler to scale the data between 0 and 1.\n",
    "# IMPORTANT: Fit the scaler ONLY on the training data to avoid data leakage.\n",
    "#scaler = MinMaxScaler(feature_range=(0, 1))\n",
    "#scaled_train_data = scaler.fit_transform(train)\n",
    "#scaled_test_data = scaler.transform(test)\n"
   ]
  },
  {
   "cell_type": "code",
   "execution_count": null,
   "id": "7349ea2d",
   "metadata": {},
   "outputs": [],
   "source": []
  },
  {
   "cell_type": "code",
   "execution_count": 13,
   "id": "c49e1d3b",
   "metadata": {},
   "outputs": [
    {
     "name": "stdout",
     "output_type": "stream",
     "text": [
      "Data successfully converted to sequences.\n"
     ]
    }
   ],
   "source": [
    "# --- 1. Import necessary libraries ---\n",
    "from sklearn.preprocessing import MinMaxScaler\n",
    "from tensorflow.keras.models import Sequential\n",
    "from tensorflow.keras.layers import Dense, LSTM, Dropout\n",
    "from sklearn.metrics import mean_absolute_error, mean_squared_error, mean_absolute_percentage_error\n",
    "import numpy as np\n",
    "import pandas as pd\n",
    "\n",
    "# --- 2. LSTM Data Preparation ---\n",
    "# Scale the data\n",
    "scaler = MinMaxScaler(feature_range=(0, 1))\n",
    "scaled_train_data = scaler.fit_transform(train)\n",
    "scaled_test_data = scaler.transform(test)\n",
    "\n",
    "# Create sequences function\n",
    "def create_dataset(dataset, time_step=60):\n",
    "    dataX, dataY = [], []\n",
    "    for i in range(len(dataset) - time_step):\n",
    "        a = dataset[i:(i + time_step), 0]\n",
    "        dataX.append(a)\n",
    "        dataY.append(dataset[i + time_step, 0])\n",
    "    return np.array(dataX), np.array(dataY)\n",
    "\n",
    "# Define the timestep and create the datasets\n",
    "time_step = 60\n",
    "X_train, y_train = create_dataset(scaled_train_data, time_step)\n",
    "X_test, y_test = create_dataset(scaled_test_data, time_step)\n",
    "\n",
    "# Reshape the data to 3D for the LSTM model\n",
    "X_train = X_train.reshape(X_train.shape[0], X_train.shape[1], 1)\n",
    "X_test = X_test.reshape(X_test.shape[0], X_test.shape[1], 1)\n",
    "\n",
    "\n",
    "print(\"Data successfully converted to sequences.\")\n"
   ]
  },
  {
   "cell_type": "code",
   "execution_count": 14,
   "id": "04366faf",
   "metadata": {},
   "outputs": [
    {
     "name": "stdout",
     "output_type": "stream",
     "text": [
      "--- LSTM Model Architecture ---\n"
     ]
    },
    {
     "name": "stderr",
     "output_type": "stream",
     "text": [
      "c:\\Users\\ABC\\Desktop\\10Acadamy\\week_11\\Time-Series-Forecasting\\.venv\\Lib\\site-packages\\keras\\src\\layers\\rnn\\rnn.py:199: UserWarning: Do not pass an `input_shape`/`input_dim` argument to a layer. When using Sequential models, prefer using an `Input(shape)` object as the first layer in the model instead.\n",
      "  super().__init__(**kwargs)\n"
     ]
    },
    {
     "data": {
      "text/html": [
       "<pre style=\"white-space:pre;overflow-x:auto;line-height:normal;font-family:Menlo,'DejaVu Sans Mono',consolas,'Courier New',monospace\"><span style=\"font-weight: bold\">Model: \"sequential\"</span>\n",
       "</pre>\n"
      ],
      "text/plain": [
       "\u001b[1mModel: \"sequential\"\u001b[0m\n"
      ]
     },
     "metadata": {},
     "output_type": "display_data"
    },
    {
     "data": {
      "text/html": [
       "<pre style=\"white-space:pre;overflow-x:auto;line-height:normal;font-family:Menlo,'DejaVu Sans Mono',consolas,'Courier New',monospace\">┏━━━━━━━━━━━━━━━━━━━━━━━━━━━━━━━━━┳━━━━━━━━━━━━━━━━━━━━━━━━┳━━━━━━━━━━━━━━━┓\n",
       "┃<span style=\"font-weight: bold\"> Layer (type)                    </span>┃<span style=\"font-weight: bold\"> Output Shape           </span>┃<span style=\"font-weight: bold\">       Param # </span>┃\n",
       "┡━━━━━━━━━━━━━━━━━━━━━━━━━━━━━━━━━╇━━━━━━━━━━━━━━━━━━━━━━━━╇━━━━━━━━━━━━━━━┩\n",
       "│ lstm (<span style=\"color: #0087ff; text-decoration-color: #0087ff\">LSTM</span>)                     │ (<span style=\"color: #00d7ff; text-decoration-color: #00d7ff\">None</span>, <span style=\"color: #00af00; text-decoration-color: #00af00\">60</span>, <span style=\"color: #00af00; text-decoration-color: #00af00\">50</span>)         │        <span style=\"color: #00af00; text-decoration-color: #00af00\">10,400</span> │\n",
       "├─────────────────────────────────┼────────────────────────┼───────────────┤\n",
       "│ dropout (<span style=\"color: #0087ff; text-decoration-color: #0087ff\">Dropout</span>)               │ (<span style=\"color: #00d7ff; text-decoration-color: #00d7ff\">None</span>, <span style=\"color: #00af00; text-decoration-color: #00af00\">60</span>, <span style=\"color: #00af00; text-decoration-color: #00af00\">50</span>)         │             <span style=\"color: #00af00; text-decoration-color: #00af00\">0</span> │\n",
       "├─────────────────────────────────┼────────────────────────┼───────────────┤\n",
       "│ lstm_1 (<span style=\"color: #0087ff; text-decoration-color: #0087ff\">LSTM</span>)                   │ (<span style=\"color: #00d7ff; text-decoration-color: #00d7ff\">None</span>, <span style=\"color: #00af00; text-decoration-color: #00af00\">50</span>)             │        <span style=\"color: #00af00; text-decoration-color: #00af00\">20,200</span> │\n",
       "├─────────────────────────────────┼────────────────────────┼───────────────┤\n",
       "│ dropout_1 (<span style=\"color: #0087ff; text-decoration-color: #0087ff\">Dropout</span>)             │ (<span style=\"color: #00d7ff; text-decoration-color: #00d7ff\">None</span>, <span style=\"color: #00af00; text-decoration-color: #00af00\">50</span>)             │             <span style=\"color: #00af00; text-decoration-color: #00af00\">0</span> │\n",
       "├─────────────────────────────────┼────────────────────────┼───────────────┤\n",
       "│ dense (<span style=\"color: #0087ff; text-decoration-color: #0087ff\">Dense</span>)                   │ (<span style=\"color: #00d7ff; text-decoration-color: #00d7ff\">None</span>, <span style=\"color: #00af00; text-decoration-color: #00af00\">25</span>)             │         <span style=\"color: #00af00; text-decoration-color: #00af00\">1,275</span> │\n",
       "├─────────────────────────────────┼────────────────────────┼───────────────┤\n",
       "│ dense_1 (<span style=\"color: #0087ff; text-decoration-color: #0087ff\">Dense</span>)                 │ (<span style=\"color: #00d7ff; text-decoration-color: #00d7ff\">None</span>, <span style=\"color: #00af00; text-decoration-color: #00af00\">1</span>)              │            <span style=\"color: #00af00; text-decoration-color: #00af00\">26</span> │\n",
       "└─────────────────────────────────┴────────────────────────┴───────────────┘\n",
       "</pre>\n"
      ],
      "text/plain": [
       "┏━━━━━━━━━━━━━━━━━━━━━━━━━━━━━━━━━┳━━━━━━━━━━━━━━━━━━━━━━━━┳━━━━━━━━━━━━━━━┓\n",
       "┃\u001b[1m \u001b[0m\u001b[1mLayer (type)                   \u001b[0m\u001b[1m \u001b[0m┃\u001b[1m \u001b[0m\u001b[1mOutput Shape          \u001b[0m\u001b[1m \u001b[0m┃\u001b[1m \u001b[0m\u001b[1m      Param #\u001b[0m\u001b[1m \u001b[0m┃\n",
       "┡━━━━━━━━━━━━━━━━━━━━━━━━━━━━━━━━━╇━━━━━━━━━━━━━━━━━━━━━━━━╇━━━━━━━━━━━━━━━┩\n",
       "│ lstm (\u001b[38;5;33mLSTM\u001b[0m)                     │ (\u001b[38;5;45mNone\u001b[0m, \u001b[38;5;34m60\u001b[0m, \u001b[38;5;34m50\u001b[0m)         │        \u001b[38;5;34m10,400\u001b[0m │\n",
       "├─────────────────────────────────┼────────────────────────┼───────────────┤\n",
       "│ dropout (\u001b[38;5;33mDropout\u001b[0m)               │ (\u001b[38;5;45mNone\u001b[0m, \u001b[38;5;34m60\u001b[0m, \u001b[38;5;34m50\u001b[0m)         │             \u001b[38;5;34m0\u001b[0m │\n",
       "├─────────────────────────────────┼────────────────────────┼───────────────┤\n",
       "│ lstm_1 (\u001b[38;5;33mLSTM\u001b[0m)                   │ (\u001b[38;5;45mNone\u001b[0m, \u001b[38;5;34m50\u001b[0m)             │        \u001b[38;5;34m20,200\u001b[0m │\n",
       "├─────────────────────────────────┼────────────────────────┼───────────────┤\n",
       "│ dropout_1 (\u001b[38;5;33mDropout\u001b[0m)             │ (\u001b[38;5;45mNone\u001b[0m, \u001b[38;5;34m50\u001b[0m)             │             \u001b[38;5;34m0\u001b[0m │\n",
       "├─────────────────────────────────┼────────────────────────┼───────────────┤\n",
       "│ dense (\u001b[38;5;33mDense\u001b[0m)                   │ (\u001b[38;5;45mNone\u001b[0m, \u001b[38;5;34m25\u001b[0m)             │         \u001b[38;5;34m1,275\u001b[0m │\n",
       "├─────────────────────────────────┼────────────────────────┼───────────────┤\n",
       "│ dense_1 (\u001b[38;5;33mDense\u001b[0m)                 │ (\u001b[38;5;45mNone\u001b[0m, \u001b[38;5;34m1\u001b[0m)              │            \u001b[38;5;34m26\u001b[0m │\n",
       "└─────────────────────────────────┴────────────────────────┴───────────────┘\n"
      ]
     },
     "metadata": {},
     "output_type": "display_data"
    },
    {
     "data": {
      "text/html": [
       "<pre style=\"white-space:pre;overflow-x:auto;line-height:normal;font-family:Menlo,'DejaVu Sans Mono',consolas,'Courier New',monospace\"><span style=\"font-weight: bold\"> Total params: </span><span style=\"color: #00af00; text-decoration-color: #00af00\">31,901</span> (124.61 KB)\n",
       "</pre>\n"
      ],
      "text/plain": [
       "\u001b[1m Total params: \u001b[0m\u001b[38;5;34m31,901\u001b[0m (124.61 KB)\n"
      ]
     },
     "metadata": {},
     "output_type": "display_data"
    },
    {
     "data": {
      "text/html": [
       "<pre style=\"white-space:pre;overflow-x:auto;line-height:normal;font-family:Menlo,'DejaVu Sans Mono',consolas,'Courier New',monospace\"><span style=\"font-weight: bold\"> Trainable params: </span><span style=\"color: #00af00; text-decoration-color: #00af00\">31,901</span> (124.61 KB)\n",
       "</pre>\n"
      ],
      "text/plain": [
       "\u001b[1m Trainable params: \u001b[0m\u001b[38;5;34m31,901\u001b[0m (124.61 KB)\n"
      ]
     },
     "metadata": {},
     "output_type": "display_data"
    },
    {
     "data": {
      "text/html": [
       "<pre style=\"white-space:pre;overflow-x:auto;line-height:normal;font-family:Menlo,'DejaVu Sans Mono',consolas,'Courier New',monospace\"><span style=\"font-weight: bold\"> Non-trainable params: </span><span style=\"color: #00af00; text-decoration-color: #00af00\">0</span> (0.00 B)\n",
       "</pre>\n"
      ],
      "text/plain": [
       "\u001b[1m Non-trainable params: \u001b[0m\u001b[38;5;34m0\u001b[0m (0.00 B)\n"
      ]
     },
     "metadata": {},
     "output_type": "display_data"
    },
    {
     "name": "stdout",
     "output_type": "stream",
     "text": [
      "\n",
      "--- Training the LSTM Model ---\n",
      "Epoch 1/25\n",
      "\u001b[1m68/68\u001b[0m \u001b[32m━━━━━━━━━━━━━━━━━━━━\u001b[0m\u001b[37m\u001b[0m \u001b[1m8s\u001b[0m 50ms/step - loss: 0.0129\n",
      "Epoch 2/25\n",
      "\u001b[1m68/68\u001b[0m \u001b[32m━━━━━━━━━━━━━━━━━━━━\u001b[0m\u001b[37m\u001b[0m \u001b[1m3s\u001b[0m 47ms/step - loss: 0.0027\n",
      "Epoch 3/25\n",
      "\u001b[1m68/68\u001b[0m \u001b[32m━━━━━━━━━━━━━━━━━━━━\u001b[0m\u001b[37m\u001b[0m \u001b[1m3s\u001b[0m 49ms/step - loss: 0.0025\n",
      "Epoch 4/25\n",
      "\u001b[1m68/68\u001b[0m \u001b[32m━━━━━━━━━━━━━━━━━━━━\u001b[0m\u001b[37m\u001b[0m \u001b[1m3s\u001b[0m 46ms/step - loss: 0.0020\n",
      "Epoch 5/25\n",
      "\u001b[1m68/68\u001b[0m \u001b[32m━━━━━━━━━━━━━━━━━━━━\u001b[0m\u001b[37m\u001b[0m \u001b[1m3s\u001b[0m 49ms/step - loss: 0.0017\n",
      "Epoch 6/25\n",
      "\u001b[1m68/68\u001b[0m \u001b[32m━━━━━━━━━━━━━━━━━━━━\u001b[0m\u001b[37m\u001b[0m \u001b[1m4s\u001b[0m 52ms/step - loss: 0.0018\n",
      "Epoch 7/25\n",
      "\u001b[1m68/68\u001b[0m \u001b[32m━━━━━━━━━━━━━━━━━━━━\u001b[0m\u001b[37m\u001b[0m \u001b[1m3s\u001b[0m 49ms/step - loss: 0.0015\n",
      "Epoch 8/25\n",
      "\u001b[1m68/68\u001b[0m \u001b[32m━━━━━━━━━━━━━━━━━━━━\u001b[0m\u001b[37m\u001b[0m \u001b[1m4s\u001b[0m 52ms/step - loss: 0.0015\n",
      "Epoch 9/25\n",
      "\u001b[1m68/68\u001b[0m \u001b[32m━━━━━━━━━━━━━━━━━━━━\u001b[0m\u001b[37m\u001b[0m \u001b[1m3s\u001b[0m 48ms/step - loss: 0.0013\n",
      "Epoch 10/25\n",
      "\u001b[1m68/68\u001b[0m \u001b[32m━━━━━━━━━━━━━━━━━━━━\u001b[0m\u001b[37m\u001b[0m \u001b[1m3s\u001b[0m 47ms/step - loss: 0.0013\n",
      "Epoch 11/25\n",
      "\u001b[1m68/68\u001b[0m \u001b[32m━━━━━━━━━━━━━━━━━━━━\u001b[0m\u001b[37m\u001b[0m \u001b[1m4s\u001b[0m 51ms/step - loss: 0.0013\n",
      "Epoch 12/25\n",
      "\u001b[1m68/68\u001b[0m \u001b[32m━━━━━━━━━━━━━━━━━━━━\u001b[0m\u001b[37m\u001b[0m \u001b[1m4s\u001b[0m 52ms/step - loss: 0.0013\n",
      "Epoch 13/25\n",
      "\u001b[1m68/68\u001b[0m \u001b[32m━━━━━━━━━━━━━━━━━━━━\u001b[0m\u001b[37m\u001b[0m \u001b[1m3s\u001b[0m 50ms/step - loss: 0.0012\n",
      "Epoch 14/25\n",
      "\u001b[1m68/68\u001b[0m \u001b[32m━━━━━━━━━━━━━━━━━━━━\u001b[0m\u001b[37m\u001b[0m \u001b[1m3s\u001b[0m 48ms/step - loss: 0.0013\n",
      "Epoch 15/25\n",
      "\u001b[1m68/68\u001b[0m \u001b[32m━━━━━━━━━━━━━━━━━━━━\u001b[0m\u001b[37m\u001b[0m \u001b[1m3s\u001b[0m 48ms/step - loss: 0.0012\n",
      "Epoch 16/25\n",
      "\u001b[1m68/68\u001b[0m \u001b[32m━━━━━━━━━━━━━━━━━━━━\u001b[0m\u001b[37m\u001b[0m \u001b[1m3s\u001b[0m 50ms/step - loss: 0.0011\n",
      "Epoch 17/25\n",
      "\u001b[1m68/68\u001b[0m \u001b[32m━━━━━━━━━━━━━━━━━━━━\u001b[0m\u001b[37m\u001b[0m \u001b[1m4s\u001b[0m 57ms/step - loss: 0.0011\n",
      "Epoch 18/25\n",
      "\u001b[1m68/68\u001b[0m \u001b[32m━━━━━━━━━━━━━━━━━━━━\u001b[0m\u001b[37m\u001b[0m \u001b[1m3s\u001b[0m 49ms/step - loss: 0.0011\n",
      "Epoch 19/25\n",
      "\u001b[1m68/68\u001b[0m \u001b[32m━━━━━━━━━━━━━━━━━━━━\u001b[0m\u001b[37m\u001b[0m \u001b[1m4s\u001b[0m 52ms/step - loss: 0.0012\n",
      "Epoch 20/25\n",
      "\u001b[1m68/68\u001b[0m \u001b[32m━━━━━━━━━━━━━━━━━━━━\u001b[0m\u001b[37m\u001b[0m \u001b[1m3s\u001b[0m 51ms/step - loss: 0.0011\n",
      "Epoch 21/25\n",
      "\u001b[1m68/68\u001b[0m \u001b[32m━━━━━━━━━━━━━━━━━━━━\u001b[0m\u001b[37m\u001b[0m \u001b[1m4s\u001b[0m 52ms/step - loss: 0.0010\n",
      "Epoch 22/25\n",
      "\u001b[1m68/68\u001b[0m \u001b[32m━━━━━━━━━━━━━━━━━━━━\u001b[0m\u001b[37m\u001b[0m \u001b[1m4s\u001b[0m 55ms/step - loss: 0.0011\n",
      "Epoch 23/25\n",
      "\u001b[1m68/68\u001b[0m \u001b[32m━━━━━━━━━━━━━━━━━━━━\u001b[0m\u001b[37m\u001b[0m \u001b[1m3s\u001b[0m 48ms/step - loss: 0.0011\n",
      "Epoch 24/25\n",
      "\u001b[1m68/68\u001b[0m \u001b[32m━━━━━━━━━━━━━━━━━━━━\u001b[0m\u001b[37m\u001b[0m \u001b[1m3s\u001b[0m 46ms/step - loss: 0.0011\n",
      "Epoch 25/25\n",
      "\u001b[1m68/68\u001b[0m \u001b[32m━━━━━━━━━━━━━━━━━━━━\u001b[0m\u001b[37m\u001b[0m \u001b[1m3s\u001b[0m 50ms/step - loss: 0.0010\n",
      "\n",
      "Model training complete.\n"
     ]
    }
   ],
   "source": [
    "# Now, call the function to get your trained model\n",
    "trained_model = build_and_train_lstm(X_train, y_train, epochs=25)"
   ]
  },
  {
   "cell_type": "code",
   "execution_count": 15,
   "id": "30f4065e",
   "metadata": {},
   "outputs": [
    {
     "name": "stdout",
     "output_type": "stream",
     "text": [
      "Saving the trained model...\n",
      "Model saved to tsla_lstm_model.keras\n",
      "\n",
      "Loading the model from the file...\n",
      "Model loaded successfully.\n"
     ]
    },
    {
     "data": {
      "text/html": [
       "<pre style=\"white-space:pre;overflow-x:auto;line-height:normal;font-family:Menlo,'DejaVu Sans Mono',consolas,'Courier New',monospace\"><span style=\"font-weight: bold\">Model: \"sequential\"</span>\n",
       "</pre>\n"
      ],
      "text/plain": [
       "\u001b[1mModel: \"sequential\"\u001b[0m\n"
      ]
     },
     "metadata": {},
     "output_type": "display_data"
    },
    {
     "data": {
      "text/html": [
       "<pre style=\"white-space:pre;overflow-x:auto;line-height:normal;font-family:Menlo,'DejaVu Sans Mono',consolas,'Courier New',monospace\">┏━━━━━━━━━━━━━━━━━━━━━━━━━━━━━━━━━┳━━━━━━━━━━━━━━━━━━━━━━━━┳━━━━━━━━━━━━━━━┓\n",
       "┃<span style=\"font-weight: bold\"> Layer (type)                    </span>┃<span style=\"font-weight: bold\"> Output Shape           </span>┃<span style=\"font-weight: bold\">       Param # </span>┃\n",
       "┡━━━━━━━━━━━━━━━━━━━━━━━━━━━━━━━━━╇━━━━━━━━━━━━━━━━━━━━━━━━╇━━━━━━━━━━━━━━━┩\n",
       "│ lstm (<span style=\"color: #0087ff; text-decoration-color: #0087ff\">LSTM</span>)                     │ (<span style=\"color: #00d7ff; text-decoration-color: #00d7ff\">None</span>, <span style=\"color: #00af00; text-decoration-color: #00af00\">60</span>, <span style=\"color: #00af00; text-decoration-color: #00af00\">50</span>)         │        <span style=\"color: #00af00; text-decoration-color: #00af00\">10,400</span> │\n",
       "├─────────────────────────────────┼────────────────────────┼───────────────┤\n",
       "│ dropout (<span style=\"color: #0087ff; text-decoration-color: #0087ff\">Dropout</span>)               │ (<span style=\"color: #00d7ff; text-decoration-color: #00d7ff\">None</span>, <span style=\"color: #00af00; text-decoration-color: #00af00\">60</span>, <span style=\"color: #00af00; text-decoration-color: #00af00\">50</span>)         │             <span style=\"color: #00af00; text-decoration-color: #00af00\">0</span> │\n",
       "├─────────────────────────────────┼────────────────────────┼───────────────┤\n",
       "│ lstm_1 (<span style=\"color: #0087ff; text-decoration-color: #0087ff\">LSTM</span>)                   │ (<span style=\"color: #00d7ff; text-decoration-color: #00d7ff\">None</span>, <span style=\"color: #00af00; text-decoration-color: #00af00\">50</span>)             │        <span style=\"color: #00af00; text-decoration-color: #00af00\">20,200</span> │\n",
       "├─────────────────────────────────┼────────────────────────┼───────────────┤\n",
       "│ dropout_1 (<span style=\"color: #0087ff; text-decoration-color: #0087ff\">Dropout</span>)             │ (<span style=\"color: #00d7ff; text-decoration-color: #00d7ff\">None</span>, <span style=\"color: #00af00; text-decoration-color: #00af00\">50</span>)             │             <span style=\"color: #00af00; text-decoration-color: #00af00\">0</span> │\n",
       "├─────────────────────────────────┼────────────────────────┼───────────────┤\n",
       "│ dense (<span style=\"color: #0087ff; text-decoration-color: #0087ff\">Dense</span>)                   │ (<span style=\"color: #00d7ff; text-decoration-color: #00d7ff\">None</span>, <span style=\"color: #00af00; text-decoration-color: #00af00\">25</span>)             │         <span style=\"color: #00af00; text-decoration-color: #00af00\">1,275</span> │\n",
       "├─────────────────────────────────┼────────────────────────┼───────────────┤\n",
       "│ dense_1 (<span style=\"color: #0087ff; text-decoration-color: #0087ff\">Dense</span>)                 │ (<span style=\"color: #00d7ff; text-decoration-color: #00d7ff\">None</span>, <span style=\"color: #00af00; text-decoration-color: #00af00\">1</span>)              │            <span style=\"color: #00af00; text-decoration-color: #00af00\">26</span> │\n",
       "└─────────────────────────────────┴────────────────────────┴───────────────┘\n",
       "</pre>\n"
      ],
      "text/plain": [
       "┏━━━━━━━━━━━━━━━━━━━━━━━━━━━━━━━━━┳━━━━━━━━━━━━━━━━━━━━━━━━┳━━━━━━━━━━━━━━━┓\n",
       "┃\u001b[1m \u001b[0m\u001b[1mLayer (type)                   \u001b[0m\u001b[1m \u001b[0m┃\u001b[1m \u001b[0m\u001b[1mOutput Shape          \u001b[0m\u001b[1m \u001b[0m┃\u001b[1m \u001b[0m\u001b[1m      Param #\u001b[0m\u001b[1m \u001b[0m┃\n",
       "┡━━━━━━━━━━━━━━━━━━━━━━━━━━━━━━━━━╇━━━━━━━━━━━━━━━━━━━━━━━━╇━━━━━━━━━━━━━━━┩\n",
       "│ lstm (\u001b[38;5;33mLSTM\u001b[0m)                     │ (\u001b[38;5;45mNone\u001b[0m, \u001b[38;5;34m60\u001b[0m, \u001b[38;5;34m50\u001b[0m)         │        \u001b[38;5;34m10,400\u001b[0m │\n",
       "├─────────────────────────────────┼────────────────────────┼───────────────┤\n",
       "│ dropout (\u001b[38;5;33mDropout\u001b[0m)               │ (\u001b[38;5;45mNone\u001b[0m, \u001b[38;5;34m60\u001b[0m, \u001b[38;5;34m50\u001b[0m)         │             \u001b[38;5;34m0\u001b[0m │\n",
       "├─────────────────────────────────┼────────────────────────┼───────────────┤\n",
       "│ lstm_1 (\u001b[38;5;33mLSTM\u001b[0m)                   │ (\u001b[38;5;45mNone\u001b[0m, \u001b[38;5;34m50\u001b[0m)             │        \u001b[38;5;34m20,200\u001b[0m │\n",
       "├─────────────────────────────────┼────────────────────────┼───────────────┤\n",
       "│ dropout_1 (\u001b[38;5;33mDropout\u001b[0m)             │ (\u001b[38;5;45mNone\u001b[0m, \u001b[38;5;34m50\u001b[0m)             │             \u001b[38;5;34m0\u001b[0m │\n",
       "├─────────────────────────────────┼────────────────────────┼───────────────┤\n",
       "│ dense (\u001b[38;5;33mDense\u001b[0m)                   │ (\u001b[38;5;45mNone\u001b[0m, \u001b[38;5;34m25\u001b[0m)             │         \u001b[38;5;34m1,275\u001b[0m │\n",
       "├─────────────────────────────────┼────────────────────────┼───────────────┤\n",
       "│ dense_1 (\u001b[38;5;33mDense\u001b[0m)                 │ (\u001b[38;5;45mNone\u001b[0m, \u001b[38;5;34m1\u001b[0m)              │            \u001b[38;5;34m26\u001b[0m │\n",
       "└─────────────────────────────────┴────────────────────────┴───────────────┘\n"
      ]
     },
     "metadata": {},
     "output_type": "display_data"
    },
    {
     "data": {
      "text/html": [
       "<pre style=\"white-space:pre;overflow-x:auto;line-height:normal;font-family:Menlo,'DejaVu Sans Mono',consolas,'Courier New',monospace\"><span style=\"font-weight: bold\"> Total params: </span><span style=\"color: #00af00; text-decoration-color: #00af00\">95,705</span> (373.85 KB)\n",
       "</pre>\n"
      ],
      "text/plain": [
       "\u001b[1m Total params: \u001b[0m\u001b[38;5;34m95,705\u001b[0m (373.85 KB)\n"
      ]
     },
     "metadata": {},
     "output_type": "display_data"
    },
    {
     "data": {
      "text/html": [
       "<pre style=\"white-space:pre;overflow-x:auto;line-height:normal;font-family:Menlo,'DejaVu Sans Mono',consolas,'Courier New',monospace\"><span style=\"font-weight: bold\"> Trainable params: </span><span style=\"color: #00af00; text-decoration-color: #00af00\">31,901</span> (124.61 KB)\n",
       "</pre>\n"
      ],
      "text/plain": [
       "\u001b[1m Trainable params: \u001b[0m\u001b[38;5;34m31,901\u001b[0m (124.61 KB)\n"
      ]
     },
     "metadata": {},
     "output_type": "display_data"
    },
    {
     "data": {
      "text/html": [
       "<pre style=\"white-space:pre;overflow-x:auto;line-height:normal;font-family:Menlo,'DejaVu Sans Mono',consolas,'Courier New',monospace\"><span style=\"font-weight: bold\"> Non-trainable params: </span><span style=\"color: #00af00; text-decoration-color: #00af00\">0</span> (0.00 B)\n",
       "</pre>\n"
      ],
      "text/plain": [
       "\u001b[1m Non-trainable params: \u001b[0m\u001b[38;5;34m0\u001b[0m (0.00 B)\n"
      ]
     },
     "metadata": {},
     "output_type": "display_data"
    },
    {
     "data": {
      "text/html": [
       "<pre style=\"white-space:pre;overflow-x:auto;line-height:normal;font-family:Menlo,'DejaVu Sans Mono',consolas,'Courier New',monospace\"><span style=\"font-weight: bold\"> Optimizer params: </span><span style=\"color: #00af00; text-decoration-color: #00af00\">63,804</span> (249.24 KB)\n",
       "</pre>\n"
      ],
      "text/plain": [
       "\u001b[1m Optimizer params: \u001b[0m\u001b[38;5;34m63,804\u001b[0m (249.24 KB)\n"
      ]
     },
     "metadata": {},
     "output_type": "display_data"
    }
   ],
   "source": [
    "from tensorflow.keras.models import load_model\n",
    "import numpy as np\n",
    "\n",
    "# --- 1. SAVING THE MODEL ---\n",
    "# This would come right after your model.fit() call\n",
    "\n",
    "print(\"Saving the trained model...\")\n",
    "model_filename = 'tsla_lstm_model.keras'\n",
    "trained_model.save(model_filename)\n",
    "print(f\"Model saved to {model_filename}\")\n",
    "\n",
    "\n",
    "# --- 2. LOADING THE MODEL (Example for future use) ---\n",
    "# You can run this part in a new script without retraining.\n",
    "\n",
    "print(\"\\nLoading the model from the file...\")\n",
    "loaded_model = load_model(model_filename)\n",
    "print(\"Model loaded successfully.\")\n",
    "\n",
    "# You can verify it works by looking at its summary\n",
    "loaded_model.summary()\n",
    "\n",
    "# Or by making a prediction on some dummy data\n",
    "# dummy_input = np.random.rand(1, 60, 1) # 1 sample, 60 time steps, 1 feature\n",
    "# prediction = loaded_model.predict(dummy_input)\n",
    "# print(f\"\\nPrediction using loaded model: {prediction[0][0]}\")"
   ]
  },
  {
   "cell_type": "code",
   "execution_count": 17,
   "id": "679a103e",
   "metadata": {},
   "outputs": [
    {
     "name": "stdout",
     "output_type": "stream",
     "text": [
      "Making predictions on the test data...\n",
      "\u001b[1m12/12\u001b[0m \u001b[32m━━━━━━━━━━━━━━━━━━━━\u001b[0m\u001b[37m\u001b[0m \u001b[1m0s\u001b[0m 22ms/step\n",
      "\n",
      "--- LSTM Forecast Evaluation Metrics ---\n",
      "Mean Absolute Error (MAE): 12.58\n",
      "Root Mean Squared Error (RMSE): 17.57\n",
      "Mean Absolute Percentage Error (MAPE): 4.46%\n"
     ]
    }
   ],
   "source": [
    "\n",
    "\n",
    "# --- 4. Prediction and Evaluation (Corrected) ---\n",
    "print(\"Making predictions on the test data...\")\n",
    "lstm_predictions_scaled = trained_model.predict(X_test)\n",
    "\n",
    "# Inverse transform predictions and actual values\n",
    "lstm_forecast = scaler.inverse_transform(lstm_predictions_scaled)\n",
    "y_test_actual = scaler.inverse_transform(y_test.reshape(-1, 1))\n",
    "\n",
    "# Create a date index that EXACTLY matches the number of predictions\n",
    "# The forecast starts 'time_step' days into the test set.\n",
    "forecast_index = test.index[time_step : len(lstm_forecast) + time_step]\n",
    "forecast_df = pd.DataFrame(lstm_forecast, index=forecast_index, columns=['Forecast'])\n",
    "\n",
    "# Calculate performance metrics\n",
    "mae = mean_absolute_error(y_test_actual, lstm_forecast)\n",
    "rmse = np.sqrt(mean_squared_error(y_test_actual, lstm_forecast))\n",
    "mape = mean_absolute_percentage_error(y_test_actual, lstm_forecast)\n",
    "\n",
    "# Print the results\n",
    "print(\"\\n--- LSTM Forecast Evaluation Metrics ---\")\n",
    "print(f\"Mean Absolute Error (MAE): {mae:.2f}\")\n",
    "print(f\"Root Mean Squared Error (RMSE): {rmse:.2f}\")\n",
    "print(f\"Mean Absolute Percentage Error (MAPE): {mape:.2%}\")"
   ]
  },
  {
   "cell_type": "markdown",
   "id": "91a4ff4f",
   "metadata": {},
   "source": [
    "# LSTM Model Performance Evaluation \n",
    "\n",
    "These metrics show your LSTM model performed very well on the unseen test data, with a low average error.\n",
    "\n",
    "---\n",
    "## ## Mean Absolute Error (MAE): 12.58\n",
    "\n",
    "This is the most direct measure of error. It means that, on an average day in the test period, the model's price forecast was off by about **$12.58**.\n",
    "\n",
    "---\n",
    "## ## Root Mean Squared Error (RMSE): 17.57\n",
    "\n",
    "This also measures the average error, but it **penalizes larger errors more heavily** than smaller ones.\n",
    "\n",
    "The fact that your RMSE (**$17.57**) is higher than your MAE (**$12.58**) tells you that the model had some days where its prediction was significantly wrong. These few large errors pull the RMSE value up more than the MAE.\n",
    "\n",
    "\n",
    "---\n",
    "## ## Mean Absolute Percentage Error (MAPE): 4.46%\n",
    "\n",
    "This is often the easiest metric to understand. It means that, on average, the model's forecast was **4.46%** different from the actual stock price. For a volatile stock, a MAPE under 5% is generally considered a very strong result.\n",
    "\n",
    "---\n",
    "## ## Final Takeaway\n",
    "\n",
    "The LSTM model has demonstrated strong predictive performance. The low MAPE of **4.46%** is a significant improvement over the ARIMA model's baseline (which had a MAPE over 20%), successfully demonstrating that the more complex deep learning model was better at forecasting on this particular dataset."
   ]
  },
  {
   "cell_type": "code",
   "execution_count": 18,
   "id": "ce529ebd",
   "metadata": {},
   "outputs": [
    {
     "data": {
      "image/png": "[encoded data removed]",
      "text/plain": [
       "<Figure size 1600x800 with 1 Axes>"
      ]
     },
     "metadata": {},
     "output_type": "display_data"
    }
   ],
   "source": [
    "# This assumes you have the following variables ready:\n",
    "# train, test, forecast_arima, forecast_lstm\n",
    "\n",
    "import matplotlib.pyplot as plt\n",
    "\n",
    "plt.figure(figsize=(16, 8))\n",
    "\n",
    "# Plot historical data\n",
    "plt.plot(train['Adj Close'], label='Training Data')\n",
    "plt.plot(test['Adj Close'], label='Actual Prices (Test Set)', color='orange', linewidth=2)\n",
    "\n",
    "# Plot the forecasts\n",
    "plt.plot(forecast, label='ARIMA Forecast', color='green', linestyle='--')\n",
    "plt.plot(lstm_forecast, label='LSTM Forecast', color='red', linestyle=':')\n",
    "\n",
    "# Add titles and labels\n",
    "plt.title('TSLA Stock Price: ARIMA vs. LSTM Forecast')\n",
    "plt.xlabel('Date')\n",
    "plt.ylabel('Adjusted Close Price')\n",
    "plt.legend()\n",
    "plt.grid(True)\n",
    "plt.show()"
   ]
  },
  {
   "cell_type": "code",
   "execution_count": null,
   "id": "bac74c97",
   "metadata": {},
   "outputs": [],
   "source": [
    "import plotly.graph_objects as go\n",
    "import pandas as pd\n",
    "\n",
    "# --- ASSUMPTIONS ---\n",
    "# This script assumes the following variables are already defined:\n",
    "#\n",
    "# train_df: A pandas DataFrame with a DatetimeIndex and an 'Adj Close' column for training.\n",
    "# test_df: A pandas DataFrame with a DatetimeIndex and an 'Adj Close' column for testing.\n",
    "# arima_forecast: A pandas Series containing the forecast from the ARIMA model.\n",
    "# lstm_forecast_values: The raw NumPy array of predictions from the LSTM model.\n",
    "# time_step: The integer used for the LSTM sequences (e.g., 60).\n",
    "\n",
    "\n",
    "# --- 1. Correct the LSTM Forecast Index ---\n",
    "# This is the key step to fix the 1970 date issue. We create a pandas Series\n",
    "# that combines the LSTM predictions with the correct dates from the test set index.\n",
    "forecast_index = .index[time_step : len(lstm_forecast) + time_step]\n",
    "lstm_forecast = pd.Series(lstm_forecast.flatten(), index=forecast_index, name='LSTM Forecast')\n",
    "\n",
    "\n",
    "# --- 2. Create the Plotly Figure ---\n",
    "\n",
    "# Initialize an empty figure\n",
    "fig = go.Figure()\n",
    "\n",
    "# Add Training Data trace\n",
    "fig.add_trace(go.Scatter(\n",
    "    x=train_df.index, \n",
    "    y=train_df['Adj Close'],\n",
    "    mode='lines',\n",
    "    name='Training Data',\n",
    "    line=dict(color='royalblue')\n",
    "))\n",
    "\n",
    "# Add Actual Prices (Test Set) trace\n",
    "fig.add_trace(go.Scatter(\n",
    "    x=test_df.index, \n",
    "    y=test_df['Adj Close'],\n",
    "    mode='lines',\n",
    "    name='Actual Prices (Test Set)',\n",
    "    line=dict(color='orange', width=3)\n",
    "))\n",
    "\n",
    "# Add ARIMA Forecast trace\n",
    "fig.add_trace(go.Scatter(\n",
    "    x=forecast.index, \n",
    "    y=forecast,\n",
    "    mode='lines',\n",
    "    name='ARIMA Forecast',\n",
    "    line=dict(color='green', dash='dash')\n",
    "))\n",
    "\n",
    "# Add the correctly indexed LSTM Forecast trace\n",
    "fig.add_trace(go.Scatter(\n",
    "    x=lstm_forecast.index, \n",
    "    y=lstm_forecast,\n",
    "    mode='lines',\n",
    "    name='LSTM Forecast',\n",
    "    line=dict(color='red', dash='dot')\n",
    "))\n",
    "\n",
    "# 3. Update the layout with titles, labels, and a clean theme\n",
    "fig.update_layout(\n",
    "    title='TSLA Stock Price: ARIMA vs. LSTM Forecast',\n",
    "    xaxis_title='Date',\n",
    "    yaxis_title='Adjusted Close Price',\n",
    "    template='plotly_white',\n",
    "    legend=dict(x=0.01, y=0.99)\n",
    ")\n",
    "\n",
    "# 4. Show the interactive plot\n",
    "fig.show()"
   ]
  }
 ],
 "metadata": {
  "kernelspec": {
   "display_name": "Time-Series-Forecasting",
   "language": "python",
   "name": "python3"
  },
  "language_info": {
   "codemirror_mode": {
    "name": "ipython",
    "version": 3
   },
   "file_extension": ".py",
   "mimetype": "text/x-python",
   "name": "python",
   "nbconvert_exporter": "python",
   "pygments_lexer": "ipython3",
   "version": "3.12.11"
  }
 },
 "nbformat": 4,
 "nbformat_minor": 5
}
